{
 "cells": [
  {
   "cell_type": "markdown",
   "source": [
    "### Импортируем библиотеки"
   ],
   "metadata": {
    "collapsed": false,
    "pycharm": {
     "name": "#%% md\n"
    }
   }
  },
  {
   "cell_type": "code",
   "execution_count": 47,
   "outputs": [],
   "source": [
    "import pickle\n",
    "import numpy as np\n",
    "import pandas as pd\n",
    "from docx import Document"
   ],
   "metadata": {
    "collapsed": false,
    "pycharm": {
     "name": "#%%\n"
    }
   }
  },
  {
   "cell_type": "markdown",
   "source": [
    "### Считываем исходную таблицу из файла"
   ],
   "metadata": {
    "collapsed": false,
    "pycharm": {
     "name": "#%% md\n"
    }
   }
  },
  {
   "cell_type": "code",
   "execution_count": 48,
   "outputs": [],
   "source": [
    "def parse_docx_table(filename: str):\n",
    "    document = Document(filename)\n",
    "\n",
    "    tables = []\n",
    "    for table in document.tables:\n",
    "        # список списков с пустыми строками - структура будущего датафрейма\n",
    "        df = [['' for x in range(len(table.columns))] for y in range(len(table.rows))]\n",
    "        # заполняем дф данными из табл\n",
    "        for x, row in enumerate(table.rows):\n",
    "            for y, cell in enumerate(row.cells):\n",
    "                if cell.text:\n",
    "                    df[x][y] = cell.text\n",
    "        tables.append(pd.DataFrame(df))\n",
    "\n",
    "    return tables"
   ],
   "metadata": {
    "collapsed": false,
    "pycharm": {
     "name": "#%%\n"
    }
   }
  },
  {
   "cell_type": "code",
   "execution_count": 49,
   "outputs": [],
   "source": [
    "# берем первую таблицу из списка\n",
    "init_df = parse_docx_table('DE_task_table.docx')[0]\n",
    "# заголовк таблицы - первый ряд\n",
    "header = init_df.iloc[0]\n",
    "# убираем первый ряд из таблицы\n",
    "init_df = init_df[1:]\n",
    "# назначаем название колонок дф\n",
    "init_df.columns = header"
   ],
   "metadata": {
    "collapsed": false,
    "pycharm": {
     "name": "#%%\n"
    }
   }
  },
  {
   "cell_type": "code",
   "execution_count": 50,
   "outputs": [],
   "source": [
    "# переводим формат дат, год 9999 заменяем на nan обработкой ошибок\n",
    "init_df['start_date']= pd.to_datetime(init_df['start_date'], format=\"%d.%m.%Y\", errors = 'coerce',)\n",
    "init_df['finish_date']= pd.to_datetime(init_df['finish_date'], format=\"%d.%m.%Y\", errors = 'coerce',)"
   ],
   "metadata": {
    "collapsed": false,
    "pycharm": {
     "name": "#%%\n"
    }
   }
  },
  {
   "cell_type": "code",
   "execution_count": 51,
   "outputs": [
    {
     "name": "stderr",
     "output_type": "stream",
     "text": [
      "/home/varsey-fabuza/PycharmProjects/dashboard-formation/env/lib/python3.10/site-packages/pandas/core/arrays/datetimes.py:339: UserWarning: Parsing '31.10.2020' in DD/MM/YYYY format. Provide format or specify infer_datetime_format=True for consistent parsing.\n",
      "  return cls._from_sequence_not_strict(scalars, dtype=dtype, copy=copy)\n",
      "/home/varsey-fabuza/PycharmProjects/dashboard-formation/env/lib/python3.10/site-packages/pandas/core/arrays/datetimes.py:339: UserWarning: Parsing '30.09.2020' in DD/MM/YYYY format. Provide format or specify infer_datetime_format=True for consistent parsing.\n",
      "  return cls._from_sequence_not_strict(scalars, dtype=dtype, copy=copy)\n"
     ]
    }
   ],
   "source": [
    "# правило №2\n",
    "init_df.loc[init_df['finish_date'].isnull(), 'finish_date'] = init_df['end_da']"
   ],
   "metadata": {
    "collapsed": false,
    "pycharm": {
     "name": "#%%\n"
    }
   }
  },
  {
   "cell_type": "code",
   "execution_count": 52,
   "outputs": [
    {
     "data": {
      "text/plain": "0 tab_num start_date finish_date wday_type01 wday_type02 wday_type03  \\\n1   15123 2020-09-02  2020-10-31           0           0           0   \n2   16234 2020-09-20  2020-10-30           0           0           1   \n3   17345 2020-09-28  2020-10-25           1           0           0   \n4   17345 2020-10-26  2020-12-31           1           1           1   \n5   18456 2020-09-02  2020-09-30           2           2           2   \n6   19567 2020-09-02  2020-12-31           3           3           3   \n\n0 wday_type04 wday_type05 wplace_type      end_da  \n1           0           0           0  31.10.2020  \n2           1           0           2              \n3           0           0           2              \n4           1           1           1              \n5           2           2           3  30.09.2020  \n6           3           3           4              ",
      "text/html": "<div>\n<style scoped>\n    .dataframe tbody tr th:only-of-type {\n        vertical-align: middle;\n    }\n\n    .dataframe tbody tr th {\n        vertical-align: top;\n    }\n\n    .dataframe thead th {\n        text-align: right;\n    }\n</style>\n<table border=\"1\" class=\"dataframe\">\n  <thead>\n    <tr style=\"text-align: right;\">\n      <th></th>\n      <th>tab_num</th>\n      <th>start_date</th>\n      <th>finish_date</th>\n      <th>wday_type01</th>\n      <th>wday_type02</th>\n      <th>wday_type03</th>\n      <th>wday_type04</th>\n      <th>wday_type05</th>\n      <th>wplace_type</th>\n      <th>end_da</th>\n    </tr>\n  </thead>\n  <tbody>\n    <tr>\n      <th>1</th>\n      <td>15123</td>\n      <td>2020-09-02</td>\n      <td>2020-10-31</td>\n      <td>0</td>\n      <td>0</td>\n      <td>0</td>\n      <td>0</td>\n      <td>0</td>\n      <td>0</td>\n      <td>31.10.2020</td>\n    </tr>\n    <tr>\n      <th>2</th>\n      <td>16234</td>\n      <td>2020-09-20</td>\n      <td>2020-10-30</td>\n      <td>0</td>\n      <td>0</td>\n      <td>1</td>\n      <td>1</td>\n      <td>0</td>\n      <td>2</td>\n      <td></td>\n    </tr>\n    <tr>\n      <th>3</th>\n      <td>17345</td>\n      <td>2020-09-28</td>\n      <td>2020-10-25</td>\n      <td>1</td>\n      <td>0</td>\n      <td>0</td>\n      <td>0</td>\n      <td>0</td>\n      <td>2</td>\n      <td></td>\n    </tr>\n    <tr>\n      <th>4</th>\n      <td>17345</td>\n      <td>2020-10-26</td>\n      <td>2020-12-31</td>\n      <td>1</td>\n      <td>1</td>\n      <td>1</td>\n      <td>1</td>\n      <td>1</td>\n      <td>1</td>\n      <td></td>\n    </tr>\n    <tr>\n      <th>5</th>\n      <td>18456</td>\n      <td>2020-09-02</td>\n      <td>2020-09-30</td>\n      <td>2</td>\n      <td>2</td>\n      <td>2</td>\n      <td>2</td>\n      <td>2</td>\n      <td>3</td>\n      <td>30.09.2020</td>\n    </tr>\n    <tr>\n      <th>6</th>\n      <td>19567</td>\n      <td>2020-09-02</td>\n      <td>2020-12-31</td>\n      <td>3</td>\n      <td>3</td>\n      <td>3</td>\n      <td>3</td>\n      <td>3</td>\n      <td>4</td>\n      <td></td>\n    </tr>\n  </tbody>\n</table>\n</div>"
     },
     "execution_count": 52,
     "metadata": {},
     "output_type": "execute_result"
    }
   ],
   "source": [
    "init_df"
   ],
   "metadata": {
    "collapsed": false,
    "pycharm": {
     "name": "#%%\n"
    }
   }
  },
  {
   "cell_type": "code",
   "execution_count": 53,
   "outputs": [],
   "source": [
    "# словарь для каждого номера ряда исходной таблицы с датой старта и окончания режима\n",
    "start_date_dict = dict(zip(range(init_df.shape[0]), init_df.start_date.to_list()))\n",
    "finish_date_dict = dict(zip(range(init_df.shape[0]), init_df.finish_date.to_list()))"
   ],
   "metadata": {
    "collapsed": false,
    "pycharm": {
     "name": "#%%\n"
    }
   }
  },
  {
   "cell_type": "code",
   "execution_count": 54,
   "outputs": [],
   "source": [
    "dash = pd.DataFrame()\n",
    "# для каждого ряда - свой датафрейм по правилам №1 и №2\n",
    "for num, tab_num in enumerate(init_df.tab_num.to_list()):\n",
    "    interim = pd.DataFrame()\n",
    "    interim['ymd_date'] = pd.date_range(start='2020-09-01', end='2020-12-31', freq='D')\n",
    "    # дополнительные фичи для правила №8\n",
    "    interim['weekday'] = interim['ymd_date'].dt.dayofweek\n",
    "    interim['week'] = interim['ymd_date'].dt.isocalendar().week\n",
    "    interim['week'] = interim['week'] - interim['week'].min()\n",
    "    interim['halfweek'] = interim['week'] // 2\n",
    "    interim['tab_num'] = tab_num\n",
    "    interim['start_date'] = start_date_dict[num]\n",
    "    interim['finish_date'] = finish_date_dict[num]\n",
    "    dash = pd.concat([dash, interim])\n",
    "dash['to_be_at_office'] = np.nan"
   ],
   "metadata": {
    "collapsed": false,
    "pycharm": {
     "name": "#%%\n"
    }
   }
  },
  {
   "cell_type": "code",
   "execution_count": 55,
   "outputs": [
    {
     "data": {
      "text/plain": "['17345']"
     },
     "execution_count": 55,
     "metadata": {},
     "output_type": "execute_result"
    }
   ],
   "source": [
    "repeated_tab_num = [x for x in init_df[init_df['tab_num'].duplicated()].tab_num.values]\n",
    "repeated_tab_num"
   ],
   "metadata": {
    "collapsed": false,
    "pycharm": {
     "name": "#%%\n"
    }
   }
  },
  {
   "cell_type": "code",
   "execution_count": 56,
   "outputs": [],
   "source": [
    "def process_duplicated_tab_num(init_df: pd.DataFrame, repeated_tab_nums: list):\n",
    "    dash_merged = init_df.copy()\n",
    "    for tab_num in repeated_tab_nums:\n",
    "        dash_merged = pd.concat(\n",
    "            [\n",
    "                dash_merged[~dash_merged.tab_num.isin([tab_num])],\n",
    "                pd.merge(\n",
    "                    dash_merged.loc[(dash_merged['tab_num'] == tab_num)][['ymd_date', 'weekday', 'tab_num']],\n",
    "                    dash_merged.loc[\n",
    "                        (dash_merged['tab_num'] == tab_num) &\n",
    "                        (dash_merged['ymd_date'] <= dash_merged['finish_date']) &\n",
    "                        (dash_merged['ymd_date'] >= dash_merged['start_date'])\n",
    "                    ],\n",
    "                    how='left'\n",
    "                ).drop_duplicates()\n",
    "            ]\n",
    "        )\n",
    "        print(dash_merged.shape)\n",
    "    return dash_merged"
   ],
   "metadata": {
    "collapsed": false,
    "pycharm": {
     "name": "#%%\n"
    }
   }
  },
  {
   "cell_type": "code",
   "execution_count": 57,
   "outputs": [
    {
     "name": "stdout",
     "output_type": "stream",
     "text": [
      "(610, 8)\n"
     ]
    }
   ],
   "source": [
    "dash_merged = process_duplicated_tab_num(dash, repeated_tab_num)"
   ],
   "metadata": {
    "collapsed": false,
    "pycharm": {
     "name": "#%%\n"
    }
   }
  },
  {
   "cell_type": "code",
   "execution_count": 58,
   "outputs": [
    {
     "data": {
      "text/plain": "((732, 8), (610, 8), 610)"
     },
     "execution_count": 58,
     "metadata": {},
     "output_type": "execute_result"
    }
   ],
   "source": [
    "dash.shape, dash_merged.shape, 122*5"
   ],
   "metadata": {
    "collapsed": false,
    "pycharm": {
     "name": "#%%\n"
    }
   }
  },
  {
   "cell_type": "code",
   "execution_count": 59,
   "outputs": [],
   "source": [
    "assert dash_merged.shape[0] == 122 * len(dash.tab_num.unique())"
   ],
   "metadata": {
    "collapsed": false,
    "pycharm": {
     "name": "#%%\n"
    }
   }
  },
  {
   "cell_type": "code",
   "execution_count": 60,
   "outputs": [
    {
     "data": {
      "text/plain": "     ymd_date  weekday  week  halfweek tab_num start_date finish_date  \\\n22 2020-09-23        2     3         1   18456 2020-09-02  2020-09-30   \n49 2020-10-20        1     7         3   19567 2020-09-02  2020-12-31   \n83 2020-11-23        0    12         6   15123 2020-09-02  2020-10-31   \n23 2020-09-24        3     3         1   16234 2020-09-20  2020-10-30   \n60 2020-10-31        5     8         4   16234 2020-09-20  2020-10-30   \n\n    to_be_at_office  \n22              NaN  \n49              NaN  \n83              NaN  \n23              NaN  \n60              NaN  ",
      "text/html": "<div>\n<style scoped>\n    .dataframe tbody tr th:only-of-type {\n        vertical-align: middle;\n    }\n\n    .dataframe tbody tr th {\n        vertical-align: top;\n    }\n\n    .dataframe thead th {\n        text-align: right;\n    }\n</style>\n<table border=\"1\" class=\"dataframe\">\n  <thead>\n    <tr style=\"text-align: right;\">\n      <th></th>\n      <th>ymd_date</th>\n      <th>weekday</th>\n      <th>week</th>\n      <th>halfweek</th>\n      <th>tab_num</th>\n      <th>start_date</th>\n      <th>finish_date</th>\n      <th>to_be_at_office</th>\n    </tr>\n  </thead>\n  <tbody>\n    <tr>\n      <th>22</th>\n      <td>2020-09-23</td>\n      <td>2</td>\n      <td>3</td>\n      <td>1</td>\n      <td>18456</td>\n      <td>2020-09-02</td>\n      <td>2020-09-30</td>\n      <td>NaN</td>\n    </tr>\n    <tr>\n      <th>49</th>\n      <td>2020-10-20</td>\n      <td>1</td>\n      <td>7</td>\n      <td>3</td>\n      <td>19567</td>\n      <td>2020-09-02</td>\n      <td>2020-12-31</td>\n      <td>NaN</td>\n    </tr>\n    <tr>\n      <th>83</th>\n      <td>2020-11-23</td>\n      <td>0</td>\n      <td>12</td>\n      <td>6</td>\n      <td>15123</td>\n      <td>2020-09-02</td>\n      <td>2020-10-31</td>\n      <td>NaN</td>\n    </tr>\n    <tr>\n      <th>23</th>\n      <td>2020-09-24</td>\n      <td>3</td>\n      <td>3</td>\n      <td>1</td>\n      <td>16234</td>\n      <td>2020-09-20</td>\n      <td>2020-10-30</td>\n      <td>NaN</td>\n    </tr>\n    <tr>\n      <th>60</th>\n      <td>2020-10-31</td>\n      <td>5</td>\n      <td>8</td>\n      <td>4</td>\n      <td>16234</td>\n      <td>2020-09-20</td>\n      <td>2020-10-30</td>\n      <td>NaN</td>\n    </tr>\n  </tbody>\n</table>\n</div>"
     },
     "execution_count": 60,
     "metadata": {},
     "output_type": "execute_result"
    }
   ],
   "source": [
    "dash_merged.sample(5)"
   ],
   "metadata": {
    "collapsed": false,
    "pycharm": {
     "name": "#%%\n"
    }
   }
  },
  {
   "cell_type": "code",
   "execution_count": 15,
   "outputs": [],
   "source": [
    "with open('dash_merged.pickle', 'wb') as handle:\n",
    "    pickle.dump(dash_merged, handle, protocol=pickle.HIGHEST_PROTOCOL)\n",
    "\n",
    "with open('init_df.pickle', 'wb') as handle:\n",
    "    pickle.dump(init_df, handle, protocol=pickle.HIGHEST_PROTOCOL)"
   ],
   "metadata": {
    "collapsed": false,
    "pycharm": {
     "name": "#%%\n"
    }
   }
  },
  {
   "cell_type": "code",
   "execution_count": 15,
   "outputs": [],
   "source": [],
   "metadata": {
    "collapsed": false,
    "pycharm": {
     "name": "#%%\n"
    }
   }
  },
  {
   "cell_type": "code",
   "execution_count": 15,
   "outputs": [],
   "source": [],
   "metadata": {
    "collapsed": false,
    "pycharm": {
     "name": "#%%\n"
    }
   }
  },
  {
   "cell_type": "code",
   "execution_count": 15,
   "outputs": [],
   "source": [],
   "metadata": {
    "collapsed": false,
    "pycharm": {
     "name": "#%%\n"
    }
   }
  },
  {
   "cell_type": "code",
   "execution_count": 15,
   "outputs": [],
   "source": [],
   "metadata": {
    "collapsed": false,
    "pycharm": {
     "name": "#%%\n"
    }
   }
  },
  {
   "cell_type": "code",
   "execution_count": 24,
   "outputs": [],
   "source": [],
   "metadata": {
    "collapsed": false,
    "pycharm": {
     "name": "#%%\n"
    }
   }
  },
  {
   "cell_type": "markdown",
   "source": [
    "## Обработку \"вручную\""
   ],
   "metadata": {
    "collapsed": false,
    "pycharm": {
     "name": "#%% md\n"
    }
   }
  },
  {
   "cell_type": "code",
   "execution_count": 61,
   "outputs": [],
   "source": [
    "start_date_dict = dict(zip(range(init_df.shape[0]), init_df.start_date.to_list()))\n",
    "finish_date_dict = dict(zip(range(init_df.shape[0]), init_df.finish_date.to_list()))"
   ],
   "metadata": {
    "collapsed": false,
    "pycharm": {
     "name": "#%%\n"
    }
   }
  },
  {
   "cell_type": "code",
   "execution_count": null,
   "outputs": [],
   "source": [],
   "metadata": {
    "collapsed": false,
    "pycharm": {
     "name": "#%%\n"
    }
   }
  },
  {
   "cell_type": "code",
   "execution_count": 62,
   "outputs": [
    {
     "data": {
      "text/plain": "'15123'"
     },
     "execution_count": 62,
     "metadata": {},
     "output_type": "execute_result"
    }
   ],
   "source": [
    "init_df.tab_num.unique()[0]"
   ],
   "metadata": {
    "collapsed": false,
    "pycharm": {
     "name": "#%%\n"
    }
   }
  },
  {
   "cell_type": "code",
   "execution_count": 63,
   "outputs": [
    {
     "name": "stdout",
     "output_type": "stream",
     "text": [
      "15123\n"
     ]
    }
   ],
   "source": [
    "# офисная работа wplace_type = 0\n",
    "tab_num_index = 0\n",
    "dash_merged.loc[\n",
    "    (dash_merged['tab_num'] == init_df.tab_num.to_list()[tab_num_index]) &\n",
    "    (dash_merged['ymd_date'] <= finish_date_dict[tab_num_index].to_datetime64()) &\n",
    "    (dash_merged['ymd_date'] >= start_date_dict[tab_num_index].to_datetime64()) &\n",
    "    (dash_merged['weekday'] != 5) &\n",
    "    (dash_merged['weekday'] != 6),\n",
    "    'to_be_at_office'\n",
    "] = 1"
   ],
   "metadata": {
    "collapsed": false,
    "pycharm": {
     "name": "#%%\n"
    }
   }
  },
  {
   "cell_type": "code",
   "execution_count": 64,
   "outputs": [
    {
     "data": {
      "text/plain": "      ymd_date  weekday  week  halfweek tab_num start_date finish_date  \\\n0   2020-09-01        1     0         0   15123 2020-09-02  2020-10-31   \n1   2020-09-02        2     0         0   15123 2020-09-02  2020-10-31   \n2   2020-09-03        3     0         0   15123 2020-09-02  2020-10-31   \n3   2020-09-04        4     0         0   15123 2020-09-02  2020-10-31   \n4   2020-09-05        5     0         0   15123 2020-09-02  2020-10-31   \n..         ...      ...   ...       ...     ...        ...         ...   \n117 2020-12-27        6    16         8   15123 2020-09-02  2020-10-31   \n118 2020-12-28        0    17         8   15123 2020-09-02  2020-10-31   \n119 2020-12-29        1    17         8   15123 2020-09-02  2020-10-31   \n120 2020-12-30        2    17         8   15123 2020-09-02  2020-10-31   \n121 2020-12-31        3    17         8   15123 2020-09-02  2020-10-31   \n\n     to_be_at_office  \n0                NaN  \n1                1.0  \n2                1.0  \n3                1.0  \n4                NaN  \n..               ...  \n117              NaN  \n118              NaN  \n119              NaN  \n120              NaN  \n121              NaN  \n\n[122 rows x 8 columns]",
      "text/html": "<div>\n<style scoped>\n    .dataframe tbody tr th:only-of-type {\n        vertical-align: middle;\n    }\n\n    .dataframe tbody tr th {\n        vertical-align: top;\n    }\n\n    .dataframe thead th {\n        text-align: right;\n    }\n</style>\n<table border=\"1\" class=\"dataframe\">\n  <thead>\n    <tr style=\"text-align: right;\">\n      <th></th>\n      <th>ymd_date</th>\n      <th>weekday</th>\n      <th>week</th>\n      <th>halfweek</th>\n      <th>tab_num</th>\n      <th>start_date</th>\n      <th>finish_date</th>\n      <th>to_be_at_office</th>\n    </tr>\n  </thead>\n  <tbody>\n    <tr>\n      <th>0</th>\n      <td>2020-09-01</td>\n      <td>1</td>\n      <td>0</td>\n      <td>0</td>\n      <td>15123</td>\n      <td>2020-09-02</td>\n      <td>2020-10-31</td>\n      <td>NaN</td>\n    </tr>\n    <tr>\n      <th>1</th>\n      <td>2020-09-02</td>\n      <td>2</td>\n      <td>0</td>\n      <td>0</td>\n      <td>15123</td>\n      <td>2020-09-02</td>\n      <td>2020-10-31</td>\n      <td>1.0</td>\n    </tr>\n    <tr>\n      <th>2</th>\n      <td>2020-09-03</td>\n      <td>3</td>\n      <td>0</td>\n      <td>0</td>\n      <td>15123</td>\n      <td>2020-09-02</td>\n      <td>2020-10-31</td>\n      <td>1.0</td>\n    </tr>\n    <tr>\n      <th>3</th>\n      <td>2020-09-04</td>\n      <td>4</td>\n      <td>0</td>\n      <td>0</td>\n      <td>15123</td>\n      <td>2020-09-02</td>\n      <td>2020-10-31</td>\n      <td>1.0</td>\n    </tr>\n    <tr>\n      <th>4</th>\n      <td>2020-09-05</td>\n      <td>5</td>\n      <td>0</td>\n      <td>0</td>\n      <td>15123</td>\n      <td>2020-09-02</td>\n      <td>2020-10-31</td>\n      <td>NaN</td>\n    </tr>\n    <tr>\n      <th>...</th>\n      <td>...</td>\n      <td>...</td>\n      <td>...</td>\n      <td>...</td>\n      <td>...</td>\n      <td>...</td>\n      <td>...</td>\n      <td>...</td>\n    </tr>\n    <tr>\n      <th>117</th>\n      <td>2020-12-27</td>\n      <td>6</td>\n      <td>16</td>\n      <td>8</td>\n      <td>15123</td>\n      <td>2020-09-02</td>\n      <td>2020-10-31</td>\n      <td>NaN</td>\n    </tr>\n    <tr>\n      <th>118</th>\n      <td>2020-12-28</td>\n      <td>0</td>\n      <td>17</td>\n      <td>8</td>\n      <td>15123</td>\n      <td>2020-09-02</td>\n      <td>2020-10-31</td>\n      <td>NaN</td>\n    </tr>\n    <tr>\n      <th>119</th>\n      <td>2020-12-29</td>\n      <td>1</td>\n      <td>17</td>\n      <td>8</td>\n      <td>15123</td>\n      <td>2020-09-02</td>\n      <td>2020-10-31</td>\n      <td>NaN</td>\n    </tr>\n    <tr>\n      <th>120</th>\n      <td>2020-12-30</td>\n      <td>2</td>\n      <td>17</td>\n      <td>8</td>\n      <td>15123</td>\n      <td>2020-09-02</td>\n      <td>2020-10-31</td>\n      <td>NaN</td>\n    </tr>\n    <tr>\n      <th>121</th>\n      <td>2020-12-31</td>\n      <td>3</td>\n      <td>17</td>\n      <td>8</td>\n      <td>15123</td>\n      <td>2020-09-02</td>\n      <td>2020-10-31</td>\n      <td>NaN</td>\n    </tr>\n  </tbody>\n</table>\n<p>122 rows × 8 columns</p>\n</div>"
     },
     "execution_count": 64,
     "metadata": {},
     "output_type": "execute_result"
    }
   ],
   "source": [
    "# смотрим что получилось\n",
    "dash_merged[dash_merged['tab_num'] == '15123']"
   ],
   "metadata": {
    "collapsed": false,
    "pycharm": {
     "name": "#%%\n"
    }
   }
  },
  {
   "cell_type": "code",
   "execution_count": 64,
   "outputs": [],
   "source": [],
   "metadata": {
    "collapsed": false,
    "pycharm": {
     "name": "#%%\n"
    }
   }
  },
  {
   "cell_type": "code",
   "execution_count": 64,
   "outputs": [],
   "source": [],
   "metadata": {
    "collapsed": false,
    "pycharm": {
     "name": "#%%\n"
    }
   }
  },
  {
   "cell_type": "code",
   "execution_count": 65,
   "outputs": [
    {
     "name": "stdout",
     "output_type": "stream",
     "text": [
      "17345\n"
     ]
    }
   ],
   "source": [
    "# Удаленная работа wplace_type = 1\n",
    "print(init_df.tab_num.to_list()[3])"
   ],
   "metadata": {
    "collapsed": false,
    "pycharm": {
     "name": "#%%\n"
    }
   }
  },
  {
   "cell_type": "code",
   "execution_count": 66,
   "outputs": [],
   "source": [
    "tab_num_index = 3\n",
    "dash_merged.loc[\n",
    "    (dash_merged['tab_num'] == init_df.tab_num.to_list()[tab_num_index]) &\n",
    "    (dash_merged['ymd_date'] <= finish_date_dict[tab_num_index].to_datetime64()) &\n",
    "    (dash_merged['ymd_date'] >= start_date_dict[tab_num_index].to_datetime64()) &\n",
    "    (dash_merged['weekday'] != 5) &\n",
    "    (dash_merged['weekday'] != 6),\n",
    "    'to_be_at_office'\n",
    "] = 0"
   ],
   "metadata": {
    "collapsed": false,
    "pycharm": {
     "name": "#%%\n"
    }
   }
  },
  {
   "cell_type": "code",
   "execution_count": 67,
   "outputs": [
    {
     "data": {
      "text/plain": "      ymd_date  weekday  week  halfweek tab_num start_date finish_date  \\\n0   2020-09-01        1  <NA>      <NA>   17345        NaT         NaT   \n1   2020-09-02        2  <NA>      <NA>   17345        NaT         NaT   \n2   2020-09-03        3  <NA>      <NA>   17345        NaT         NaT   \n3   2020-09-04        4  <NA>      <NA>   17345        NaT         NaT   \n4   2020-09-05        5  <NA>      <NA>   17345        NaT         NaT   \n..         ...      ...   ...       ...     ...        ...         ...   \n117 2020-12-27        6    16         8   17345 2020-10-26  2020-12-31   \n118 2020-12-28        0    17         8   17345 2020-10-26  2020-12-31   \n119 2020-12-29        1    17         8   17345 2020-10-26  2020-12-31   \n120 2020-12-30        2    17         8   17345 2020-10-26  2020-12-31   \n121 2020-12-31        3    17         8   17345 2020-10-26  2020-12-31   \n\n     to_be_at_office  \n0                NaN  \n1                NaN  \n2                NaN  \n3                NaN  \n4                NaN  \n..               ...  \n117              NaN  \n118              0.0  \n119              0.0  \n120              0.0  \n121              0.0  \n\n[122 rows x 8 columns]",
      "text/html": "<div>\n<style scoped>\n    .dataframe tbody tr th:only-of-type {\n        vertical-align: middle;\n    }\n\n    .dataframe tbody tr th {\n        vertical-align: top;\n    }\n\n    .dataframe thead th {\n        text-align: right;\n    }\n</style>\n<table border=\"1\" class=\"dataframe\">\n  <thead>\n    <tr style=\"text-align: right;\">\n      <th></th>\n      <th>ymd_date</th>\n      <th>weekday</th>\n      <th>week</th>\n      <th>halfweek</th>\n      <th>tab_num</th>\n      <th>start_date</th>\n      <th>finish_date</th>\n      <th>to_be_at_office</th>\n    </tr>\n  </thead>\n  <tbody>\n    <tr>\n      <th>0</th>\n      <td>2020-09-01</td>\n      <td>1</td>\n      <td>&lt;NA&gt;</td>\n      <td>&lt;NA&gt;</td>\n      <td>17345</td>\n      <td>NaT</td>\n      <td>NaT</td>\n      <td>NaN</td>\n    </tr>\n    <tr>\n      <th>1</th>\n      <td>2020-09-02</td>\n      <td>2</td>\n      <td>&lt;NA&gt;</td>\n      <td>&lt;NA&gt;</td>\n      <td>17345</td>\n      <td>NaT</td>\n      <td>NaT</td>\n      <td>NaN</td>\n    </tr>\n    <tr>\n      <th>2</th>\n      <td>2020-09-03</td>\n      <td>3</td>\n      <td>&lt;NA&gt;</td>\n      <td>&lt;NA&gt;</td>\n      <td>17345</td>\n      <td>NaT</td>\n      <td>NaT</td>\n      <td>NaN</td>\n    </tr>\n    <tr>\n      <th>3</th>\n      <td>2020-09-04</td>\n      <td>4</td>\n      <td>&lt;NA&gt;</td>\n      <td>&lt;NA&gt;</td>\n      <td>17345</td>\n      <td>NaT</td>\n      <td>NaT</td>\n      <td>NaN</td>\n    </tr>\n    <tr>\n      <th>4</th>\n      <td>2020-09-05</td>\n      <td>5</td>\n      <td>&lt;NA&gt;</td>\n      <td>&lt;NA&gt;</td>\n      <td>17345</td>\n      <td>NaT</td>\n      <td>NaT</td>\n      <td>NaN</td>\n    </tr>\n    <tr>\n      <th>...</th>\n      <td>...</td>\n      <td>...</td>\n      <td>...</td>\n      <td>...</td>\n      <td>...</td>\n      <td>...</td>\n      <td>...</td>\n      <td>...</td>\n    </tr>\n    <tr>\n      <th>117</th>\n      <td>2020-12-27</td>\n      <td>6</td>\n      <td>16</td>\n      <td>8</td>\n      <td>17345</td>\n      <td>2020-10-26</td>\n      <td>2020-12-31</td>\n      <td>NaN</td>\n    </tr>\n    <tr>\n      <th>118</th>\n      <td>2020-12-28</td>\n      <td>0</td>\n      <td>17</td>\n      <td>8</td>\n      <td>17345</td>\n      <td>2020-10-26</td>\n      <td>2020-12-31</td>\n      <td>0.0</td>\n    </tr>\n    <tr>\n      <th>119</th>\n      <td>2020-12-29</td>\n      <td>1</td>\n      <td>17</td>\n      <td>8</td>\n      <td>17345</td>\n      <td>2020-10-26</td>\n      <td>2020-12-31</td>\n      <td>0.0</td>\n    </tr>\n    <tr>\n      <th>120</th>\n      <td>2020-12-30</td>\n      <td>2</td>\n      <td>17</td>\n      <td>8</td>\n      <td>17345</td>\n      <td>2020-10-26</td>\n      <td>2020-12-31</td>\n      <td>0.0</td>\n    </tr>\n    <tr>\n      <th>121</th>\n      <td>2020-12-31</td>\n      <td>3</td>\n      <td>17</td>\n      <td>8</td>\n      <td>17345</td>\n      <td>2020-10-26</td>\n      <td>2020-12-31</td>\n      <td>0.0</td>\n    </tr>\n  </tbody>\n</table>\n<p>122 rows × 8 columns</p>\n</div>"
     },
     "execution_count": 67,
     "metadata": {},
     "output_type": "execute_result"
    }
   ],
   "source": [
    "dash_merged[dash_merged['tab_num'] == '17345']"
   ],
   "metadata": {
    "collapsed": false,
    "pycharm": {
     "name": "#%%\n"
    }
   }
  },
  {
   "cell_type": "code",
   "execution_count": 67,
   "outputs": [],
   "source": [],
   "metadata": {
    "collapsed": false,
    "pycharm": {
     "name": "#%%\n"
    }
   }
  },
  {
   "cell_type": "code",
   "execution_count": 68,
   "outputs": [],
   "source": [
    "# init_df[['wday_type01', 'wday_type02', 'wday_type03', 'wday_type04', 'wday_type05']][2:3].where('wday_type01 > 0') #.map({1 : 0, 1: 0})"
   ],
   "metadata": {
    "collapsed": false,
    "pycharm": {
     "name": "#%%\n"
    }
   }
  },
  {
   "cell_type": "code",
   "execution_count": null,
   "outputs": [],
   "source": [
    "# Смешанная работа wplace_type = 2\n",
    "print(init_df.tab_num.to_list()[2])"
   ],
   "metadata": {
    "collapsed": false,
    "pycharm": {
     "name": "#%%\n"
    }
   }
  },
  {
   "cell_type": "code",
   "execution_count": 69,
   "outputs": [],
   "source": [
    "tab_num_index = 2\n",
    "dash_merged.loc[\n",
    "    (dash_merged['tab_num'] == init_df.tab_num.to_list()[tab_num_index]) &\n",
    "    (dash_merged['ymd_date'] <= finish_date_dict[tab_num_index].to_datetime64()) &\n",
    "    (dash_merged['ymd_date'] >= start_date_dict[tab_num_index].to_datetime64()) &\n",
    "    (dash_merged['weekday'] != 5) &\n",
    "    (dash_merged['weekday'] != 6) &\n",
    "    (dash_merged['weekday'] == 0),\n",
    "    'to_be_at_office'\n",
    "] = 0"
   ],
   "metadata": {
    "collapsed": false,
    "pycharm": {
     "name": "#%%\n"
    }
   }
  },
  {
   "cell_type": "code",
   "execution_count": 70,
   "outputs": [],
   "source": [
    "tab_num_index = 2\n",
    "dash_merged.loc[\n",
    "    (\n",
    "        (dash_merged['tab_num'] == init_df.tab_num.to_list()[tab_num_index]) &\n",
    "        (dash_merged['ymd_date'] < finish_date_dict[tab_num_index].to_datetime64()) &\n",
    "        (dash_merged['ymd_date'] > start_date_dict[tab_num_index].to_datetime64()) &\n",
    "        (dash_merged['weekday'] != 5) &\n",
    "        (dash_merged['weekday'] != 6)\n",
    "    ) &\n",
    "    (\n",
    "        (dash_merged['weekday'].isin([1, 2, 3, 4]))\n",
    "    ),\n",
    "    'to_be_at_office'\n",
    "] = 1"
   ],
   "metadata": {
    "collapsed": false,
    "pycharm": {
     "name": "#%%\n"
    }
   }
  },
  {
   "cell_type": "code",
   "execution_count": null,
   "outputs": [],
   "source": [],
   "metadata": {
    "collapsed": false,
    "pycharm": {
     "name": "#%%\n"
    }
   }
  },
  {
   "cell_type": "code",
   "execution_count": 70,
   "outputs": [],
   "source": [
    "# Смешанная работа wplace_type = 2\n",
    "print(init_df.tab_num.to_list()[1])"
   ],
   "metadata": {
    "collapsed": false,
    "pycharm": {
     "name": "#%%\n"
    }
   }
  },
  {
   "cell_type": "code",
   "execution_count": 71,
   "outputs": [],
   "source": [
    "tab_num_index = 1\n",
    "dash_merged.loc[\n",
    "    (\n",
    "        (dash_merged['tab_num'] == init_df.tab_num.to_list()[tab_num_index]) &\n",
    "        (dash_merged['ymd_date'] <= finish_date_dict[tab_num_index].to_datetime64()) &\n",
    "        (dash_merged['ymd_date'] >= start_date_dict[tab_num_index].to_datetime64()) &\n",
    "        (dash_merged['weekday'] != 5) &\n",
    "        (dash_merged['weekday'] != 6)\n",
    "    ) &\n",
    "    (\n",
    "        (dash_merged['weekday'].isin([0, 1, 4]))\n",
    "    ),\n",
    "    'to_be_at_office'\n",
    "] = 1"
   ],
   "metadata": {
    "collapsed": false,
    "pycharm": {
     "name": "#%%\n"
    }
   }
  },
  {
   "cell_type": "code",
   "execution_count": 72,
   "outputs": [],
   "source": [
    "tab_num_index = 1\n",
    "dash_merged.loc[\n",
    "    (\n",
    "        (dash_merged['tab_num'] == init_df.tab_num.to_list()[tab_num_index]) &\n",
    "        (dash_merged['ymd_date'] <= finish_date_dict[tab_num_index].to_datetime64()) &\n",
    "        (dash_merged['ymd_date'] >= start_date_dict[tab_num_index].to_datetime64()) &\n",
    "        (dash_merged['weekday'] != 5) &\n",
    "        (dash_merged['weekday'] != 6)\n",
    "    )\n",
    "        &\n",
    "    (\n",
    "        (dash_merged['weekday'].isin([2, 3]))\n",
    "    ),\n",
    "    'to_be_at_office'\n",
    "] = 0"
   ],
   "metadata": {
    "collapsed": false,
    "pycharm": {
     "name": "#%%\n"
    }
   }
  },
  {
   "cell_type": "code",
   "execution_count": 73,
   "outputs": [
    {
     "data": {
      "text/plain": "      ymd_date  weekday  week  halfweek tab_num start_date finish_date  \\\n0   2020-09-01        1     0         0   16234 2020-09-20  2020-10-30   \n1   2020-09-02        2     0         0   16234 2020-09-20  2020-10-30   \n2   2020-09-03        3     0         0   16234 2020-09-20  2020-10-30   \n3   2020-09-04        4     0         0   16234 2020-09-20  2020-10-30   \n4   2020-09-05        5     0         0   16234 2020-09-20  2020-10-30   \n..         ...      ...   ...       ...     ...        ...         ...   \n117 2020-12-27        6    16         8   16234 2020-09-20  2020-10-30   \n118 2020-12-28        0    17         8   16234 2020-09-20  2020-10-30   \n119 2020-12-29        1    17         8   16234 2020-09-20  2020-10-30   \n120 2020-12-30        2    17         8   16234 2020-09-20  2020-10-30   \n121 2020-12-31        3    17         8   16234 2020-09-20  2020-10-30   \n\n     to_be_at_office  \n0                NaN  \n1                NaN  \n2                NaN  \n3                NaN  \n4                NaN  \n..               ...  \n117              NaN  \n118              NaN  \n119              NaN  \n120              NaN  \n121              NaN  \n\n[122 rows x 8 columns]",
      "text/html": "<div>\n<style scoped>\n    .dataframe tbody tr th:only-of-type {\n        vertical-align: middle;\n    }\n\n    .dataframe tbody tr th {\n        vertical-align: top;\n    }\n\n    .dataframe thead th {\n        text-align: right;\n    }\n</style>\n<table border=\"1\" class=\"dataframe\">\n  <thead>\n    <tr style=\"text-align: right;\">\n      <th></th>\n      <th>ymd_date</th>\n      <th>weekday</th>\n      <th>week</th>\n      <th>halfweek</th>\n      <th>tab_num</th>\n      <th>start_date</th>\n      <th>finish_date</th>\n      <th>to_be_at_office</th>\n    </tr>\n  </thead>\n  <tbody>\n    <tr>\n      <th>0</th>\n      <td>2020-09-01</td>\n      <td>1</td>\n      <td>0</td>\n      <td>0</td>\n      <td>16234</td>\n      <td>2020-09-20</td>\n      <td>2020-10-30</td>\n      <td>NaN</td>\n    </tr>\n    <tr>\n      <th>1</th>\n      <td>2020-09-02</td>\n      <td>2</td>\n      <td>0</td>\n      <td>0</td>\n      <td>16234</td>\n      <td>2020-09-20</td>\n      <td>2020-10-30</td>\n      <td>NaN</td>\n    </tr>\n    <tr>\n      <th>2</th>\n      <td>2020-09-03</td>\n      <td>3</td>\n      <td>0</td>\n      <td>0</td>\n      <td>16234</td>\n      <td>2020-09-20</td>\n      <td>2020-10-30</td>\n      <td>NaN</td>\n    </tr>\n    <tr>\n      <th>3</th>\n      <td>2020-09-04</td>\n      <td>4</td>\n      <td>0</td>\n      <td>0</td>\n      <td>16234</td>\n      <td>2020-09-20</td>\n      <td>2020-10-30</td>\n      <td>NaN</td>\n    </tr>\n    <tr>\n      <th>4</th>\n      <td>2020-09-05</td>\n      <td>5</td>\n      <td>0</td>\n      <td>0</td>\n      <td>16234</td>\n      <td>2020-09-20</td>\n      <td>2020-10-30</td>\n      <td>NaN</td>\n    </tr>\n    <tr>\n      <th>...</th>\n      <td>...</td>\n      <td>...</td>\n      <td>...</td>\n      <td>...</td>\n      <td>...</td>\n      <td>...</td>\n      <td>...</td>\n      <td>...</td>\n    </tr>\n    <tr>\n      <th>117</th>\n      <td>2020-12-27</td>\n      <td>6</td>\n      <td>16</td>\n      <td>8</td>\n      <td>16234</td>\n      <td>2020-09-20</td>\n      <td>2020-10-30</td>\n      <td>NaN</td>\n    </tr>\n    <tr>\n      <th>118</th>\n      <td>2020-12-28</td>\n      <td>0</td>\n      <td>17</td>\n      <td>8</td>\n      <td>16234</td>\n      <td>2020-09-20</td>\n      <td>2020-10-30</td>\n      <td>NaN</td>\n    </tr>\n    <tr>\n      <th>119</th>\n      <td>2020-12-29</td>\n      <td>1</td>\n      <td>17</td>\n      <td>8</td>\n      <td>16234</td>\n      <td>2020-09-20</td>\n      <td>2020-10-30</td>\n      <td>NaN</td>\n    </tr>\n    <tr>\n      <th>120</th>\n      <td>2020-12-30</td>\n      <td>2</td>\n      <td>17</td>\n      <td>8</td>\n      <td>16234</td>\n      <td>2020-09-20</td>\n      <td>2020-10-30</td>\n      <td>NaN</td>\n    </tr>\n    <tr>\n      <th>121</th>\n      <td>2020-12-31</td>\n      <td>3</td>\n      <td>17</td>\n      <td>8</td>\n      <td>16234</td>\n      <td>2020-09-20</td>\n      <td>2020-10-30</td>\n      <td>NaN</td>\n    </tr>\n  </tbody>\n</table>\n<p>122 rows × 8 columns</p>\n</div>"
     },
     "execution_count": 73,
     "metadata": {},
     "output_type": "execute_result"
    }
   ],
   "source": [
    "dash_merged[dash_merged['tab_num'] == init_df.tab_num.to_list()[1]]"
   ],
   "metadata": {
    "collapsed": false,
    "pycharm": {
     "name": "#%%\n"
    }
   }
  },
  {
   "cell_type": "code",
   "execution_count": 73,
   "outputs": [],
   "source": [],
   "metadata": {
    "collapsed": false,
    "pycharm": {
     "name": "#%%\n"
    }
   }
  },
  {
   "cell_type": "code",
   "execution_count": null,
   "outputs": [],
   "source": [
    "# Смешанная работа wplace_type = 3 неделя через неделю\n",
    "print(init_df.tab_num.to_list()[4])"
   ],
   "metadata": {
    "collapsed": false,
    "pycharm": {
     "name": "#%%\n"
    }
   }
  },
  {
   "cell_type": "code",
   "execution_count": 74,
   "outputs": [],
   "source": [
    "tab_num_index = 4\n",
    "dash_merged.loc[\n",
    "    (\n",
    "        (dash_merged['tab_num'] == init_df.tab_num.to_list()[tab_num_index]) &\n",
    "        (dash_merged['ymd_date'] <= finish_date_dict[tab_num_index].to_datetime64()) &\n",
    "        (dash_merged['ymd_date'] >= start_date_dict[tab_num_index].to_datetime64()) &\n",
    "        (dash_merged['weekday'] != 5) &\n",
    "        (dash_merged['weekday'] != 6)\n",
    "    )\n",
    "        &\n",
    "    (\n",
    "        (dash_merged['weekday'].isin([0, 1, 2, 3, 4]))\n",
    "    )\n",
    "            &\n",
    "    (\n",
    "        (dash_merged['week'] % 2 == 0)\n",
    "    ),\n",
    "    'to_be_at_office'\n",
    "] = 0"
   ],
   "metadata": {
    "collapsed": false,
    "pycharm": {
     "name": "#%%\n"
    }
   }
  },
  {
   "cell_type": "code",
   "execution_count": 75,
   "outputs": [],
   "source": [
    "tab_num_index = 4\n",
    "dash_merged.loc[\n",
    "    (\n",
    "        (dash_merged['tab_num'] == init_df.tab_num.to_list()[tab_num_index]) &\n",
    "        (dash_merged['ymd_date'] <= finish_date_dict[tab_num_index].to_datetime64()) &\n",
    "        (dash_merged['ymd_date'] >= start_date_dict[tab_num_index].to_datetime64()) &\n",
    "        (dash_merged['weekday'] != 5) &\n",
    "        (dash_merged['weekday'] != 6)\n",
    "    )\n",
    "        &\n",
    "    (\n",
    "        (dash_merged['weekday'].isin([0, 1, 2, 3, 4]))\n",
    "    )\n",
    "            &\n",
    "    (\n",
    "        (dash_merged['week'] % 2 == 1)\n",
    "    ),\n",
    "    'to_be_at_office'\n",
    "] = 1"
   ],
   "metadata": {
    "collapsed": false,
    "pycharm": {
     "name": "#%%\n"
    }
   }
  },
  {
   "cell_type": "code",
   "execution_count": 76,
   "outputs": [
    {
     "data": {
      "text/plain": "      ymd_date  weekday  week  halfweek tab_num start_date finish_date  \\\n0   2020-09-01        1     0         0   18456 2020-09-02  2020-09-30   \n1   2020-09-02        2     0         0   18456 2020-09-02  2020-09-30   \n2   2020-09-03        3     0         0   18456 2020-09-02  2020-09-30   \n3   2020-09-04        4     0         0   18456 2020-09-02  2020-09-30   \n4   2020-09-05        5     0         0   18456 2020-09-02  2020-09-30   \n..         ...      ...   ...       ...     ...        ...         ...   \n117 2020-12-27        6    16         8   18456 2020-09-02  2020-09-30   \n118 2020-12-28        0    17         8   18456 2020-09-02  2020-09-30   \n119 2020-12-29        1    17         8   18456 2020-09-02  2020-09-30   \n120 2020-12-30        2    17         8   18456 2020-09-02  2020-09-30   \n121 2020-12-31        3    17         8   18456 2020-09-02  2020-09-30   \n\n     to_be_at_office  \n0                NaN  \n1                0.0  \n2                0.0  \n3                0.0  \n4                NaN  \n..               ...  \n117              NaN  \n118              NaN  \n119              NaN  \n120              NaN  \n121              NaN  \n\n[122 rows x 8 columns]",
      "text/html": "<div>\n<style scoped>\n    .dataframe tbody tr th:only-of-type {\n        vertical-align: middle;\n    }\n\n    .dataframe tbody tr th {\n        vertical-align: top;\n    }\n\n    .dataframe thead th {\n        text-align: right;\n    }\n</style>\n<table border=\"1\" class=\"dataframe\">\n  <thead>\n    <tr style=\"text-align: right;\">\n      <th></th>\n      <th>ymd_date</th>\n      <th>weekday</th>\n      <th>week</th>\n      <th>halfweek</th>\n      <th>tab_num</th>\n      <th>start_date</th>\n      <th>finish_date</th>\n      <th>to_be_at_office</th>\n    </tr>\n  </thead>\n  <tbody>\n    <tr>\n      <th>0</th>\n      <td>2020-09-01</td>\n      <td>1</td>\n      <td>0</td>\n      <td>0</td>\n      <td>18456</td>\n      <td>2020-09-02</td>\n      <td>2020-09-30</td>\n      <td>NaN</td>\n    </tr>\n    <tr>\n      <th>1</th>\n      <td>2020-09-02</td>\n      <td>2</td>\n      <td>0</td>\n      <td>0</td>\n      <td>18456</td>\n      <td>2020-09-02</td>\n      <td>2020-09-30</td>\n      <td>0.0</td>\n    </tr>\n    <tr>\n      <th>2</th>\n      <td>2020-09-03</td>\n      <td>3</td>\n      <td>0</td>\n      <td>0</td>\n      <td>18456</td>\n      <td>2020-09-02</td>\n      <td>2020-09-30</td>\n      <td>0.0</td>\n    </tr>\n    <tr>\n      <th>3</th>\n      <td>2020-09-04</td>\n      <td>4</td>\n      <td>0</td>\n      <td>0</td>\n      <td>18456</td>\n      <td>2020-09-02</td>\n      <td>2020-09-30</td>\n      <td>0.0</td>\n    </tr>\n    <tr>\n      <th>4</th>\n      <td>2020-09-05</td>\n      <td>5</td>\n      <td>0</td>\n      <td>0</td>\n      <td>18456</td>\n      <td>2020-09-02</td>\n      <td>2020-09-30</td>\n      <td>NaN</td>\n    </tr>\n    <tr>\n      <th>...</th>\n      <td>...</td>\n      <td>...</td>\n      <td>...</td>\n      <td>...</td>\n      <td>...</td>\n      <td>...</td>\n      <td>...</td>\n      <td>...</td>\n    </tr>\n    <tr>\n      <th>117</th>\n      <td>2020-12-27</td>\n      <td>6</td>\n      <td>16</td>\n      <td>8</td>\n      <td>18456</td>\n      <td>2020-09-02</td>\n      <td>2020-09-30</td>\n      <td>NaN</td>\n    </tr>\n    <tr>\n      <th>118</th>\n      <td>2020-12-28</td>\n      <td>0</td>\n      <td>17</td>\n      <td>8</td>\n      <td>18456</td>\n      <td>2020-09-02</td>\n      <td>2020-09-30</td>\n      <td>NaN</td>\n    </tr>\n    <tr>\n      <th>119</th>\n      <td>2020-12-29</td>\n      <td>1</td>\n      <td>17</td>\n      <td>8</td>\n      <td>18456</td>\n      <td>2020-09-02</td>\n      <td>2020-09-30</td>\n      <td>NaN</td>\n    </tr>\n    <tr>\n      <th>120</th>\n      <td>2020-12-30</td>\n      <td>2</td>\n      <td>17</td>\n      <td>8</td>\n      <td>18456</td>\n      <td>2020-09-02</td>\n      <td>2020-09-30</td>\n      <td>NaN</td>\n    </tr>\n    <tr>\n      <th>121</th>\n      <td>2020-12-31</td>\n      <td>3</td>\n      <td>17</td>\n      <td>8</td>\n      <td>18456</td>\n      <td>2020-09-02</td>\n      <td>2020-09-30</td>\n      <td>NaN</td>\n    </tr>\n  </tbody>\n</table>\n<p>122 rows × 8 columns</p>\n</div>"
     },
     "execution_count": 76,
     "metadata": {},
     "output_type": "execute_result"
    }
   ],
   "source": [
    "dash_merged[dash_merged['tab_num'] == init_df.tab_num.to_list()[4]]"
   ],
   "metadata": {
    "collapsed": false,
    "pycharm": {
     "name": "#%%\n"
    }
   }
  },
  {
   "cell_type": "code",
   "execution_count": 77,
   "outputs": [],
   "source": [],
   "metadata": {
    "collapsed": false,
    "pycharm": {
     "name": "#%%\n"
    }
   }
  },
  {
   "cell_type": "code",
   "execution_count": null,
   "outputs": [],
   "source": [
    "# Смешанная работа wplace_type = 3 неделя через две\n",
    "print(init_df.tab_num.to_list()[5])"
   ],
   "metadata": {
    "collapsed": false,
    "pycharm": {
     "name": "#%%\n"
    }
   }
  },
  {
   "cell_type": "code",
   "execution_count": 78,
   "outputs": [],
   "source": [
    "tab_num_index = 5\n",
    "dash_merged.loc[\n",
    "    (\n",
    "        (dash_merged['tab_num'] == init_df.tab_num.to_list()[tab_num_index]) &\n",
    "        (dash_merged['ymd_date'] <= finish_date_dict[tab_num_index].to_datetime64()) &\n",
    "        (dash_merged['ymd_date'] >= start_date_dict[tab_num_index].to_datetime64()) &\n",
    "        (dash_merged['weekday'] != 5) &\n",
    "        (dash_merged['weekday'] != 6)\n",
    "    )\n",
    "        &\n",
    "    (\n",
    "        (dash_merged['weekday'].isin([0, 1, 2, 3, 4]))\n",
    "    )\n",
    "            &\n",
    "    (\n",
    "        (dash_merged['halfweek'] % 2 == 0)\n",
    "    ),\n",
    "    'to_be_at_office'\n",
    "] = 0"
   ],
   "metadata": {
    "collapsed": false,
    "pycharm": {
     "name": "#%%\n"
    }
   }
  },
  {
   "cell_type": "code",
   "execution_count": 79,
   "outputs": [],
   "source": [
    "tab_num_index = 5\n",
    "dash_merged.loc[\n",
    "    (\n",
    "        (dash_merged['tab_num'] == init_df.tab_num.to_list()[tab_num_index]) &\n",
    "        (dash_merged['ymd_date'] <= finish_date_dict[tab_num_index].to_datetime64()) &\n",
    "        (dash_merged['ymd_date'] >= start_date_dict[tab_num_index].to_datetime64()) &\n",
    "        (dash_merged['weekday'] != 5) &\n",
    "        (dash_merged['weekday'] != 6)\n",
    "    )\n",
    "        &\n",
    "    (\n",
    "        (dash_merged['weekday'].isin([0, 1, 2, 3, 4]))\n",
    "    )\n",
    "            &\n",
    "    (\n",
    "        (dash_merged['halfweek'] % 2 == 1)\n",
    "    ),\n",
    "    'to_be_at_office'\n",
    "] = 1"
   ],
   "metadata": {
    "collapsed": false,
    "pycharm": {
     "name": "#%%\n"
    }
   }
  },
  {
   "cell_type": "code",
   "execution_count": 80,
   "outputs": [
    {
     "data": {
      "text/plain": "      ymd_date  weekday  week  halfweek tab_num start_date finish_date  \\\n0   2020-09-01        1     0         0   19567 2020-09-02  2020-12-31   \n1   2020-09-02        2     0         0   19567 2020-09-02  2020-12-31   \n2   2020-09-03        3     0         0   19567 2020-09-02  2020-12-31   \n3   2020-09-04        4     0         0   19567 2020-09-02  2020-12-31   \n4   2020-09-05        5     0         0   19567 2020-09-02  2020-12-31   \n..         ...      ...   ...       ...     ...        ...         ...   \n117 2020-12-27        6    16         8   19567 2020-09-02  2020-12-31   \n118 2020-12-28        0    17         8   19567 2020-09-02  2020-12-31   \n119 2020-12-29        1    17         8   19567 2020-09-02  2020-12-31   \n120 2020-12-30        2    17         8   19567 2020-09-02  2020-12-31   \n121 2020-12-31        3    17         8   19567 2020-09-02  2020-12-31   \n\n     to_be_at_office  \n0                NaN  \n1                0.0  \n2                0.0  \n3                0.0  \n4                NaN  \n..               ...  \n117              NaN  \n118              0.0  \n119              0.0  \n120              0.0  \n121              0.0  \n\n[122 rows x 8 columns]",
      "text/html": "<div>\n<style scoped>\n    .dataframe tbody tr th:only-of-type {\n        vertical-align: middle;\n    }\n\n    .dataframe tbody tr th {\n        vertical-align: top;\n    }\n\n    .dataframe thead th {\n        text-align: right;\n    }\n</style>\n<table border=\"1\" class=\"dataframe\">\n  <thead>\n    <tr style=\"text-align: right;\">\n      <th></th>\n      <th>ymd_date</th>\n      <th>weekday</th>\n      <th>week</th>\n      <th>halfweek</th>\n      <th>tab_num</th>\n      <th>start_date</th>\n      <th>finish_date</th>\n      <th>to_be_at_office</th>\n    </tr>\n  </thead>\n  <tbody>\n    <tr>\n      <th>0</th>\n      <td>2020-09-01</td>\n      <td>1</td>\n      <td>0</td>\n      <td>0</td>\n      <td>19567</td>\n      <td>2020-09-02</td>\n      <td>2020-12-31</td>\n      <td>NaN</td>\n    </tr>\n    <tr>\n      <th>1</th>\n      <td>2020-09-02</td>\n      <td>2</td>\n      <td>0</td>\n      <td>0</td>\n      <td>19567</td>\n      <td>2020-09-02</td>\n      <td>2020-12-31</td>\n      <td>0.0</td>\n    </tr>\n    <tr>\n      <th>2</th>\n      <td>2020-09-03</td>\n      <td>3</td>\n      <td>0</td>\n      <td>0</td>\n      <td>19567</td>\n      <td>2020-09-02</td>\n      <td>2020-12-31</td>\n      <td>0.0</td>\n    </tr>\n    <tr>\n      <th>3</th>\n      <td>2020-09-04</td>\n      <td>4</td>\n      <td>0</td>\n      <td>0</td>\n      <td>19567</td>\n      <td>2020-09-02</td>\n      <td>2020-12-31</td>\n      <td>0.0</td>\n    </tr>\n    <tr>\n      <th>4</th>\n      <td>2020-09-05</td>\n      <td>5</td>\n      <td>0</td>\n      <td>0</td>\n      <td>19567</td>\n      <td>2020-09-02</td>\n      <td>2020-12-31</td>\n      <td>NaN</td>\n    </tr>\n    <tr>\n      <th>...</th>\n      <td>...</td>\n      <td>...</td>\n      <td>...</td>\n      <td>...</td>\n      <td>...</td>\n      <td>...</td>\n      <td>...</td>\n      <td>...</td>\n    </tr>\n    <tr>\n      <th>117</th>\n      <td>2020-12-27</td>\n      <td>6</td>\n      <td>16</td>\n      <td>8</td>\n      <td>19567</td>\n      <td>2020-09-02</td>\n      <td>2020-12-31</td>\n      <td>NaN</td>\n    </tr>\n    <tr>\n      <th>118</th>\n      <td>2020-12-28</td>\n      <td>0</td>\n      <td>17</td>\n      <td>8</td>\n      <td>19567</td>\n      <td>2020-09-02</td>\n      <td>2020-12-31</td>\n      <td>0.0</td>\n    </tr>\n    <tr>\n      <th>119</th>\n      <td>2020-12-29</td>\n      <td>1</td>\n      <td>17</td>\n      <td>8</td>\n      <td>19567</td>\n      <td>2020-09-02</td>\n      <td>2020-12-31</td>\n      <td>0.0</td>\n    </tr>\n    <tr>\n      <th>120</th>\n      <td>2020-12-30</td>\n      <td>2</td>\n      <td>17</td>\n      <td>8</td>\n      <td>19567</td>\n      <td>2020-09-02</td>\n      <td>2020-12-31</td>\n      <td>0.0</td>\n    </tr>\n    <tr>\n      <th>121</th>\n      <td>2020-12-31</td>\n      <td>3</td>\n      <td>17</td>\n      <td>8</td>\n      <td>19567</td>\n      <td>2020-09-02</td>\n      <td>2020-12-31</td>\n      <td>0.0</td>\n    </tr>\n  </tbody>\n</table>\n<p>122 rows × 8 columns</p>\n</div>"
     },
     "execution_count": 80,
     "metadata": {},
     "output_type": "execute_result"
    }
   ],
   "source": [
    "dash_merged[dash_merged['tab_num'] == init_df.tab_num.to_list()[5]]"
   ],
   "metadata": {
    "collapsed": false,
    "pycharm": {
     "name": "#%%\n"
    }
   }
  },
  {
   "cell_type": "code",
   "execution_count": 81,
   "outputs": [],
   "source": [
    "# TO-DO поменять формат даты"
   ],
   "metadata": {
    "collapsed": false,
    "pycharm": {
     "name": "#%%\n"
    }
   }
  },
  {
   "cell_type": "markdown",
   "source": [
    "### Результат"
   ],
   "metadata": {
    "collapsed": false,
    "pycharm": {
     "name": "#%% md\n"
    }
   }
  },
  {
   "cell_type": "code",
   "execution_count": 14,
   "outputs": [],
   "source": [
    "result = dash_merged[['tab_num', 'ymd_date', 'to_be_at_office']].sort_values(by=['tab_num', 'ymd_date']).reset_index(drop=True)"
   ],
   "metadata": {
    "collapsed": false,
    "pycharm": {
     "name": "#%%\n"
    }
   }
  },
  {
   "cell_type": "code",
   "execution_count": 17,
   "outputs": [],
   "source": [
    "result['ymd_date'] = pd.to_datetime(result['ymd_date']).dt.strftime(\"%d.%m.%Y\")"
   ],
   "metadata": {
    "collapsed": false,
    "pycharm": {
     "name": "#%%\n"
    }
   }
  },
  {
   "cell_type": "code",
   "execution_count": 18,
   "outputs": [
    {
     "data": {
      "text/plain": "    tab_num    ymd_date  to_be_at_office\n0     15123  01.09.2020              NaN\n1     15123  02.09.2020              1.0\n2     15123  03.09.2020              1.0\n3     15123  04.09.2020              1.0\n4     15123  05.09.2020              NaN\n..      ...         ...              ...\n605   19567  27.12.2020              NaN\n606   19567  28.12.2020              NaN\n607   19567  29.12.2020              NaN\n608   19567  30.12.2020              NaN\n609   19567  31.12.2020              NaN\n\n[610 rows x 3 columns]",
      "text/html": "<div>\n<style scoped>\n    .dataframe tbody tr th:only-of-type {\n        vertical-align: middle;\n    }\n\n    .dataframe tbody tr th {\n        vertical-align: top;\n    }\n\n    .dataframe thead th {\n        text-align: right;\n    }\n</style>\n<table border=\"1\" class=\"dataframe\">\n  <thead>\n    <tr style=\"text-align: right;\">\n      <th></th>\n      <th>tab_num</th>\n      <th>ymd_date</th>\n      <th>to_be_at_office</th>\n    </tr>\n  </thead>\n  <tbody>\n    <tr>\n      <th>0</th>\n      <td>15123</td>\n      <td>01.09.2020</td>\n      <td>NaN</td>\n    </tr>\n    <tr>\n      <th>1</th>\n      <td>15123</td>\n      <td>02.09.2020</td>\n      <td>1.0</td>\n    </tr>\n    <tr>\n      <th>2</th>\n      <td>15123</td>\n      <td>03.09.2020</td>\n      <td>1.0</td>\n    </tr>\n    <tr>\n      <th>3</th>\n      <td>15123</td>\n      <td>04.09.2020</td>\n      <td>1.0</td>\n    </tr>\n    <tr>\n      <th>4</th>\n      <td>15123</td>\n      <td>05.09.2020</td>\n      <td>NaN</td>\n    </tr>\n    <tr>\n      <th>...</th>\n      <td>...</td>\n      <td>...</td>\n      <td>...</td>\n    </tr>\n    <tr>\n      <th>605</th>\n      <td>19567</td>\n      <td>27.12.2020</td>\n      <td>NaN</td>\n    </tr>\n    <tr>\n      <th>606</th>\n      <td>19567</td>\n      <td>28.12.2020</td>\n      <td>NaN</td>\n    </tr>\n    <tr>\n      <th>607</th>\n      <td>19567</td>\n      <td>29.12.2020</td>\n      <td>NaN</td>\n    </tr>\n    <tr>\n      <th>608</th>\n      <td>19567</td>\n      <td>30.12.2020</td>\n      <td>NaN</td>\n    </tr>\n    <tr>\n      <th>609</th>\n      <td>19567</td>\n      <td>31.12.2020</td>\n      <td>NaN</td>\n    </tr>\n  </tbody>\n</table>\n<p>610 rows × 3 columns</p>\n</div>"
     },
     "execution_count": 18,
     "metadata": {},
     "output_type": "execute_result"
    }
   ],
   "source": [
    "result"
   ],
   "metadata": {
    "collapsed": false,
    "pycharm": {
     "name": "#%%\n"
    }
   }
  },
  {
   "cell_type": "code",
   "execution_count": null,
   "outputs": [],
   "source": [],
   "metadata": {
    "collapsed": false,
    "pycharm": {
     "name": "#%%\n"
    }
   }
  },
  {
   "cell_type": "markdown",
   "source": [
    "### Автоматическая обработка"
   ],
   "metadata": {
    "collapsed": false,
    "pycharm": {
     "name": "#%% md\n"
    }
   }
  },
  {
   "cell_type": "code",
   "execution_count": 1,
   "outputs": [],
   "source": [
    "import pickle\n",
    "import pandas as pd"
   ],
   "metadata": {
    "collapsed": false,
    "pycharm": {
     "name": "#%%\n"
    }
   }
  },
  {
   "cell_type": "code",
   "execution_count": 2,
   "outputs": [],
   "source": [
    "with open(\"dash_merged.pickle\", \"rb\") as handle:\n",
    "    dash_merged_from_file = pickle.load(handle)\n",
    "\n",
    "with open(\"init_df.pickle\", \"rb\") as handle:\n",
    "    init_df_from_file = pickle.load(handle)"
   ],
   "metadata": {
    "collapsed": false,
    "pycharm": {
     "name": "#%%\n"
    }
   }
  },
  {
   "cell_type": "code",
   "execution_count": 4,
   "outputs": [
    {
     "data": {
      "text/plain": "((6, 10), (610, 8))"
     },
     "execution_count": 4,
     "metadata": {},
     "output_type": "execute_result"
    }
   ],
   "source": [
    "init_df_from_file.shape, dash_merged_from_file.shape"
   ],
   "metadata": {
    "collapsed": false,
    "pycharm": {
     "name": "#%%\n"
    }
   }
  },
  {
   "cell_type": "code",
   "execution_count": 5,
   "outputs": [],
   "source": [
    "from rule_parser import RuleParser\n"
   ],
   "metadata": {
    "collapsed": false,
    "pycharm": {
     "name": "#%%\n"
    }
   }
  },
  {
   "cell_type": "code",
   "execution_count": 6,
   "outputs": [],
   "source": [
    "rp = RuleParser(data=dash_merged_from_file, init_table=init_df_from_file)"
   ],
   "metadata": {
    "collapsed": false,
    "pycharm": {
     "name": "#%%\n"
    }
   }
  },
  {
   "cell_type": "code",
   "execution_count": 7,
   "outputs": [
    {
     "data": {
      "text/plain": "      ymd_date  weekday  week  halfweek tab_num start_date finish_date  \\\n0   2020-09-01        1     0         0   15123 2020-09-02  2020-10-31   \n1   2020-09-02        2     0         0   15123 2020-09-02  2020-10-31   \n2   2020-09-03        3     0         0   15123 2020-09-02  2020-10-31   \n3   2020-09-04        4     0         0   15123 2020-09-02  2020-10-31   \n4   2020-09-05        5     0         0   15123 2020-09-02  2020-10-31   \n..         ...      ...   ...       ...     ...        ...         ...   \n117 2020-12-27        6    16         8   17345 2020-10-26  2020-12-31   \n118 2020-12-28        0    17         8   17345 2020-10-26  2020-12-31   \n119 2020-12-29        1    17         8   17345 2020-10-26  2020-12-31   \n120 2020-12-30        2    17         8   17345 2020-10-26  2020-12-31   \n121 2020-12-31        3    17         8   17345 2020-10-26  2020-12-31   \n\n     to_be_at_office  \n0                NaN  \n1                NaN  \n2                NaN  \n3                NaN  \n4                NaN  \n..               ...  \n117              NaN  \n118              NaN  \n119              NaN  \n120              NaN  \n121              NaN  \n\n[610 rows x 8 columns]",
      "text/html": "<div>\n<style scoped>\n    .dataframe tbody tr th:only-of-type {\n        vertical-align: middle;\n    }\n\n    .dataframe tbody tr th {\n        vertical-align: top;\n    }\n\n    .dataframe thead th {\n        text-align: right;\n    }\n</style>\n<table border=\"1\" class=\"dataframe\">\n  <thead>\n    <tr style=\"text-align: right;\">\n      <th></th>\n      <th>ymd_date</th>\n      <th>weekday</th>\n      <th>week</th>\n      <th>halfweek</th>\n      <th>tab_num</th>\n      <th>start_date</th>\n      <th>finish_date</th>\n      <th>to_be_at_office</th>\n    </tr>\n  </thead>\n  <tbody>\n    <tr>\n      <th>0</th>\n      <td>2020-09-01</td>\n      <td>1</td>\n      <td>0</td>\n      <td>0</td>\n      <td>15123</td>\n      <td>2020-09-02</td>\n      <td>2020-10-31</td>\n      <td>NaN</td>\n    </tr>\n    <tr>\n      <th>1</th>\n      <td>2020-09-02</td>\n      <td>2</td>\n      <td>0</td>\n      <td>0</td>\n      <td>15123</td>\n      <td>2020-09-02</td>\n      <td>2020-10-31</td>\n      <td>NaN</td>\n    </tr>\n    <tr>\n      <th>2</th>\n      <td>2020-09-03</td>\n      <td>3</td>\n      <td>0</td>\n      <td>0</td>\n      <td>15123</td>\n      <td>2020-09-02</td>\n      <td>2020-10-31</td>\n      <td>NaN</td>\n    </tr>\n    <tr>\n      <th>3</th>\n      <td>2020-09-04</td>\n      <td>4</td>\n      <td>0</td>\n      <td>0</td>\n      <td>15123</td>\n      <td>2020-09-02</td>\n      <td>2020-10-31</td>\n      <td>NaN</td>\n    </tr>\n    <tr>\n      <th>4</th>\n      <td>2020-09-05</td>\n      <td>5</td>\n      <td>0</td>\n      <td>0</td>\n      <td>15123</td>\n      <td>2020-09-02</td>\n      <td>2020-10-31</td>\n      <td>NaN</td>\n    </tr>\n    <tr>\n      <th>...</th>\n      <td>...</td>\n      <td>...</td>\n      <td>...</td>\n      <td>...</td>\n      <td>...</td>\n      <td>...</td>\n      <td>...</td>\n      <td>...</td>\n    </tr>\n    <tr>\n      <th>117</th>\n      <td>2020-12-27</td>\n      <td>6</td>\n      <td>16</td>\n      <td>8</td>\n      <td>17345</td>\n      <td>2020-10-26</td>\n      <td>2020-12-31</td>\n      <td>NaN</td>\n    </tr>\n    <tr>\n      <th>118</th>\n      <td>2020-12-28</td>\n      <td>0</td>\n      <td>17</td>\n      <td>8</td>\n      <td>17345</td>\n      <td>2020-10-26</td>\n      <td>2020-12-31</td>\n      <td>NaN</td>\n    </tr>\n    <tr>\n      <th>119</th>\n      <td>2020-12-29</td>\n      <td>1</td>\n      <td>17</td>\n      <td>8</td>\n      <td>17345</td>\n      <td>2020-10-26</td>\n      <td>2020-12-31</td>\n      <td>NaN</td>\n    </tr>\n    <tr>\n      <th>120</th>\n      <td>2020-12-30</td>\n      <td>2</td>\n      <td>17</td>\n      <td>8</td>\n      <td>17345</td>\n      <td>2020-10-26</td>\n      <td>2020-12-31</td>\n      <td>NaN</td>\n    </tr>\n    <tr>\n      <th>121</th>\n      <td>2020-12-31</td>\n      <td>3</td>\n      <td>17</td>\n      <td>8</td>\n      <td>17345</td>\n      <td>2020-10-26</td>\n      <td>2020-12-31</td>\n      <td>NaN</td>\n    </tr>\n  </tbody>\n</table>\n<p>610 rows × 8 columns</p>\n</div>"
     },
     "execution_count": 7,
     "metadata": {},
     "output_type": "execute_result"
    }
   ],
   "source": [
    "rp.data"
   ],
   "metadata": {
    "collapsed": false,
    "pycharm": {
     "name": "#%%\n"
    }
   }
  },
  {
   "cell_type": "code",
   "execution_count": null,
   "outputs": [],
   "source": [],
   "metadata": {
    "collapsed": false,
    "pycharm": {
     "name": "#%%\n"
    }
   }
  },
  {
   "cell_type": "code",
   "execution_count": null,
   "outputs": [],
   "source": [
    "rp.transfrom(tab_num_index=0)\n",
    "# rp.transfrom(tab_num_index=3)\n",
    "# rp.transfrom(tab_num_index=4)\n"
   ],
   "metadata": {
    "collapsed": false,
    "pycharm": {
     "name": "#%%\n"
    }
   }
  },
  {
   "cell_type": "code",
   "execution_count": null,
   "outputs": [],
   "source": [
    "rp.data[rp.data['tab_num'] == init_df.tab_num.to_list()[4]]"
   ],
   "metadata": {
    "collapsed": false,
    "pycharm": {
     "name": "#%%\n"
    }
   }
  }
 ],
 "metadata": {
  "kernelspec": {
   "display_name": "Python 3",
   "language": "python",
   "name": "python3"
  },
  "language_info": {
   "codemirror_mode": {
    "name": "ipython",
    "version": 2
   },
   "file_extension": ".py",
   "mimetype": "text/x-python",
   "name": "python",
   "nbconvert_exporter": "python",
   "pygments_lexer": "ipython2",
   "version": "2.7.6"
  }
 },
 "nbformat": 4,
 "nbformat_minor": 0
}