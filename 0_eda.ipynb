{
 "cells": [
  {
   "cell_type": "markdown",
   "source": [
    "### Импортируем библиотеки"
   ],
   "metadata": {
    "collapsed": false,
    "pycharm": {
     "name": "#%% md\n"
    }
   }
  },
  {
   "cell_type": "code",
   "execution_count": 1,
   "outputs": [],
   "source": [
    "import pickle\n",
    "import numpy as np\n",
    "import pandas as pd\n",
    "from docx import Document"
   ],
   "metadata": {
    "collapsed": false,
    "pycharm": {
     "name": "#%%\n"
    }
   }
  },
  {
   "cell_type": "markdown",
   "source": [
    "### Считываем исходную таблицу из файла"
   ],
   "metadata": {
    "collapsed": false,
    "pycharm": {
     "name": "#%% md\n"
    }
   }
  },
  {
   "cell_type": "code",
   "execution_count": 2,
   "outputs": [],
   "source": [
    "def parse_docx_table(filename: str):\n",
    "    document = Document(filename)\n",
    "\n",
    "    tables = []\n",
    "    for table in document.tables:\n",
    "        # список списков с пустыми строками - структура будущего датафрейма\n",
    "        df = [['' for x in range(len(table.columns))] for y in range(len(table.rows))]\n",
    "        # заполняем дф данными из табл\n",
    "        for x, row in enumerate(table.rows):\n",
    "            for y, cell in enumerate(row.cells):\n",
    "                if cell.text:\n",
    "                    df[x][y] = cell.text\n",
    "        tables.append(pd.DataFrame(df))\n",
    "\n",
    "    return tables"
   ],
   "metadata": {
    "collapsed": false,
    "pycharm": {
     "name": "#%%\n"
    }
   }
  },
  {
   "cell_type": "code",
   "execution_count": 3,
   "outputs": [],
   "source": [
    "# берем первую таблицу из списка\n",
    "init_df = parse_docx_table('DE_task_table.docx')[0]\n",
    "# заголовк таблицы - первый ряд\n",
    "header = init_df.iloc[0]\n",
    "# убираем первый ряд из таблицы\n",
    "init_df = init_df[1:]\n",
    "# назначаем название колонок дф\n",
    "init_df.columns = header"
   ],
   "metadata": {
    "collapsed": false,
    "pycharm": {
     "name": "#%%\n"
    }
   }
  },
  {
   "cell_type": "code",
   "execution_count": 4,
   "outputs": [],
   "source": [
    "# переводим формат дат, год 9999 заменяем на nan обработкой ошибок\n",
    "init_df['start_date']= pd.to_datetime(init_df['start_date'], format=\"%d.%m.%Y\", errors = 'coerce',)\n",
    "init_df['finish_date']= pd.to_datetime(init_df['finish_date'], format=\"%d.%m.%Y\", errors = 'coerce',)"
   ],
   "metadata": {
    "collapsed": false,
    "pycharm": {
     "name": "#%%\n"
    }
   }
  },
  {
   "cell_type": "code",
   "execution_count": 5,
   "outputs": [
    {
     "name": "stderr",
     "output_type": "stream",
     "text": [
      "/home/varsey-fabuza/PycharmProjects/dashboard-formation/env/lib/python3.10/site-packages/pandas/core/arrays/datetimes.py:339: UserWarning: Parsing '31.10.2020' in DD/MM/YYYY format. Provide format or specify infer_datetime_format=True for consistent parsing.\n",
      "  return cls._from_sequence_not_strict(scalars, dtype=dtype, copy=copy)\n",
      "/home/varsey-fabuza/PycharmProjects/dashboard-formation/env/lib/python3.10/site-packages/pandas/core/arrays/datetimes.py:339: UserWarning: Parsing '30.09.2020' in DD/MM/YYYY format. Provide format or specify infer_datetime_format=True for consistent parsing.\n",
      "  return cls._from_sequence_not_strict(scalars, dtype=dtype, copy=copy)\n"
     ]
    }
   ],
   "source": [
    "# правило №2\n",
    "init_df.loc[init_df['finish_date'].isnull(), 'finish_date'] = init_df['end_da']"
   ],
   "metadata": {
    "collapsed": false,
    "pycharm": {
     "name": "#%%\n"
    }
   }
  },
  {
   "cell_type": "code",
   "execution_count": 6,
   "outputs": [
    {
     "data": {
      "text/plain": "0 tab_num start_date finish_date wday_type01 wday_type02 wday_type03  \\\n1   15123 2020-09-02  2020-10-31           0           0           0   \n2   16234 2020-09-20  2020-10-30           0           0           1   \n3   17345 2020-09-28  2020-10-25           1           0           0   \n4   17345 2020-10-26  2020-12-31           1           1           1   \n5   18456 2020-09-02  2020-09-30           2           2           2   \n6   19567 2020-09-02  2020-12-31           3           3           3   \n\n0 wday_type04 wday_type05 wplace_type      end_da  \n1           0           0           0  31.10.2020  \n2           1           0           2              \n3           0           0           2              \n4           1           1           1              \n5           2           2           3  30.09.2020  \n6           3           3           4              ",
      "text/html": "<div>\n<style scoped>\n    .dataframe tbody tr th:only-of-type {\n        vertical-align: middle;\n    }\n\n    .dataframe tbody tr th {\n        vertical-align: top;\n    }\n\n    .dataframe thead th {\n        text-align: right;\n    }\n</style>\n<table border=\"1\" class=\"dataframe\">\n  <thead>\n    <tr style=\"text-align: right;\">\n      <th></th>\n      <th>tab_num</th>\n      <th>start_date</th>\n      <th>finish_date</th>\n      <th>wday_type01</th>\n      <th>wday_type02</th>\n      <th>wday_type03</th>\n      <th>wday_type04</th>\n      <th>wday_type05</th>\n      <th>wplace_type</th>\n      <th>end_da</th>\n    </tr>\n  </thead>\n  <tbody>\n    <tr>\n      <th>1</th>\n      <td>15123</td>\n      <td>2020-09-02</td>\n      <td>2020-10-31</td>\n      <td>0</td>\n      <td>0</td>\n      <td>0</td>\n      <td>0</td>\n      <td>0</td>\n      <td>0</td>\n      <td>31.10.2020</td>\n    </tr>\n    <tr>\n      <th>2</th>\n      <td>16234</td>\n      <td>2020-09-20</td>\n      <td>2020-10-30</td>\n      <td>0</td>\n      <td>0</td>\n      <td>1</td>\n      <td>1</td>\n      <td>0</td>\n      <td>2</td>\n      <td></td>\n    </tr>\n    <tr>\n      <th>3</th>\n      <td>17345</td>\n      <td>2020-09-28</td>\n      <td>2020-10-25</td>\n      <td>1</td>\n      <td>0</td>\n      <td>0</td>\n      <td>0</td>\n      <td>0</td>\n      <td>2</td>\n      <td></td>\n    </tr>\n    <tr>\n      <th>4</th>\n      <td>17345</td>\n      <td>2020-10-26</td>\n      <td>2020-12-31</td>\n      <td>1</td>\n      <td>1</td>\n      <td>1</td>\n      <td>1</td>\n      <td>1</td>\n      <td>1</td>\n      <td></td>\n    </tr>\n    <tr>\n      <th>5</th>\n      <td>18456</td>\n      <td>2020-09-02</td>\n      <td>2020-09-30</td>\n      <td>2</td>\n      <td>2</td>\n      <td>2</td>\n      <td>2</td>\n      <td>2</td>\n      <td>3</td>\n      <td>30.09.2020</td>\n    </tr>\n    <tr>\n      <th>6</th>\n      <td>19567</td>\n      <td>2020-09-02</td>\n      <td>2020-12-31</td>\n      <td>3</td>\n      <td>3</td>\n      <td>3</td>\n      <td>3</td>\n      <td>3</td>\n      <td>4</td>\n      <td></td>\n    </tr>\n  </tbody>\n</table>\n</div>"
     },
     "execution_count": 6,
     "metadata": {},
     "output_type": "execute_result"
    }
   ],
   "source": [
    "init_df"
   ],
   "metadata": {
    "collapsed": false,
    "pycharm": {
     "name": "#%%\n"
    }
   }
  },
  {
   "cell_type": "code",
   "execution_count": 7,
   "outputs": [],
   "source": [
    "# словарь для каждого номера ряда исходной таблицы с датой старта и окончания режима\n",
    "start_date_dict = dict(zip(range(init_df.shape[0]), init_df.start_date.to_list()))\n",
    "finish_date_dict = dict(zip(range(init_df.shape[0]), init_df.finish_date.to_list()))"
   ],
   "metadata": {
    "collapsed": false,
    "pycharm": {
     "name": "#%%\n"
    }
   }
  },
  {
   "cell_type": "code",
   "execution_count": 8,
   "outputs": [],
   "source": [
    "dash = pd.DataFrame()\n",
    "# для каждого ряда - свой датафрейм по правилам №1 и №2\n",
    "for num, tab_num in enumerate(init_df.tab_num.to_list()):\n",
    "    interim = pd.DataFrame()\n",
    "    interim['ymd_date'] = pd.date_range(start='2020-09-01', end='2020-12-31', freq='D')\n",
    "    # дополнительные фичи для правила №8\n",
    "    interim['weekday'] = interim['ymd_date'].dt.dayofweek\n",
    "    interim['week'] = interim['ymd_date'].dt.isocalendar().week\n",
    "    interim['week'] = interim['week'] - interim['week'].min()\n",
    "    interim['halfweek'] = interim['week'] // 2\n",
    "    interim['tab_num'] = tab_num\n",
    "    interim['start_date'] = start_date_dict[num]\n",
    "    interim['finish_date'] = finish_date_dict[num]\n",
    "    dash = pd.concat([dash, interim])\n",
    "dash['to_be_at_office'] = np.nan"
   ],
   "metadata": {
    "collapsed": false,
    "pycharm": {
     "name": "#%%\n"
    }
   }
  },
  {
   "cell_type": "code",
   "execution_count": 9,
   "outputs": [
    {
     "data": {
      "text/plain": "['17345']"
     },
     "execution_count": 9,
     "metadata": {},
     "output_type": "execute_result"
    }
   ],
   "source": [
    "repeated_tab_num = [x for x in init_df[init_df['tab_num'].duplicated()].tab_num.values]\n",
    "repeated_tab_num"
   ],
   "metadata": {
    "collapsed": false,
    "pycharm": {
     "name": "#%%\n"
    }
   }
  },
  {
   "cell_type": "code",
   "execution_count": 10,
   "outputs": [],
   "source": [
    "def process_duplicated_tab_num(init_df: pd.DataFrame, repeated_tab_nums: list):\n",
    "    dash_merged = init_df.copy()\n",
    "    for tab_num in repeated_tab_nums:\n",
    "        dash_merged = pd.concat(\n",
    "            [\n",
    "                dash_merged[~dash_merged.tab_num.isin([tab_num])],\n",
    "                pd.merge(\n",
    "                    dash_merged.loc[(dash_merged['tab_num'] == tab_num)][['ymd_date', 'weekday', 'tab_num']],\n",
    "                    dash_merged.loc[\n",
    "                        (dash_merged['tab_num'] == tab_num) &\n",
    "                        (dash_merged['ymd_date'] <= dash_merged['finish_date']) &\n",
    "                        (dash_merged['ymd_date'] >= dash_merged['start_date'])\n",
    "                    ],\n",
    "                    how='left'\n",
    "                ).drop_duplicates()\n",
    "            ]\n",
    "        )\n",
    "        print(dash_merged.shape)\n",
    "    return dash_merged"
   ],
   "metadata": {
    "collapsed": false,
    "pycharm": {
     "name": "#%%\n"
    }
   }
  },
  {
   "cell_type": "code",
   "execution_count": 11,
   "outputs": [
    {
     "name": "stdout",
     "output_type": "stream",
     "text": [
      "(610, 8)\n"
     ]
    }
   ],
   "source": [
    "dash_merged = process_duplicated_tab_num(dash, repeated_tab_num)"
   ],
   "metadata": {
    "collapsed": false,
    "pycharm": {
     "name": "#%%\n"
    }
   }
  },
  {
   "cell_type": "code",
   "execution_count": 12,
   "outputs": [
    {
     "data": {
      "text/plain": "((732, 8), (610, 8), 610)"
     },
     "execution_count": 12,
     "metadata": {},
     "output_type": "execute_result"
    }
   ],
   "source": [
    "dash.shape, dash_merged.shape, 122*5"
   ],
   "metadata": {
    "collapsed": false,
    "pycharm": {
     "name": "#%%\n"
    }
   }
  },
  {
   "cell_type": "code",
   "execution_count": 13,
   "outputs": [],
   "source": [
    "assert dash_merged.shape[0] == 122 * len(dash.tab_num.unique())"
   ],
   "metadata": {
    "collapsed": false,
    "pycharm": {
     "name": "#%%\n"
    }
   }
  },
  {
   "cell_type": "code",
   "execution_count": 14,
   "outputs": [
    {
     "data": {
      "text/plain": "     ymd_date  weekday  week  halfweek tab_num start_date finish_date  \\\n48 2020-10-19        0     7         3   16234 2020-09-20  2020-10-30   \n35 2020-10-06        1     5         2   16234 2020-09-20  2020-10-30   \n87 2020-11-27        4    12         6   16234 2020-09-20  2020-10-30   \n8  2020-09-09        2     1         0   18456 2020-09-02  2020-09-30   \n33 2020-10-04        6     4         2   17345 2020-09-28  2020-10-25   \n\n    to_be_at_office  \n48              NaN  \n35              NaN  \n87              NaN  \n8               NaN  \n33              NaN  ",
      "text/html": "<div>\n<style scoped>\n    .dataframe tbody tr th:only-of-type {\n        vertical-align: middle;\n    }\n\n    .dataframe tbody tr th {\n        vertical-align: top;\n    }\n\n    .dataframe thead th {\n        text-align: right;\n    }\n</style>\n<table border=\"1\" class=\"dataframe\">\n  <thead>\n    <tr style=\"text-align: right;\">\n      <th></th>\n      <th>ymd_date</th>\n      <th>weekday</th>\n      <th>week</th>\n      <th>halfweek</th>\n      <th>tab_num</th>\n      <th>start_date</th>\n      <th>finish_date</th>\n      <th>to_be_at_office</th>\n    </tr>\n  </thead>\n  <tbody>\n    <tr>\n      <th>48</th>\n      <td>2020-10-19</td>\n      <td>0</td>\n      <td>7</td>\n      <td>3</td>\n      <td>16234</td>\n      <td>2020-09-20</td>\n      <td>2020-10-30</td>\n      <td>NaN</td>\n    </tr>\n    <tr>\n      <th>35</th>\n      <td>2020-10-06</td>\n      <td>1</td>\n      <td>5</td>\n      <td>2</td>\n      <td>16234</td>\n      <td>2020-09-20</td>\n      <td>2020-10-30</td>\n      <td>NaN</td>\n    </tr>\n    <tr>\n      <th>87</th>\n      <td>2020-11-27</td>\n      <td>4</td>\n      <td>12</td>\n      <td>6</td>\n      <td>16234</td>\n      <td>2020-09-20</td>\n      <td>2020-10-30</td>\n      <td>NaN</td>\n    </tr>\n    <tr>\n      <th>8</th>\n      <td>2020-09-09</td>\n      <td>2</td>\n      <td>1</td>\n      <td>0</td>\n      <td>18456</td>\n      <td>2020-09-02</td>\n      <td>2020-09-30</td>\n      <td>NaN</td>\n    </tr>\n    <tr>\n      <th>33</th>\n      <td>2020-10-04</td>\n      <td>6</td>\n      <td>4</td>\n      <td>2</td>\n      <td>17345</td>\n      <td>2020-09-28</td>\n      <td>2020-10-25</td>\n      <td>NaN</td>\n    </tr>\n  </tbody>\n</table>\n</div>"
     },
     "execution_count": 14,
     "metadata": {},
     "output_type": "execute_result"
    }
   ],
   "source": [
    "dash_merged.sample(5)"
   ],
   "metadata": {
    "collapsed": false,
    "pycharm": {
     "name": "#%%\n"
    }
   }
  },
  {
   "cell_type": "code",
   "execution_count": 15,
   "outputs": [],
   "source": [
    "with open('dash_merged.pickle', 'wb') as handle:\n",
    "    pickle.dump(dash_merged, handle, protocol=pickle.HIGHEST_PROTOCOL)\n",
    "\n",
    "with open('init_df.pickle', 'wb') as handle:\n",
    "    pickle.dump(init_df, handle, protocol=pickle.HIGHEST_PROTOCOL)"
   ],
   "metadata": {
    "collapsed": false,
    "pycharm": {
     "name": "#%%\n"
    }
   }
  },
  {
   "cell_type": "code",
   "execution_count": 15,
   "outputs": [],
   "source": [],
   "metadata": {
    "collapsed": false,
    "pycharm": {
     "name": "#%%\n"
    }
   }
  },
  {
   "cell_type": "code",
   "execution_count": null,
   "outputs": [],
   "source": [],
   "metadata": {
    "collapsed": false,
    "pycharm": {
     "name": "#%%\n"
    }
   }
  },
  {
   "cell_type": "code",
   "execution_count": null,
   "outputs": [],
   "source": [],
   "metadata": {
    "collapsed": false,
    "pycharm": {
     "name": "#%%\n"
    }
   }
  },
  {
   "cell_type": "code",
   "execution_count": 1,
   "outputs": [],
   "source": [],
   "metadata": {
    "collapsed": false,
    "pycharm": {
     "name": "#%%\n"
    }
   }
  },
  {
   "cell_type": "code",
   "execution_count": 2,
   "outputs": [],
   "source": [
    "import pickle\n",
    "import pandas as pd"
   ],
   "metadata": {
    "collapsed": false,
    "pycharm": {
     "name": "#%%\n"
    }
   }
  },
  {
   "cell_type": "code",
   "execution_count": 3,
   "outputs": [],
   "source": [
    "with open(\"dash_merged.pickle\", \"rb\") as handle:\n",
    "    dash_merged = pickle.load(handle)\n",
    "\n",
    "with open(\"init_df.pickle\", \"rb\") as handle:\n",
    "    init_df = pickle.load(handle)"
   ],
   "metadata": {
    "collapsed": false,
    "pycharm": {
     "name": "#%%\n"
    }
   }
  },
  {
   "cell_type": "code",
   "execution_count": 4,
   "outputs": [
    {
     "data": {
      "text/plain": "((6, 10), (610, 8))"
     },
     "execution_count": 4,
     "metadata": {},
     "output_type": "execute_result"
    }
   ],
   "source": [
    "init_df.shape, dash_merged.shape"
   ],
   "metadata": {
    "collapsed": false,
    "pycharm": {
     "name": "#%%\n"
    }
   }
  },
  {
   "cell_type": "code",
   "execution_count": 7,
   "outputs": [
    {
     "data": {
      "text/plain": "      ymd_date  weekday  week  halfweek tab_num start_date finish_date  \\\n0   2020-09-01        1     0         0   15123 2020-09-02  2020-10-31   \n1   2020-09-02        2     0         0   15123 2020-09-02  2020-10-31   \n2   2020-09-03        3     0         0   15123 2020-09-02  2020-10-31   \n3   2020-09-04        4     0         0   15123 2020-09-02  2020-10-31   \n4   2020-09-05        5     0         0   15123 2020-09-02  2020-10-31   \n..         ...      ...   ...       ...     ...        ...         ...   \n117 2020-12-27        6    16         8   17345 2020-10-26  2020-12-31   \n118 2020-12-28        0    17         8   17345 2020-10-26  2020-12-31   \n119 2020-12-29        1    17         8   17345 2020-10-26  2020-12-31   \n120 2020-12-30        2    17         8   17345 2020-10-26  2020-12-31   \n121 2020-12-31        3    17         8   17345 2020-10-26  2020-12-31   \n\n     to_be_at_office  \n0                NaN  \n1                NaN  \n2                NaN  \n3                NaN  \n4                NaN  \n..               ...  \n117              NaN  \n118              NaN  \n119              NaN  \n120              NaN  \n121              NaN  \n\n[610 rows x 8 columns]",
      "text/html": "<div>\n<style scoped>\n    .dataframe tbody tr th:only-of-type {\n        vertical-align: middle;\n    }\n\n    .dataframe tbody tr th {\n        vertical-align: top;\n    }\n\n    .dataframe thead th {\n        text-align: right;\n    }\n</style>\n<table border=\"1\" class=\"dataframe\">\n  <thead>\n    <tr style=\"text-align: right;\">\n      <th></th>\n      <th>ymd_date</th>\n      <th>weekday</th>\n      <th>week</th>\n      <th>halfweek</th>\n      <th>tab_num</th>\n      <th>start_date</th>\n      <th>finish_date</th>\n      <th>to_be_at_office</th>\n    </tr>\n  </thead>\n  <tbody>\n    <tr>\n      <th>0</th>\n      <td>2020-09-01</td>\n      <td>1</td>\n      <td>0</td>\n      <td>0</td>\n      <td>15123</td>\n      <td>2020-09-02</td>\n      <td>2020-10-31</td>\n      <td>NaN</td>\n    </tr>\n    <tr>\n      <th>1</th>\n      <td>2020-09-02</td>\n      <td>2</td>\n      <td>0</td>\n      <td>0</td>\n      <td>15123</td>\n      <td>2020-09-02</td>\n      <td>2020-10-31</td>\n      <td>NaN</td>\n    </tr>\n    <tr>\n      <th>2</th>\n      <td>2020-09-03</td>\n      <td>3</td>\n      <td>0</td>\n      <td>0</td>\n      <td>15123</td>\n      <td>2020-09-02</td>\n      <td>2020-10-31</td>\n      <td>NaN</td>\n    </tr>\n    <tr>\n      <th>3</th>\n      <td>2020-09-04</td>\n      <td>4</td>\n      <td>0</td>\n      <td>0</td>\n      <td>15123</td>\n      <td>2020-09-02</td>\n      <td>2020-10-31</td>\n      <td>NaN</td>\n    </tr>\n    <tr>\n      <th>4</th>\n      <td>2020-09-05</td>\n      <td>5</td>\n      <td>0</td>\n      <td>0</td>\n      <td>15123</td>\n      <td>2020-09-02</td>\n      <td>2020-10-31</td>\n      <td>NaN</td>\n    </tr>\n    <tr>\n      <th>...</th>\n      <td>...</td>\n      <td>...</td>\n      <td>...</td>\n      <td>...</td>\n      <td>...</td>\n      <td>...</td>\n      <td>...</td>\n      <td>...</td>\n    </tr>\n    <tr>\n      <th>117</th>\n      <td>2020-12-27</td>\n      <td>6</td>\n      <td>16</td>\n      <td>8</td>\n      <td>17345</td>\n      <td>2020-10-26</td>\n      <td>2020-12-31</td>\n      <td>NaN</td>\n    </tr>\n    <tr>\n      <th>118</th>\n      <td>2020-12-28</td>\n      <td>0</td>\n      <td>17</td>\n      <td>8</td>\n      <td>17345</td>\n      <td>2020-10-26</td>\n      <td>2020-12-31</td>\n      <td>NaN</td>\n    </tr>\n    <tr>\n      <th>119</th>\n      <td>2020-12-29</td>\n      <td>1</td>\n      <td>17</td>\n      <td>8</td>\n      <td>17345</td>\n      <td>2020-10-26</td>\n      <td>2020-12-31</td>\n      <td>NaN</td>\n    </tr>\n    <tr>\n      <th>120</th>\n      <td>2020-12-30</td>\n      <td>2</td>\n      <td>17</td>\n      <td>8</td>\n      <td>17345</td>\n      <td>2020-10-26</td>\n      <td>2020-12-31</td>\n      <td>NaN</td>\n    </tr>\n    <tr>\n      <th>121</th>\n      <td>2020-12-31</td>\n      <td>3</td>\n      <td>17</td>\n      <td>8</td>\n      <td>17345</td>\n      <td>2020-10-26</td>\n      <td>2020-12-31</td>\n      <td>NaN</td>\n    </tr>\n  </tbody>\n</table>\n<p>610 rows × 8 columns</p>\n</div>"
     },
     "execution_count": 7,
     "metadata": {},
     "output_type": "execute_result"
    }
   ],
   "source": [
    "dash_merged"
   ],
   "metadata": {
    "collapsed": false,
    "pycharm": {
     "name": "#%%\n"
    }
   }
  },
  {
   "cell_type": "code",
   "execution_count": 8,
   "outputs": [],
   "source": [
    "from rule_parser import RuleParser\n",
    "rp = RuleParser(data=dash_merged, init_table=init_df)\n",
    "wplace_type_dict = dict(zip(range(init_df.shape[0]), [int(x) for x in init_df.wplace_type.to_list()]))"
   ],
   "metadata": {
    "collapsed": false,
    "pycharm": {
     "name": "#%%\n"
    }
   }
  },
  {
   "cell_type": "markdown",
   "source": [],
   "metadata": {
    "collapsed": false,
    "pycharm": {
     "name": "#%% md\n"
    }
   }
  },
  {
   "cell_type": "code",
   "execution_count": 13,
   "outputs": [
    {
     "name": "stdout",
     "output_type": "stream",
     "text": [
      "wtype 3\n"
     ]
    }
   ],
   "source": [
    "data_processed = rp.transfrom(tab_num_index=4)\n"
   ],
   "metadata": {
    "collapsed": false,
    "pycharm": {
     "name": "#%%\n"
    }
   }
  },
  {
   "cell_type": "code",
   "execution_count": 14,
   "outputs": [
    {
     "data": {
      "text/plain": "      ymd_date  weekday  week  halfweek tab_num start_date finish_date  \\\n0   2020-09-01        1     0         0   18456 2020-09-02  2020-09-30   \n1   2020-09-02        2     0         0   18456 2020-09-02  2020-09-30   \n2   2020-09-03        3     0         0   18456 2020-09-02  2020-09-30   \n3   2020-09-04        4     0         0   18456 2020-09-02  2020-09-30   \n4   2020-09-05        5     0         0   18456 2020-09-02  2020-09-30   \n..         ...      ...   ...       ...     ...        ...         ...   \n117 2020-12-27        6    16         8   18456 2020-09-02  2020-09-30   \n118 2020-12-28        0    17         8   18456 2020-09-02  2020-09-30   \n119 2020-12-29        1    17         8   18456 2020-09-02  2020-09-30   \n120 2020-12-30        2    17         8   18456 2020-09-02  2020-09-30   \n121 2020-12-31        3    17         8   18456 2020-09-02  2020-09-30   \n\n     to_be_at_office  \n0                0.0  \n1                0.0  \n2                0.0  \n3                0.0  \n4                0.0  \n..               ...  \n117              0.0  \n118              0.0  \n119              0.0  \n120              0.0  \n121              0.0  \n\n[122 rows x 8 columns]",
      "text/html": "<div>\n<style scoped>\n    .dataframe tbody tr th:only-of-type {\n        vertical-align: middle;\n    }\n\n    .dataframe tbody tr th {\n        vertical-align: top;\n    }\n\n    .dataframe thead th {\n        text-align: right;\n    }\n</style>\n<table border=\"1\" class=\"dataframe\">\n  <thead>\n    <tr style=\"text-align: right;\">\n      <th></th>\n      <th>ymd_date</th>\n      <th>weekday</th>\n      <th>week</th>\n      <th>halfweek</th>\n      <th>tab_num</th>\n      <th>start_date</th>\n      <th>finish_date</th>\n      <th>to_be_at_office</th>\n    </tr>\n  </thead>\n  <tbody>\n    <tr>\n      <th>0</th>\n      <td>2020-09-01</td>\n      <td>1</td>\n      <td>0</td>\n      <td>0</td>\n      <td>18456</td>\n      <td>2020-09-02</td>\n      <td>2020-09-30</td>\n      <td>0.0</td>\n    </tr>\n    <tr>\n      <th>1</th>\n      <td>2020-09-02</td>\n      <td>2</td>\n      <td>0</td>\n      <td>0</td>\n      <td>18456</td>\n      <td>2020-09-02</td>\n      <td>2020-09-30</td>\n      <td>0.0</td>\n    </tr>\n    <tr>\n      <th>2</th>\n      <td>2020-09-03</td>\n      <td>3</td>\n      <td>0</td>\n      <td>0</td>\n      <td>18456</td>\n      <td>2020-09-02</td>\n      <td>2020-09-30</td>\n      <td>0.0</td>\n    </tr>\n    <tr>\n      <th>3</th>\n      <td>2020-09-04</td>\n      <td>4</td>\n      <td>0</td>\n      <td>0</td>\n      <td>18456</td>\n      <td>2020-09-02</td>\n      <td>2020-09-30</td>\n      <td>0.0</td>\n    </tr>\n    <tr>\n      <th>4</th>\n      <td>2020-09-05</td>\n      <td>5</td>\n      <td>0</td>\n      <td>0</td>\n      <td>18456</td>\n      <td>2020-09-02</td>\n      <td>2020-09-30</td>\n      <td>0.0</td>\n    </tr>\n    <tr>\n      <th>...</th>\n      <td>...</td>\n      <td>...</td>\n      <td>...</td>\n      <td>...</td>\n      <td>...</td>\n      <td>...</td>\n      <td>...</td>\n      <td>...</td>\n    </tr>\n    <tr>\n      <th>117</th>\n      <td>2020-12-27</td>\n      <td>6</td>\n      <td>16</td>\n      <td>8</td>\n      <td>18456</td>\n      <td>2020-09-02</td>\n      <td>2020-09-30</td>\n      <td>0.0</td>\n    </tr>\n    <tr>\n      <th>118</th>\n      <td>2020-12-28</td>\n      <td>0</td>\n      <td>17</td>\n      <td>8</td>\n      <td>18456</td>\n      <td>2020-09-02</td>\n      <td>2020-09-30</td>\n      <td>0.0</td>\n    </tr>\n    <tr>\n      <th>119</th>\n      <td>2020-12-29</td>\n      <td>1</td>\n      <td>17</td>\n      <td>8</td>\n      <td>18456</td>\n      <td>2020-09-02</td>\n      <td>2020-09-30</td>\n      <td>0.0</td>\n    </tr>\n    <tr>\n      <th>120</th>\n      <td>2020-12-30</td>\n      <td>2</td>\n      <td>17</td>\n      <td>8</td>\n      <td>18456</td>\n      <td>2020-09-02</td>\n      <td>2020-09-30</td>\n      <td>0.0</td>\n    </tr>\n    <tr>\n      <th>121</th>\n      <td>2020-12-31</td>\n      <td>3</td>\n      <td>17</td>\n      <td>8</td>\n      <td>18456</td>\n      <td>2020-09-02</td>\n      <td>2020-09-30</td>\n      <td>0.0</td>\n    </tr>\n  </tbody>\n</table>\n<p>122 rows × 8 columns</p>\n</div>"
     },
     "execution_count": 14,
     "metadata": {},
     "output_type": "execute_result"
    }
   ],
   "source": [
    "data_processed[data_processed['tab_num'] == init_df.tab_num.to_list()[4]]"
   ],
   "metadata": {
    "collapsed": false,
    "pycharm": {
     "name": "#%%\n"
    }
   }
  },
  {
   "cell_type": "code",
   "execution_count": 8,
   "outputs": [
    {
     "name": "stdout",
     "output_type": "stream",
     "text": [
      "wtype 0\n",
      "wtype 1\n"
     ]
    },
    {
     "data": {
      "text/plain": "      ymd_date  weekday  week  halfweek tab_num start_date finish_date  \\\n0   2020-09-01        1     0         0   15123 2020-09-02  2020-10-31   \n1   2020-09-02        2     0         0   15123 2020-09-02  2020-10-31   \n2   2020-09-03        3     0         0   15123 2020-09-02  2020-10-31   \n3   2020-09-04        4     0         0   15123 2020-09-02  2020-10-31   \n4   2020-09-05        5     0         0   15123 2020-09-02  2020-10-31   \n..         ...      ...   ...       ...     ...        ...         ...   \n117 2020-12-27        6    16         8   17345 2020-10-26  2020-12-31   \n118 2020-12-28        0    17         8   17345 2020-10-26  2020-12-31   \n119 2020-12-29        1    17         8   17345 2020-10-26  2020-12-31   \n120 2020-12-30        2    17         8   17345 2020-10-26  2020-12-31   \n121 2020-12-31        3    17         8   17345 2020-10-26  2020-12-31   \n\n     to_be_at_office  \n0                0.0  \n1                1.0  \n2                1.0  \n3                1.0  \n4                0.0  \n..               ...  \n117              0.0  \n118              0.0  \n119              0.0  \n120              0.0  \n121              0.0  \n\n[610 rows x 8 columns]",
      "text/html": "<div>\n<style scoped>\n    .dataframe tbody tr th:only-of-type {\n        vertical-align: middle;\n    }\n\n    .dataframe tbody tr th {\n        vertical-align: top;\n    }\n\n    .dataframe thead th {\n        text-align: right;\n    }\n</style>\n<table border=\"1\" class=\"dataframe\">\n  <thead>\n    <tr style=\"text-align: right;\">\n      <th></th>\n      <th>ymd_date</th>\n      <th>weekday</th>\n      <th>week</th>\n      <th>halfweek</th>\n      <th>tab_num</th>\n      <th>start_date</th>\n      <th>finish_date</th>\n      <th>to_be_at_office</th>\n    </tr>\n  </thead>\n  <tbody>\n    <tr>\n      <th>0</th>\n      <td>2020-09-01</td>\n      <td>1</td>\n      <td>0</td>\n      <td>0</td>\n      <td>15123</td>\n      <td>2020-09-02</td>\n      <td>2020-10-31</td>\n      <td>0.0</td>\n    </tr>\n    <tr>\n      <th>1</th>\n      <td>2020-09-02</td>\n      <td>2</td>\n      <td>0</td>\n      <td>0</td>\n      <td>15123</td>\n      <td>2020-09-02</td>\n      <td>2020-10-31</td>\n      <td>1.0</td>\n    </tr>\n    <tr>\n      <th>2</th>\n      <td>2020-09-03</td>\n      <td>3</td>\n      <td>0</td>\n      <td>0</td>\n      <td>15123</td>\n      <td>2020-09-02</td>\n      <td>2020-10-31</td>\n      <td>1.0</td>\n    </tr>\n    <tr>\n      <th>3</th>\n      <td>2020-09-04</td>\n      <td>4</td>\n      <td>0</td>\n      <td>0</td>\n      <td>15123</td>\n      <td>2020-09-02</td>\n      <td>2020-10-31</td>\n      <td>1.0</td>\n    </tr>\n    <tr>\n      <th>4</th>\n      <td>2020-09-05</td>\n      <td>5</td>\n      <td>0</td>\n      <td>0</td>\n      <td>15123</td>\n      <td>2020-09-02</td>\n      <td>2020-10-31</td>\n      <td>0.0</td>\n    </tr>\n    <tr>\n      <th>...</th>\n      <td>...</td>\n      <td>...</td>\n      <td>...</td>\n      <td>...</td>\n      <td>...</td>\n      <td>...</td>\n      <td>...</td>\n      <td>...</td>\n    </tr>\n    <tr>\n      <th>117</th>\n      <td>2020-12-27</td>\n      <td>6</td>\n      <td>16</td>\n      <td>8</td>\n      <td>17345</td>\n      <td>2020-10-26</td>\n      <td>2020-12-31</td>\n      <td>0.0</td>\n    </tr>\n    <tr>\n      <th>118</th>\n      <td>2020-12-28</td>\n      <td>0</td>\n      <td>17</td>\n      <td>8</td>\n      <td>17345</td>\n      <td>2020-10-26</td>\n      <td>2020-12-31</td>\n      <td>0.0</td>\n    </tr>\n    <tr>\n      <th>119</th>\n      <td>2020-12-29</td>\n      <td>1</td>\n      <td>17</td>\n      <td>8</td>\n      <td>17345</td>\n      <td>2020-10-26</td>\n      <td>2020-12-31</td>\n      <td>0.0</td>\n    </tr>\n    <tr>\n      <th>120</th>\n      <td>2020-12-30</td>\n      <td>2</td>\n      <td>17</td>\n      <td>8</td>\n      <td>17345</td>\n      <td>2020-10-26</td>\n      <td>2020-12-31</td>\n      <td>0.0</td>\n    </tr>\n    <tr>\n      <th>121</th>\n      <td>2020-12-31</td>\n      <td>3</td>\n      <td>17</td>\n      <td>8</td>\n      <td>17345</td>\n      <td>2020-10-26</td>\n      <td>2020-12-31</td>\n      <td>0.0</td>\n    </tr>\n  </tbody>\n</table>\n<p>610 rows × 8 columns</p>\n</div>"
     },
     "execution_count": 8,
     "metadata": {},
     "output_type": "execute_result"
    }
   ],
   "source": [
    "rp.transfrom(tab_num_index=0)\n",
    "# rp.transfrom(tab_num_index=3)\n",
    "# rp.transfrom(tab_num_index=4)\n"
   ],
   "metadata": {
    "collapsed": false,
    "pycharm": {
     "name": "#%%\n"
    }
   }
  },
  {
   "cell_type": "code",
   "execution_count": 41,
   "outputs": [
    {
     "data": {
      "text/plain": "      ymd_date  weekday  week  halfweek tab_num start_date finish_date  \\\n0   2020-09-01        1     0         0   18456 2020-09-02  2020-09-30   \n1   2020-09-02        2     0         0   18456 2020-09-02  2020-09-30   \n2   2020-09-03        3     0         0   18456 2020-09-02  2020-09-30   \n3   2020-09-04        4     0         0   18456 2020-09-02  2020-09-30   \n4   2020-09-05        5     0         0   18456 2020-09-02  2020-09-30   \n..         ...      ...   ...       ...     ...        ...         ...   \n117 2020-12-27        6    16         8   18456 2020-09-02  2020-09-30   \n118 2020-12-28        0    17         8   18456 2020-09-02  2020-09-30   \n119 2020-12-29        1    17         8   18456 2020-09-02  2020-09-30   \n120 2020-12-30        2    17         8   18456 2020-09-02  2020-09-30   \n121 2020-12-31        3    17         8   18456 2020-09-02  2020-09-30   \n\n     to_be_at_office  \n0                0.0  \n1                0.0  \n2                0.0  \n3                0.0  \n4                0.0  \n..               ...  \n117              0.0  \n118              0.0  \n119              0.0  \n120              0.0  \n121              0.0  \n\n[122 rows x 8 columns]",
      "text/html": "<div>\n<style scoped>\n    .dataframe tbody tr th:only-of-type {\n        vertical-align: middle;\n    }\n\n    .dataframe tbody tr th {\n        vertical-align: top;\n    }\n\n    .dataframe thead th {\n        text-align: right;\n    }\n</style>\n<table border=\"1\" class=\"dataframe\">\n  <thead>\n    <tr style=\"text-align: right;\">\n      <th></th>\n      <th>ymd_date</th>\n      <th>weekday</th>\n      <th>week</th>\n      <th>halfweek</th>\n      <th>tab_num</th>\n      <th>start_date</th>\n      <th>finish_date</th>\n      <th>to_be_at_office</th>\n    </tr>\n  </thead>\n  <tbody>\n    <tr>\n      <th>0</th>\n      <td>2020-09-01</td>\n      <td>1</td>\n      <td>0</td>\n      <td>0</td>\n      <td>18456</td>\n      <td>2020-09-02</td>\n      <td>2020-09-30</td>\n      <td>0.0</td>\n    </tr>\n    <tr>\n      <th>1</th>\n      <td>2020-09-02</td>\n      <td>2</td>\n      <td>0</td>\n      <td>0</td>\n      <td>18456</td>\n      <td>2020-09-02</td>\n      <td>2020-09-30</td>\n      <td>0.0</td>\n    </tr>\n    <tr>\n      <th>2</th>\n      <td>2020-09-03</td>\n      <td>3</td>\n      <td>0</td>\n      <td>0</td>\n      <td>18456</td>\n      <td>2020-09-02</td>\n      <td>2020-09-30</td>\n      <td>0.0</td>\n    </tr>\n    <tr>\n      <th>3</th>\n      <td>2020-09-04</td>\n      <td>4</td>\n      <td>0</td>\n      <td>0</td>\n      <td>18456</td>\n      <td>2020-09-02</td>\n      <td>2020-09-30</td>\n      <td>0.0</td>\n    </tr>\n    <tr>\n      <th>4</th>\n      <td>2020-09-05</td>\n      <td>5</td>\n      <td>0</td>\n      <td>0</td>\n      <td>18456</td>\n      <td>2020-09-02</td>\n      <td>2020-09-30</td>\n      <td>0.0</td>\n    </tr>\n    <tr>\n      <th>...</th>\n      <td>...</td>\n      <td>...</td>\n      <td>...</td>\n      <td>...</td>\n      <td>...</td>\n      <td>...</td>\n      <td>...</td>\n      <td>...</td>\n    </tr>\n    <tr>\n      <th>117</th>\n      <td>2020-12-27</td>\n      <td>6</td>\n      <td>16</td>\n      <td>8</td>\n      <td>18456</td>\n      <td>2020-09-02</td>\n      <td>2020-09-30</td>\n      <td>0.0</td>\n    </tr>\n    <tr>\n      <th>118</th>\n      <td>2020-12-28</td>\n      <td>0</td>\n      <td>17</td>\n      <td>8</td>\n      <td>18456</td>\n      <td>2020-09-02</td>\n      <td>2020-09-30</td>\n      <td>0.0</td>\n    </tr>\n    <tr>\n      <th>119</th>\n      <td>2020-12-29</td>\n      <td>1</td>\n      <td>17</td>\n      <td>8</td>\n      <td>18456</td>\n      <td>2020-09-02</td>\n      <td>2020-09-30</td>\n      <td>0.0</td>\n    </tr>\n    <tr>\n      <th>120</th>\n      <td>2020-12-30</td>\n      <td>2</td>\n      <td>17</td>\n      <td>8</td>\n      <td>18456</td>\n      <td>2020-09-02</td>\n      <td>2020-09-30</td>\n      <td>0.0</td>\n    </tr>\n    <tr>\n      <th>121</th>\n      <td>2020-12-31</td>\n      <td>3</td>\n      <td>17</td>\n      <td>8</td>\n      <td>18456</td>\n      <td>2020-09-02</td>\n      <td>2020-09-30</td>\n      <td>0.0</td>\n    </tr>\n  </tbody>\n</table>\n<p>122 rows × 8 columns</p>\n</div>"
     },
     "execution_count": 41,
     "metadata": {},
     "output_type": "execute_result"
    }
   ],
   "source": [
    "rp.data[rp.data['tab_num'] == init_df.tab_num.to_list()[4]]"
   ],
   "metadata": {
    "collapsed": false,
    "pycharm": {
     "name": "#%%\n"
    }
   }
  },
  {
   "cell_type": "code",
   "execution_count": 22,
   "outputs": [],
   "source": [],
   "metadata": {
    "collapsed": false,
    "pycharm": {
     "name": "#%%\n"
    }
   }
  },
  {
   "cell_type": "code",
   "execution_count": 22,
   "outputs": [],
   "source": [],
   "metadata": {
    "collapsed": false,
    "pycharm": {
     "name": "#%%\n"
    }
   }
  },
  {
   "cell_type": "code",
   "execution_count": 23,
   "outputs": [],
   "source": [
    "start_date_dict = dict(zip(range(init_df.shape[0]), init_df.start_date.to_list()))\n",
    "finish_date_dict = dict(zip(range(init_df.shape[0]), init_df.finish_date.to_list()))"
   ],
   "metadata": {
    "collapsed": false,
    "pycharm": {
     "name": "#%%\n"
    }
   }
  },
  {
   "cell_type": "code",
   "execution_count": 24,
   "outputs": [
    {
     "data": {
      "text/plain": "'15123'"
     },
     "execution_count": 24,
     "metadata": {},
     "output_type": "execute_result"
    }
   ],
   "source": [
    "init_df.tab_num.unique()[0]"
   ],
   "metadata": {
    "collapsed": false,
    "pycharm": {
     "name": "#%%\n"
    }
   }
  },
  {
   "cell_type": "code",
   "execution_count": 25,
   "outputs": [
    {
     "name": "stdout",
     "output_type": "stream",
     "text": [
      "15123\n"
     ]
    }
   ],
   "source": [
    "print(init_df.tab_num.to_list()[0])\n",
    "tab_num_index = 0\n",
    "dash_merged.loc[\n",
    "    (dash_merged['tab_num'] == init_df.tab_num.to_list()[tab_num_index]) &\n",
    "    (dash_merged['ymd_date'] <= finish_date_dict[tab_num_index].to_datetime64()) &\n",
    "    (dash_merged['ymd_date'] >= start_date_dict[tab_num_index].to_datetime64()) &\n",
    "    (dash_merged['weekday'] != 5) &\n",
    "    (dash_merged['weekday'] != 6),\n",
    "    'to_be_at_office'\n",
    "] = 1"
   ],
   "metadata": {
    "collapsed": false,
    "pycharm": {
     "name": "#%%\n"
    }
   }
  },
  {
   "cell_type": "code",
   "execution_count": 26,
   "outputs": [
    {
     "data": {
      "text/plain": "      ymd_date  weekday  week  halfweek tab_num start_date finish_date  \\\n0   2020-09-01        1     0         0   15123 2020-09-02  2020-10-31   \n1   2020-09-02        2     0         0   15123 2020-09-02  2020-10-31   \n2   2020-09-03        3     0         0   15123 2020-09-02  2020-10-31   \n3   2020-09-04        4     0         0   15123 2020-09-02  2020-10-31   \n4   2020-09-05        5     0         0   15123 2020-09-02  2020-10-31   \n..         ...      ...   ...       ...     ...        ...         ...   \n117 2020-12-27        6    16         8   15123 2020-09-02  2020-10-31   \n118 2020-12-28        0    17         8   15123 2020-09-02  2020-10-31   \n119 2020-12-29        1    17         8   15123 2020-09-02  2020-10-31   \n120 2020-12-30        2    17         8   15123 2020-09-02  2020-10-31   \n121 2020-12-31        3    17         8   15123 2020-09-02  2020-10-31   \n\n     to_be_at_office  \n0                NaN  \n1                1.0  \n2                1.0  \n3                1.0  \n4                NaN  \n..               ...  \n117              NaN  \n118              NaN  \n119              NaN  \n120              NaN  \n121              NaN  \n\n[122 rows x 8 columns]",
      "text/html": "<div>\n<style scoped>\n    .dataframe tbody tr th:only-of-type {\n        vertical-align: middle;\n    }\n\n    .dataframe tbody tr th {\n        vertical-align: top;\n    }\n\n    .dataframe thead th {\n        text-align: right;\n    }\n</style>\n<table border=\"1\" class=\"dataframe\">\n  <thead>\n    <tr style=\"text-align: right;\">\n      <th></th>\n      <th>ymd_date</th>\n      <th>weekday</th>\n      <th>week</th>\n      <th>halfweek</th>\n      <th>tab_num</th>\n      <th>start_date</th>\n      <th>finish_date</th>\n      <th>to_be_at_office</th>\n    </tr>\n  </thead>\n  <tbody>\n    <tr>\n      <th>0</th>\n      <td>2020-09-01</td>\n      <td>1</td>\n      <td>0</td>\n      <td>0</td>\n      <td>15123</td>\n      <td>2020-09-02</td>\n      <td>2020-10-31</td>\n      <td>NaN</td>\n    </tr>\n    <tr>\n      <th>1</th>\n      <td>2020-09-02</td>\n      <td>2</td>\n      <td>0</td>\n      <td>0</td>\n      <td>15123</td>\n      <td>2020-09-02</td>\n      <td>2020-10-31</td>\n      <td>1.0</td>\n    </tr>\n    <tr>\n      <th>2</th>\n      <td>2020-09-03</td>\n      <td>3</td>\n      <td>0</td>\n      <td>0</td>\n      <td>15123</td>\n      <td>2020-09-02</td>\n      <td>2020-10-31</td>\n      <td>1.0</td>\n    </tr>\n    <tr>\n      <th>3</th>\n      <td>2020-09-04</td>\n      <td>4</td>\n      <td>0</td>\n      <td>0</td>\n      <td>15123</td>\n      <td>2020-09-02</td>\n      <td>2020-10-31</td>\n      <td>1.0</td>\n    </tr>\n    <tr>\n      <th>4</th>\n      <td>2020-09-05</td>\n      <td>5</td>\n      <td>0</td>\n      <td>0</td>\n      <td>15123</td>\n      <td>2020-09-02</td>\n      <td>2020-10-31</td>\n      <td>NaN</td>\n    </tr>\n    <tr>\n      <th>...</th>\n      <td>...</td>\n      <td>...</td>\n      <td>...</td>\n      <td>...</td>\n      <td>...</td>\n      <td>...</td>\n      <td>...</td>\n      <td>...</td>\n    </tr>\n    <tr>\n      <th>117</th>\n      <td>2020-12-27</td>\n      <td>6</td>\n      <td>16</td>\n      <td>8</td>\n      <td>15123</td>\n      <td>2020-09-02</td>\n      <td>2020-10-31</td>\n      <td>NaN</td>\n    </tr>\n    <tr>\n      <th>118</th>\n      <td>2020-12-28</td>\n      <td>0</td>\n      <td>17</td>\n      <td>8</td>\n      <td>15123</td>\n      <td>2020-09-02</td>\n      <td>2020-10-31</td>\n      <td>NaN</td>\n    </tr>\n    <tr>\n      <th>119</th>\n      <td>2020-12-29</td>\n      <td>1</td>\n      <td>17</td>\n      <td>8</td>\n      <td>15123</td>\n      <td>2020-09-02</td>\n      <td>2020-10-31</td>\n      <td>NaN</td>\n    </tr>\n    <tr>\n      <th>120</th>\n      <td>2020-12-30</td>\n      <td>2</td>\n      <td>17</td>\n      <td>8</td>\n      <td>15123</td>\n      <td>2020-09-02</td>\n      <td>2020-10-31</td>\n      <td>NaN</td>\n    </tr>\n    <tr>\n      <th>121</th>\n      <td>2020-12-31</td>\n      <td>3</td>\n      <td>17</td>\n      <td>8</td>\n      <td>15123</td>\n      <td>2020-09-02</td>\n      <td>2020-10-31</td>\n      <td>NaN</td>\n    </tr>\n  </tbody>\n</table>\n<p>122 rows × 8 columns</p>\n</div>"
     },
     "execution_count": 26,
     "metadata": {},
     "output_type": "execute_result"
    }
   ],
   "source": [
    "dash_merged[dash_merged['tab_num'] == '15123']"
   ],
   "metadata": {
    "collapsed": false,
    "pycharm": {
     "name": "#%%\n"
    }
   }
  },
  {
   "cell_type": "code",
   "execution_count": 26,
   "outputs": [],
   "source": [],
   "metadata": {
    "collapsed": false,
    "pycharm": {
     "name": "#%%\n"
    }
   }
  },
  {
   "cell_type": "code",
   "execution_count": 26,
   "outputs": [],
   "source": [],
   "metadata": {
    "collapsed": false,
    "pycharm": {
     "name": "#%%\n"
    }
   }
  },
  {
   "cell_type": "code",
   "execution_count": 27,
   "outputs": [
    {
     "name": "stdout",
     "output_type": "stream",
     "text": [
      "17345\n"
     ]
    }
   ],
   "source": [
    "print(init_df.tab_num.to_list()[3])"
   ],
   "metadata": {
    "collapsed": false,
    "pycharm": {
     "name": "#%%\n"
    }
   }
  },
  {
   "cell_type": "code",
   "execution_count": 28,
   "outputs": [],
   "source": [
    "tab_num_index = 3\n",
    "dash_merged.loc[\n",
    "    (dash_merged['tab_num'] == init_df.tab_num.to_list()[tab_num_index]) &\n",
    "    (dash_merged['ymd_date'] <= finish_date_dict[tab_num_index].to_datetime64()) &\n",
    "    (dash_merged['ymd_date'] >= start_date_dict[tab_num_index].to_datetime64()) &\n",
    "    (dash_merged['weekday'] != 5) &\n",
    "    (dash_merged['weekday'] != 6),\n",
    "    'to_be_at_office'\n",
    "] = 0"
   ],
   "metadata": {
    "collapsed": false,
    "pycharm": {
     "name": "#%%\n"
    }
   }
  },
  {
   "cell_type": "code",
   "execution_count": 29,
   "outputs": [
    {
     "data": {
      "text/plain": "      ymd_date  weekday  week  halfweek tab_num start_date finish_date  \\\n0   2020-09-01        1  <NA>      <NA>   17345        NaT         NaT   \n1   2020-09-02        2  <NA>      <NA>   17345        NaT         NaT   \n2   2020-09-03        3  <NA>      <NA>   17345        NaT         NaT   \n3   2020-09-04        4  <NA>      <NA>   17345        NaT         NaT   \n4   2020-09-05        5  <NA>      <NA>   17345        NaT         NaT   \n..         ...      ...   ...       ...     ...        ...         ...   \n117 2020-12-27        6    16         8   17345 2020-10-26  2020-12-31   \n118 2020-12-28        0    17         8   17345 2020-10-26  2020-12-31   \n119 2020-12-29        1    17         8   17345 2020-10-26  2020-12-31   \n120 2020-12-30        2    17         8   17345 2020-10-26  2020-12-31   \n121 2020-12-31        3    17         8   17345 2020-10-26  2020-12-31   \n\n     to_be_at_office  \n0                NaN  \n1                NaN  \n2                NaN  \n3                NaN  \n4                NaN  \n..               ...  \n117              NaN  \n118              0.0  \n119              0.0  \n120              0.0  \n121              0.0  \n\n[122 rows x 8 columns]",
      "text/html": "<div>\n<style scoped>\n    .dataframe tbody tr th:only-of-type {\n        vertical-align: middle;\n    }\n\n    .dataframe tbody tr th {\n        vertical-align: top;\n    }\n\n    .dataframe thead th {\n        text-align: right;\n    }\n</style>\n<table border=\"1\" class=\"dataframe\">\n  <thead>\n    <tr style=\"text-align: right;\">\n      <th></th>\n      <th>ymd_date</th>\n      <th>weekday</th>\n      <th>week</th>\n      <th>halfweek</th>\n      <th>tab_num</th>\n      <th>start_date</th>\n      <th>finish_date</th>\n      <th>to_be_at_office</th>\n    </tr>\n  </thead>\n  <tbody>\n    <tr>\n      <th>0</th>\n      <td>2020-09-01</td>\n      <td>1</td>\n      <td>&lt;NA&gt;</td>\n      <td>&lt;NA&gt;</td>\n      <td>17345</td>\n      <td>NaT</td>\n      <td>NaT</td>\n      <td>NaN</td>\n    </tr>\n    <tr>\n      <th>1</th>\n      <td>2020-09-02</td>\n      <td>2</td>\n      <td>&lt;NA&gt;</td>\n      <td>&lt;NA&gt;</td>\n      <td>17345</td>\n      <td>NaT</td>\n      <td>NaT</td>\n      <td>NaN</td>\n    </tr>\n    <tr>\n      <th>2</th>\n      <td>2020-09-03</td>\n      <td>3</td>\n      <td>&lt;NA&gt;</td>\n      <td>&lt;NA&gt;</td>\n      <td>17345</td>\n      <td>NaT</td>\n      <td>NaT</td>\n      <td>NaN</td>\n    </tr>\n    <tr>\n      <th>3</th>\n      <td>2020-09-04</td>\n      <td>4</td>\n      <td>&lt;NA&gt;</td>\n      <td>&lt;NA&gt;</td>\n      <td>17345</td>\n      <td>NaT</td>\n      <td>NaT</td>\n      <td>NaN</td>\n    </tr>\n    <tr>\n      <th>4</th>\n      <td>2020-09-05</td>\n      <td>5</td>\n      <td>&lt;NA&gt;</td>\n      <td>&lt;NA&gt;</td>\n      <td>17345</td>\n      <td>NaT</td>\n      <td>NaT</td>\n      <td>NaN</td>\n    </tr>\n    <tr>\n      <th>...</th>\n      <td>...</td>\n      <td>...</td>\n      <td>...</td>\n      <td>...</td>\n      <td>...</td>\n      <td>...</td>\n      <td>...</td>\n      <td>...</td>\n    </tr>\n    <tr>\n      <th>117</th>\n      <td>2020-12-27</td>\n      <td>6</td>\n      <td>16</td>\n      <td>8</td>\n      <td>17345</td>\n      <td>2020-10-26</td>\n      <td>2020-12-31</td>\n      <td>NaN</td>\n    </tr>\n    <tr>\n      <th>118</th>\n      <td>2020-12-28</td>\n      <td>0</td>\n      <td>17</td>\n      <td>8</td>\n      <td>17345</td>\n      <td>2020-10-26</td>\n      <td>2020-12-31</td>\n      <td>0.0</td>\n    </tr>\n    <tr>\n      <th>119</th>\n      <td>2020-12-29</td>\n      <td>1</td>\n      <td>17</td>\n      <td>8</td>\n      <td>17345</td>\n      <td>2020-10-26</td>\n      <td>2020-12-31</td>\n      <td>0.0</td>\n    </tr>\n    <tr>\n      <th>120</th>\n      <td>2020-12-30</td>\n      <td>2</td>\n      <td>17</td>\n      <td>8</td>\n      <td>17345</td>\n      <td>2020-10-26</td>\n      <td>2020-12-31</td>\n      <td>0.0</td>\n    </tr>\n    <tr>\n      <th>121</th>\n      <td>2020-12-31</td>\n      <td>3</td>\n      <td>17</td>\n      <td>8</td>\n      <td>17345</td>\n      <td>2020-10-26</td>\n      <td>2020-12-31</td>\n      <td>0.0</td>\n    </tr>\n  </tbody>\n</table>\n<p>122 rows × 8 columns</p>\n</div>"
     },
     "execution_count": 29,
     "metadata": {},
     "output_type": "execute_result"
    }
   ],
   "source": [
    "dash_merged[dash_merged['tab_num'] == '17345']"
   ],
   "metadata": {
    "collapsed": false,
    "pycharm": {
     "name": "#%%\n"
    }
   }
  },
  {
   "cell_type": "code",
   "execution_count": 29,
   "outputs": [],
   "source": [],
   "metadata": {
    "collapsed": false,
    "pycharm": {
     "name": "#%%\n"
    }
   }
  },
  {
   "cell_type": "code",
   "execution_count": 30,
   "outputs": [
    {
     "ename": "ValueError",
     "evalue": "Array conditional must be same shape as self",
     "output_type": "error",
     "traceback": [
      "\u001B[0;31m---------------------------------------------------------------------------\u001B[0m",
      "\u001B[0;31mValueError\u001B[0m                                Traceback (most recent call last)",
      "Input \u001B[0;32mIn [30]\u001B[0m, in \u001B[0;36m<cell line: 1>\u001B[0;34m()\u001B[0m\n\u001B[0;32m----> 1\u001B[0m \u001B[43minit_df\u001B[49m\u001B[43m[\u001B[49m\u001B[43m[\u001B[49m\u001B[38;5;124;43m'\u001B[39;49m\u001B[38;5;124;43mwday_type01\u001B[39;49m\u001B[38;5;124;43m'\u001B[39;49m\u001B[43m,\u001B[49m\u001B[43m \u001B[49m\u001B[38;5;124;43m'\u001B[39;49m\u001B[38;5;124;43mwday_type02\u001B[39;49m\u001B[38;5;124;43m'\u001B[39;49m\u001B[43m,\u001B[49m\u001B[43m \u001B[49m\u001B[38;5;124;43m'\u001B[39;49m\u001B[38;5;124;43mwday_type03\u001B[39;49m\u001B[38;5;124;43m'\u001B[39;49m\u001B[43m,\u001B[49m\u001B[43m \u001B[49m\u001B[38;5;124;43m'\u001B[39;49m\u001B[38;5;124;43mwday_type04\u001B[39;49m\u001B[38;5;124;43m'\u001B[39;49m\u001B[43m,\u001B[49m\u001B[43m \u001B[49m\u001B[38;5;124;43m'\u001B[39;49m\u001B[38;5;124;43mwday_type05\u001B[39;49m\u001B[38;5;124;43m'\u001B[39;49m\u001B[43m]\u001B[49m\u001B[43m]\u001B[49m\u001B[43m[\u001B[49m\u001B[38;5;241;43m2\u001B[39;49m\u001B[43m:\u001B[49m\u001B[38;5;241;43m3\u001B[39;49m\u001B[43m]\u001B[49m\u001B[38;5;241;43m.\u001B[39;49m\u001B[43mwhere\u001B[49m\u001B[43m(\u001B[49m\u001B[38;5;124;43m'\u001B[39;49m\u001B[38;5;124;43mwday_type01 > 0\u001B[39;49m\u001B[38;5;124;43m'\u001B[39;49m\u001B[43m)\u001B[49m\n",
      "File \u001B[0;32m~/PycharmProjects/dashboard-formation/env/lib/python3.10/site-packages/pandas/util/_decorators.py:311\u001B[0m, in \u001B[0;36mdeprecate_nonkeyword_arguments.<locals>.decorate.<locals>.wrapper\u001B[0;34m(*args, **kwargs)\u001B[0m\n\u001B[1;32m    305\u001B[0m \u001B[38;5;28;01mif\u001B[39;00m \u001B[38;5;28mlen\u001B[39m(args) \u001B[38;5;241m>\u001B[39m num_allow_args:\n\u001B[1;32m    306\u001B[0m     warnings\u001B[38;5;241m.\u001B[39mwarn(\n\u001B[1;32m    307\u001B[0m         msg\u001B[38;5;241m.\u001B[39mformat(arguments\u001B[38;5;241m=\u001B[39marguments),\n\u001B[1;32m    308\u001B[0m         \u001B[38;5;167;01mFutureWarning\u001B[39;00m,\n\u001B[1;32m    309\u001B[0m         stacklevel\u001B[38;5;241m=\u001B[39mstacklevel,\n\u001B[1;32m    310\u001B[0m     )\n\u001B[0;32m--> 311\u001B[0m \u001B[38;5;28;01mreturn\u001B[39;00m \u001B[43mfunc\u001B[49m\u001B[43m(\u001B[49m\u001B[38;5;241;43m*\u001B[39;49m\u001B[43margs\u001B[49m\u001B[43m,\u001B[49m\u001B[43m \u001B[49m\u001B[38;5;241;43m*\u001B[39;49m\u001B[38;5;241;43m*\u001B[39;49m\u001B[43mkwargs\u001B[49m\u001B[43m)\u001B[49m\n",
      "File \u001B[0;32m~/PycharmProjects/dashboard-formation/env/lib/python3.10/site-packages/pandas/core/frame.py:10961\u001B[0m, in \u001B[0;36mDataFrame.where\u001B[0;34m(self, cond, other, inplace, axis, level, errors, try_cast)\u001B[0m\n\u001B[1;32m  10948\u001B[0m \u001B[38;5;129m@deprecate_nonkeyword_arguments\u001B[39m(\n\u001B[1;32m  10949\u001B[0m     version\u001B[38;5;241m=\u001B[39m\u001B[38;5;28;01mNone\u001B[39;00m, allowed_args\u001B[38;5;241m=\u001B[39m[\u001B[38;5;124m\"\u001B[39m\u001B[38;5;124mself\u001B[39m\u001B[38;5;124m\"\u001B[39m, \u001B[38;5;124m\"\u001B[39m\u001B[38;5;124mcond\u001B[39m\u001B[38;5;124m\"\u001B[39m, \u001B[38;5;124m\"\u001B[39m\u001B[38;5;124mother\u001B[39m\u001B[38;5;124m\"\u001B[39m]\n\u001B[1;32m  10950\u001B[0m )\n\u001B[0;32m   (...)\u001B[0m\n\u001B[1;32m  10959\u001B[0m     try_cast\u001B[38;5;241m=\u001B[39mlib\u001B[38;5;241m.\u001B[39mno_default,\n\u001B[1;32m  10960\u001B[0m ):\n\u001B[0;32m> 10961\u001B[0m     \u001B[38;5;28;01mreturn\u001B[39;00m \u001B[38;5;28;43msuper\u001B[39;49m\u001B[43m(\u001B[49m\u001B[43m)\u001B[49m\u001B[38;5;241;43m.\u001B[39;49m\u001B[43mwhere\u001B[49m\u001B[43m(\u001B[49m\u001B[43mcond\u001B[49m\u001B[43m,\u001B[49m\u001B[43m \u001B[49m\u001B[43mother\u001B[49m\u001B[43m,\u001B[49m\u001B[43m \u001B[49m\u001B[43minplace\u001B[49m\u001B[43m,\u001B[49m\u001B[43m \u001B[49m\u001B[43maxis\u001B[49m\u001B[43m,\u001B[49m\u001B[43m \u001B[49m\u001B[43mlevel\u001B[49m\u001B[43m,\u001B[49m\u001B[43m \u001B[49m\u001B[43merrors\u001B[49m\u001B[43m,\u001B[49m\u001B[43m \u001B[49m\u001B[43mtry_cast\u001B[49m\u001B[43m)\u001B[49m\n",
      "File \u001B[0;32m~/PycharmProjects/dashboard-formation/env/lib/python3.10/site-packages/pandas/core/generic.py:9310\u001B[0m, in \u001B[0;36mNDFrame.where\u001B[0;34m(self, cond, other, inplace, axis, level, errors, try_cast)\u001B[0m\n\u001B[1;32m   9302\u001B[0m \u001B[38;5;28;01mif\u001B[39;00m try_cast \u001B[38;5;129;01mis\u001B[39;00m \u001B[38;5;129;01mnot\u001B[39;00m lib\u001B[38;5;241m.\u001B[39mno_default:\n\u001B[1;32m   9303\u001B[0m     warnings\u001B[38;5;241m.\u001B[39mwarn(\n\u001B[1;32m   9304\u001B[0m         \u001B[38;5;124m\"\u001B[39m\u001B[38;5;124mtry_cast keyword is deprecated and will be removed in a \u001B[39m\u001B[38;5;124m\"\u001B[39m\n\u001B[1;32m   9305\u001B[0m         \u001B[38;5;124m\"\u001B[39m\u001B[38;5;124mfuture version.\u001B[39m\u001B[38;5;124m\"\u001B[39m,\n\u001B[1;32m   9306\u001B[0m         \u001B[38;5;167;01mFutureWarning\u001B[39;00m,\n\u001B[1;32m   9307\u001B[0m         stacklevel\u001B[38;5;241m=\u001B[39mfind_stack_level(),\n\u001B[1;32m   9308\u001B[0m     )\n\u001B[0;32m-> 9310\u001B[0m \u001B[38;5;28;01mreturn\u001B[39;00m \u001B[38;5;28;43mself\u001B[39;49m\u001B[38;5;241;43m.\u001B[39;49m\u001B[43m_where\u001B[49m\u001B[43m(\u001B[49m\u001B[43mcond\u001B[49m\u001B[43m,\u001B[49m\u001B[43m \u001B[49m\u001B[43mother\u001B[49m\u001B[43m,\u001B[49m\u001B[43m \u001B[49m\u001B[43minplace\u001B[49m\u001B[43m,\u001B[49m\u001B[43m \u001B[49m\u001B[43maxis\u001B[49m\u001B[43m,\u001B[49m\u001B[43m \u001B[49m\u001B[43mlevel\u001B[49m\u001B[43m,\u001B[49m\u001B[43m \u001B[49m\u001B[43merrors\u001B[49m\u001B[38;5;241;43m=\u001B[39;49m\u001B[43merrors\u001B[49m\u001B[43m)\u001B[49m\n",
      "File \u001B[0;32m~/PycharmProjects/dashboard-formation/env/lib/python3.10/site-packages/pandas/core/generic.py:9054\u001B[0m, in \u001B[0;36mNDFrame._where\u001B[0;34m(self, cond, other, inplace, axis, level, errors)\u001B[0m\n\u001B[1;32m   9052\u001B[0m         cond \u001B[38;5;241m=\u001B[39m np\u001B[38;5;241m.\u001B[39masanyarray(cond)\n\u001B[1;32m   9053\u001B[0m     \u001B[38;5;28;01mif\u001B[39;00m cond\u001B[38;5;241m.\u001B[39mshape \u001B[38;5;241m!=\u001B[39m \u001B[38;5;28mself\u001B[39m\u001B[38;5;241m.\u001B[39mshape:\n\u001B[0;32m-> 9054\u001B[0m         \u001B[38;5;28;01mraise\u001B[39;00m \u001B[38;5;167;01mValueError\u001B[39;00m(\u001B[38;5;124m\"\u001B[39m\u001B[38;5;124mArray conditional must be same shape as self\u001B[39m\u001B[38;5;124m\"\u001B[39m)\n\u001B[1;32m   9055\u001B[0m     cond \u001B[38;5;241m=\u001B[39m \u001B[38;5;28mself\u001B[39m\u001B[38;5;241m.\u001B[39m_constructor(cond, \u001B[38;5;241m*\u001B[39m\u001B[38;5;241m*\u001B[39m\u001B[38;5;28mself\u001B[39m\u001B[38;5;241m.\u001B[39m_construct_axes_dict())\n\u001B[1;32m   9057\u001B[0m \u001B[38;5;66;03m# make sure we are boolean\u001B[39;00m\n",
      "\u001B[0;31mValueError\u001B[0m: Array conditional must be same shape as self"
     ]
    }
   ],
   "source": [
    "init_df[['wday_type01', 'wday_type02', 'wday_type03', 'wday_type04', 'wday_type05']][2:3].where('wday_type01 > 0') #.map({1 : 0, 1: 0})"
   ],
   "metadata": {
    "collapsed": false,
    "pycharm": {
     "name": "#%%\n"
    }
   }
  },
  {
   "cell_type": "code",
   "execution_count": null,
   "outputs": [],
   "source": [
    "tab_num_index = 2\n",
    "dash_merged.loc[\n",
    "    (dash_merged['tab_num'] == init_df.tab_num.to_list()[tab_num_index]) &\n",
    "    (dash_merged['ymd_date'] <= finish_date_dict[tab_num_index].to_datetime64()) &\n",
    "    (dash_merged['ymd_date'] >= start_date_dict[tab_num_index].to_datetime64()) &\n",
    "    (dash_merged['weekday'] != 5) &\n",
    "    (dash_merged['weekday'] != 6) &\n",
    "    (dash_merged['weekday'] == 0),\n",
    "    'to_be_at_office'\n",
    "] = 0"
   ],
   "metadata": {
    "collapsed": false,
    "pycharm": {
     "name": "#%%\n"
    }
   }
  },
  {
   "cell_type": "code",
   "execution_count": 31,
   "outputs": [],
   "source": [
    "tab_num_index = 2\n",
    "dash_merged.loc[\n",
    "    (\n",
    "        (dash_merged['tab_num'] == init_df.tab_num.to_list()[tab_num_index]) &\n",
    "        (dash_merged['ymd_date'] < finish_date_dict[tab_num_index].to_datetime64()) &\n",
    "        (dash_merged['ymd_date'] > start_date_dict[tab_num_index].to_datetime64()) &\n",
    "        (dash_merged['weekday'] != 5) &\n",
    "        (dash_merged['weekday'] != 6)\n",
    "    ) &\n",
    "    (\n",
    "        (dash_merged['weekday'].isin([1, 2, 3, 4]))\n",
    "    ),\n",
    "    'to_be_at_office'\n",
    "] = 1"
   ],
   "metadata": {
    "collapsed": false,
    "pycharm": {
     "name": "#%%\n"
    }
   }
  },
  {
   "cell_type": "code",
   "execution_count": 31,
   "outputs": [],
   "source": [],
   "metadata": {
    "collapsed": false,
    "pycharm": {
     "name": "#%%\n"
    }
   }
  },
  {
   "cell_type": "code",
   "execution_count": 32,
   "outputs": [],
   "source": [
    "tab_num_index = 1\n",
    "dash_merged.loc[\n",
    "    (\n",
    "        (dash_merged['tab_num'] == init_df.tab_num.to_list()[tab_num_index]) &\n",
    "        (dash_merged['ymd_date'] <= finish_date_dict[tab_num_index].to_datetime64()) &\n",
    "        (dash_merged['ymd_date'] >= start_date_dict[tab_num_index].to_datetime64()) &\n",
    "        (dash_merged['weekday'] != 5) &\n",
    "        (dash_merged['weekday'] != 6)\n",
    "    ) &\n",
    "    (\n",
    "        (dash_merged['weekday'].isin([0, 1, 4]))\n",
    "    ),\n",
    "    'to_be_at_office'\n",
    "] = 1"
   ],
   "metadata": {
    "collapsed": false,
    "pycharm": {
     "name": "#%%\n"
    }
   }
  },
  {
   "cell_type": "code",
   "execution_count": 33,
   "outputs": [],
   "source": [
    "tab_num_index = 1\n",
    "dash_merged.loc[\n",
    "    (\n",
    "        (dash_merged['tab_num'] == init_df.tab_num.to_list()[tab_num_index]) &\n",
    "        (dash_merged['ymd_date'] <= finish_date_dict[tab_num_index].to_datetime64()) &\n",
    "        (dash_merged['ymd_date'] >= start_date_dict[tab_num_index].to_datetime64()) &\n",
    "        (dash_merged['weekday'] != 5) &\n",
    "        (dash_merged['weekday'] != 6)\n",
    "    )\n",
    "        &\n",
    "    (\n",
    "        (dash_merged['weekday'].isin([2, 3]))\n",
    "    ),\n",
    "    'to_be_at_office'\n",
    "] = 0"
   ],
   "metadata": {
    "collapsed": false,
    "pycharm": {
     "name": "#%%\n"
    }
   }
  },
  {
   "cell_type": "code",
   "execution_count": 34,
   "outputs": [
    {
     "data": {
      "text/plain": "      ymd_date  weekday  week  halfweek tab_num start_date finish_date  \\\n0   2020-09-01        1     0         0   16234 2020-09-20  2020-10-30   \n1   2020-09-02        2     0         0   16234 2020-09-20  2020-10-30   \n2   2020-09-03        3     0         0   16234 2020-09-20  2020-10-30   \n3   2020-09-04        4     0         0   16234 2020-09-20  2020-10-30   \n4   2020-09-05        5     0         0   16234 2020-09-20  2020-10-30   \n..         ...      ...   ...       ...     ...        ...         ...   \n117 2020-12-27        6    16         8   16234 2020-09-20  2020-10-30   \n118 2020-12-28        0    17         8   16234 2020-09-20  2020-10-30   \n119 2020-12-29        1    17         8   16234 2020-09-20  2020-10-30   \n120 2020-12-30        2    17         8   16234 2020-09-20  2020-10-30   \n121 2020-12-31        3    17         8   16234 2020-09-20  2020-10-30   \n\n     to_be_at_office  \n0                NaN  \n1                NaN  \n2                NaN  \n3                NaN  \n4                NaN  \n..               ...  \n117              NaN  \n118              NaN  \n119              NaN  \n120              NaN  \n121              NaN  \n\n[122 rows x 8 columns]",
      "text/html": "<div>\n<style scoped>\n    .dataframe tbody tr th:only-of-type {\n        vertical-align: middle;\n    }\n\n    .dataframe tbody tr th {\n        vertical-align: top;\n    }\n\n    .dataframe thead th {\n        text-align: right;\n    }\n</style>\n<table border=\"1\" class=\"dataframe\">\n  <thead>\n    <tr style=\"text-align: right;\">\n      <th></th>\n      <th>ymd_date</th>\n      <th>weekday</th>\n      <th>week</th>\n      <th>halfweek</th>\n      <th>tab_num</th>\n      <th>start_date</th>\n      <th>finish_date</th>\n      <th>to_be_at_office</th>\n    </tr>\n  </thead>\n  <tbody>\n    <tr>\n      <th>0</th>\n      <td>2020-09-01</td>\n      <td>1</td>\n      <td>0</td>\n      <td>0</td>\n      <td>16234</td>\n      <td>2020-09-20</td>\n      <td>2020-10-30</td>\n      <td>NaN</td>\n    </tr>\n    <tr>\n      <th>1</th>\n      <td>2020-09-02</td>\n      <td>2</td>\n      <td>0</td>\n      <td>0</td>\n      <td>16234</td>\n      <td>2020-09-20</td>\n      <td>2020-10-30</td>\n      <td>NaN</td>\n    </tr>\n    <tr>\n      <th>2</th>\n      <td>2020-09-03</td>\n      <td>3</td>\n      <td>0</td>\n      <td>0</td>\n      <td>16234</td>\n      <td>2020-09-20</td>\n      <td>2020-10-30</td>\n      <td>NaN</td>\n    </tr>\n    <tr>\n      <th>3</th>\n      <td>2020-09-04</td>\n      <td>4</td>\n      <td>0</td>\n      <td>0</td>\n      <td>16234</td>\n      <td>2020-09-20</td>\n      <td>2020-10-30</td>\n      <td>NaN</td>\n    </tr>\n    <tr>\n      <th>4</th>\n      <td>2020-09-05</td>\n      <td>5</td>\n      <td>0</td>\n      <td>0</td>\n      <td>16234</td>\n      <td>2020-09-20</td>\n      <td>2020-10-30</td>\n      <td>NaN</td>\n    </tr>\n    <tr>\n      <th>...</th>\n      <td>...</td>\n      <td>...</td>\n      <td>...</td>\n      <td>...</td>\n      <td>...</td>\n      <td>...</td>\n      <td>...</td>\n      <td>...</td>\n    </tr>\n    <tr>\n      <th>117</th>\n      <td>2020-12-27</td>\n      <td>6</td>\n      <td>16</td>\n      <td>8</td>\n      <td>16234</td>\n      <td>2020-09-20</td>\n      <td>2020-10-30</td>\n      <td>NaN</td>\n    </tr>\n    <tr>\n      <th>118</th>\n      <td>2020-12-28</td>\n      <td>0</td>\n      <td>17</td>\n      <td>8</td>\n      <td>16234</td>\n      <td>2020-09-20</td>\n      <td>2020-10-30</td>\n      <td>NaN</td>\n    </tr>\n    <tr>\n      <th>119</th>\n      <td>2020-12-29</td>\n      <td>1</td>\n      <td>17</td>\n      <td>8</td>\n      <td>16234</td>\n      <td>2020-09-20</td>\n      <td>2020-10-30</td>\n      <td>NaN</td>\n    </tr>\n    <tr>\n      <th>120</th>\n      <td>2020-12-30</td>\n      <td>2</td>\n      <td>17</td>\n      <td>8</td>\n      <td>16234</td>\n      <td>2020-09-20</td>\n      <td>2020-10-30</td>\n      <td>NaN</td>\n    </tr>\n    <tr>\n      <th>121</th>\n      <td>2020-12-31</td>\n      <td>3</td>\n      <td>17</td>\n      <td>8</td>\n      <td>16234</td>\n      <td>2020-09-20</td>\n      <td>2020-10-30</td>\n      <td>NaN</td>\n    </tr>\n  </tbody>\n</table>\n<p>122 rows × 8 columns</p>\n</div>"
     },
     "execution_count": 34,
     "metadata": {},
     "output_type": "execute_result"
    }
   ],
   "source": [
    "dash_merged[dash_merged['tab_num'] == init_df.tab_num.to_list()[1]]"
   ],
   "metadata": {
    "collapsed": false,
    "pycharm": {
     "name": "#%%\n"
    }
   }
  },
  {
   "cell_type": "code",
   "execution_count": 34,
   "outputs": [],
   "source": [],
   "metadata": {
    "collapsed": false,
    "pycharm": {
     "name": "#%%\n"
    }
   }
  },
  {
   "cell_type": "code",
   "execution_count": 35,
   "outputs": [],
   "source": [
    "tab_num_index = 4\n",
    "dash_merged.loc[\n",
    "    (\n",
    "        (dash_merged['tab_num'] == init_df.tab_num.to_list()[tab_num_index]) &\n",
    "        (dash_merged['ymd_date'] <= finish_date_dict[tab_num_index].to_datetime64()) &\n",
    "        (dash_merged['ymd_date'] >= start_date_dict[tab_num_index].to_datetime64()) &\n",
    "        (dash_merged['weekday'] != 5) &\n",
    "        (dash_merged['weekday'] != 6)\n",
    "    )\n",
    "        &\n",
    "    (\n",
    "        (dash_merged['weekday'].isin([0, 1, 2, 3, 4]))\n",
    "    )\n",
    "            &\n",
    "    (\n",
    "        (dash_merged['week'] % 2 == 0)\n",
    "    ),\n",
    "    'to_be_at_office'\n",
    "] = 0"
   ],
   "metadata": {
    "collapsed": false,
    "pycharm": {
     "name": "#%%\n"
    }
   }
  },
  {
   "cell_type": "code",
   "execution_count": 36,
   "outputs": [],
   "source": [
    "tab_num_index = 4\n",
    "dash_merged.loc[\n",
    "    (\n",
    "        (dash_merged['tab_num'] == init_df.tab_num.to_list()[tab_num_index]) &\n",
    "        (dash_merged['ymd_date'] <= finish_date_dict[tab_num_index].to_datetime64()) &\n",
    "        (dash_merged['ymd_date'] >= start_date_dict[tab_num_index].to_datetime64()) &\n",
    "        (dash_merged['weekday'] != 5) &\n",
    "        (dash_merged['weekday'] != 6)\n",
    "    )\n",
    "        &\n",
    "    (\n",
    "        (dash_merged['weekday'].isin([0, 1, 2, 3, 4]))\n",
    "    )\n",
    "            &\n",
    "    (\n",
    "        (dash_merged['week'] % 2 == 1)\n",
    "    ),\n",
    "    'to_be_at_office'\n",
    "] = 1"
   ],
   "metadata": {
    "collapsed": false,
    "pycharm": {
     "name": "#%%\n"
    }
   }
  },
  {
   "cell_type": "code",
   "execution_count": 37,
   "outputs": [
    {
     "data": {
      "text/plain": "      ymd_date  weekday  week  halfweek tab_num start_date finish_date  \\\n0   2020-09-01        1     0         0   18456 2020-09-02  2020-09-30   \n1   2020-09-02        2     0         0   18456 2020-09-02  2020-09-30   \n2   2020-09-03        3     0         0   18456 2020-09-02  2020-09-30   \n3   2020-09-04        4     0         0   18456 2020-09-02  2020-09-30   \n4   2020-09-05        5     0         0   18456 2020-09-02  2020-09-30   \n..         ...      ...   ...       ...     ...        ...         ...   \n117 2020-12-27        6    16         8   18456 2020-09-02  2020-09-30   \n118 2020-12-28        0    17         8   18456 2020-09-02  2020-09-30   \n119 2020-12-29        1    17         8   18456 2020-09-02  2020-09-30   \n120 2020-12-30        2    17         8   18456 2020-09-02  2020-09-30   \n121 2020-12-31        3    17         8   18456 2020-09-02  2020-09-30   \n\n     to_be_at_office  \n0                NaN  \n1                0.0  \n2                0.0  \n3                0.0  \n4                NaN  \n..               ...  \n117              NaN  \n118              NaN  \n119              NaN  \n120              NaN  \n121              NaN  \n\n[122 rows x 8 columns]",
      "text/html": "<div>\n<style scoped>\n    .dataframe tbody tr th:only-of-type {\n        vertical-align: middle;\n    }\n\n    .dataframe tbody tr th {\n        vertical-align: top;\n    }\n\n    .dataframe thead th {\n        text-align: right;\n    }\n</style>\n<table border=\"1\" class=\"dataframe\">\n  <thead>\n    <tr style=\"text-align: right;\">\n      <th></th>\n      <th>ymd_date</th>\n      <th>weekday</th>\n      <th>week</th>\n      <th>halfweek</th>\n      <th>tab_num</th>\n      <th>start_date</th>\n      <th>finish_date</th>\n      <th>to_be_at_office</th>\n    </tr>\n  </thead>\n  <tbody>\n    <tr>\n      <th>0</th>\n      <td>2020-09-01</td>\n      <td>1</td>\n      <td>0</td>\n      <td>0</td>\n      <td>18456</td>\n      <td>2020-09-02</td>\n      <td>2020-09-30</td>\n      <td>NaN</td>\n    </tr>\n    <tr>\n      <th>1</th>\n      <td>2020-09-02</td>\n      <td>2</td>\n      <td>0</td>\n      <td>0</td>\n      <td>18456</td>\n      <td>2020-09-02</td>\n      <td>2020-09-30</td>\n      <td>0.0</td>\n    </tr>\n    <tr>\n      <th>2</th>\n      <td>2020-09-03</td>\n      <td>3</td>\n      <td>0</td>\n      <td>0</td>\n      <td>18456</td>\n      <td>2020-09-02</td>\n      <td>2020-09-30</td>\n      <td>0.0</td>\n    </tr>\n    <tr>\n      <th>3</th>\n      <td>2020-09-04</td>\n      <td>4</td>\n      <td>0</td>\n      <td>0</td>\n      <td>18456</td>\n      <td>2020-09-02</td>\n      <td>2020-09-30</td>\n      <td>0.0</td>\n    </tr>\n    <tr>\n      <th>4</th>\n      <td>2020-09-05</td>\n      <td>5</td>\n      <td>0</td>\n      <td>0</td>\n      <td>18456</td>\n      <td>2020-09-02</td>\n      <td>2020-09-30</td>\n      <td>NaN</td>\n    </tr>\n    <tr>\n      <th>...</th>\n      <td>...</td>\n      <td>...</td>\n      <td>...</td>\n      <td>...</td>\n      <td>...</td>\n      <td>...</td>\n      <td>...</td>\n      <td>...</td>\n    </tr>\n    <tr>\n      <th>117</th>\n      <td>2020-12-27</td>\n      <td>6</td>\n      <td>16</td>\n      <td>8</td>\n      <td>18456</td>\n      <td>2020-09-02</td>\n      <td>2020-09-30</td>\n      <td>NaN</td>\n    </tr>\n    <tr>\n      <th>118</th>\n      <td>2020-12-28</td>\n      <td>0</td>\n      <td>17</td>\n      <td>8</td>\n      <td>18456</td>\n      <td>2020-09-02</td>\n      <td>2020-09-30</td>\n      <td>NaN</td>\n    </tr>\n    <tr>\n      <th>119</th>\n      <td>2020-12-29</td>\n      <td>1</td>\n      <td>17</td>\n      <td>8</td>\n      <td>18456</td>\n      <td>2020-09-02</td>\n      <td>2020-09-30</td>\n      <td>NaN</td>\n    </tr>\n    <tr>\n      <th>120</th>\n      <td>2020-12-30</td>\n      <td>2</td>\n      <td>17</td>\n      <td>8</td>\n      <td>18456</td>\n      <td>2020-09-02</td>\n      <td>2020-09-30</td>\n      <td>NaN</td>\n    </tr>\n    <tr>\n      <th>121</th>\n      <td>2020-12-31</td>\n      <td>3</td>\n      <td>17</td>\n      <td>8</td>\n      <td>18456</td>\n      <td>2020-09-02</td>\n      <td>2020-09-30</td>\n      <td>NaN</td>\n    </tr>\n  </tbody>\n</table>\n<p>122 rows × 8 columns</p>\n</div>"
     },
     "execution_count": 37,
     "metadata": {},
     "output_type": "execute_result"
    }
   ],
   "source": [
    "dash_merged[dash_merged['tab_num'] == init_df.tab_num.to_list()[4]]"
   ],
   "metadata": {
    "collapsed": false,
    "pycharm": {
     "name": "#%%\n"
    }
   }
  },
  {
   "cell_type": "code",
   "execution_count": 38,
   "outputs": [
    {
     "data": {
      "text/plain": "      ymd_date  weekday  week  halfweek tab_num start_date finish_date  \\\n0   2020-09-01        1     0         0   15123 2020-09-02  2020-10-31   \n1   2020-09-02        2     0         0   15123 2020-09-02  2020-10-31   \n2   2020-09-03        3     0         0   15123 2020-09-02  2020-10-31   \n3   2020-09-04        4     0         0   15123 2020-09-02  2020-10-31   \n4   2020-09-05        5     0         0   15123 2020-09-02  2020-10-31   \n..         ...      ...   ...       ...     ...        ...         ...   \n117 2020-12-27        6    16         8   17345 2020-10-26  2020-12-31   \n118 2020-12-28        0    17         8   17345 2020-10-26  2020-12-31   \n119 2020-12-29        1    17         8   17345 2020-10-26  2020-12-31   \n120 2020-12-30        2    17         8   17345 2020-10-26  2020-12-31   \n121 2020-12-31        3    17         8   17345 2020-10-26  2020-12-31   \n\n     to_be_at_office  \n0                NaN  \n1                1.0  \n2                1.0  \n3                1.0  \n4                NaN  \n..               ...  \n117              NaN  \n118              0.0  \n119              0.0  \n120              0.0  \n121              0.0  \n\n[610 rows x 8 columns]",
      "text/html": "<div>\n<style scoped>\n    .dataframe tbody tr th:only-of-type {\n        vertical-align: middle;\n    }\n\n    .dataframe tbody tr th {\n        vertical-align: top;\n    }\n\n    .dataframe thead th {\n        text-align: right;\n    }\n</style>\n<table border=\"1\" class=\"dataframe\">\n  <thead>\n    <tr style=\"text-align: right;\">\n      <th></th>\n      <th>ymd_date</th>\n      <th>weekday</th>\n      <th>week</th>\n      <th>halfweek</th>\n      <th>tab_num</th>\n      <th>start_date</th>\n      <th>finish_date</th>\n      <th>to_be_at_office</th>\n    </tr>\n  </thead>\n  <tbody>\n    <tr>\n      <th>0</th>\n      <td>2020-09-01</td>\n      <td>1</td>\n      <td>0</td>\n      <td>0</td>\n      <td>15123</td>\n      <td>2020-09-02</td>\n      <td>2020-10-31</td>\n      <td>NaN</td>\n    </tr>\n    <tr>\n      <th>1</th>\n      <td>2020-09-02</td>\n      <td>2</td>\n      <td>0</td>\n      <td>0</td>\n      <td>15123</td>\n      <td>2020-09-02</td>\n      <td>2020-10-31</td>\n      <td>1.0</td>\n    </tr>\n    <tr>\n      <th>2</th>\n      <td>2020-09-03</td>\n      <td>3</td>\n      <td>0</td>\n      <td>0</td>\n      <td>15123</td>\n      <td>2020-09-02</td>\n      <td>2020-10-31</td>\n      <td>1.0</td>\n    </tr>\n    <tr>\n      <th>3</th>\n      <td>2020-09-04</td>\n      <td>4</td>\n      <td>0</td>\n      <td>0</td>\n      <td>15123</td>\n      <td>2020-09-02</td>\n      <td>2020-10-31</td>\n      <td>1.0</td>\n    </tr>\n    <tr>\n      <th>4</th>\n      <td>2020-09-05</td>\n      <td>5</td>\n      <td>0</td>\n      <td>0</td>\n      <td>15123</td>\n      <td>2020-09-02</td>\n      <td>2020-10-31</td>\n      <td>NaN</td>\n    </tr>\n    <tr>\n      <th>...</th>\n      <td>...</td>\n      <td>...</td>\n      <td>...</td>\n      <td>...</td>\n      <td>...</td>\n      <td>...</td>\n      <td>...</td>\n      <td>...</td>\n    </tr>\n    <tr>\n      <th>117</th>\n      <td>2020-12-27</td>\n      <td>6</td>\n      <td>16</td>\n      <td>8</td>\n      <td>17345</td>\n      <td>2020-10-26</td>\n      <td>2020-12-31</td>\n      <td>NaN</td>\n    </tr>\n    <tr>\n      <th>118</th>\n      <td>2020-12-28</td>\n      <td>0</td>\n      <td>17</td>\n      <td>8</td>\n      <td>17345</td>\n      <td>2020-10-26</td>\n      <td>2020-12-31</td>\n      <td>0.0</td>\n    </tr>\n    <tr>\n      <th>119</th>\n      <td>2020-12-29</td>\n      <td>1</td>\n      <td>17</td>\n      <td>8</td>\n      <td>17345</td>\n      <td>2020-10-26</td>\n      <td>2020-12-31</td>\n      <td>0.0</td>\n    </tr>\n    <tr>\n      <th>120</th>\n      <td>2020-12-30</td>\n      <td>2</td>\n      <td>17</td>\n      <td>8</td>\n      <td>17345</td>\n      <td>2020-10-26</td>\n      <td>2020-12-31</td>\n      <td>0.0</td>\n    </tr>\n    <tr>\n      <th>121</th>\n      <td>2020-12-31</td>\n      <td>3</td>\n      <td>17</td>\n      <td>8</td>\n      <td>17345</td>\n      <td>2020-10-26</td>\n      <td>2020-12-31</td>\n      <td>0.0</td>\n    </tr>\n  </tbody>\n</table>\n<p>610 rows × 8 columns</p>\n</div>"
     },
     "execution_count": 38,
     "metadata": {},
     "output_type": "execute_result"
    }
   ],
   "source": [
    "dash_merged"
   ],
   "metadata": {
    "collapsed": false,
    "pycharm": {
     "name": "#%%\n"
    }
   }
  },
  {
   "cell_type": "code",
   "execution_count": null,
   "outputs": [],
   "source": [],
   "metadata": {
    "collapsed": false,
    "pycharm": {
     "name": "#%%\n"
    }
   }
  },
  {
   "cell_type": "code",
   "execution_count": null,
   "outputs": [],
   "source": [
    "tab_num_index = 5\n",
    "dash_merged.loc[\n",
    "    (\n",
    "        (dash_merged['tab_num'] == init_df.tab_num.to_list()[tab_num_index]) &\n",
    "        (dash_merged['ymd_date'] <= finish_date_dict[tab_num_index].to_datetime64()) &\n",
    "        (dash_merged['ymd_date'] >= start_date_dict[tab_num_index].to_datetime64()) &\n",
    "        (dash_merged['weekday'] != 5) &\n",
    "        (dash_merged['weekday'] != 6)\n",
    "    )\n",
    "        &\n",
    "    (\n",
    "        (dash_merged['weekday'].isin([0, 1, 2, 3, 4]))\n",
    "    )\n",
    "            &\n",
    "    (\n",
    "        (dash_merged['halfweek'] % 2 == 0)\n",
    "    ),\n",
    "    'to_be_at_office'\n",
    "] = 0"
   ],
   "metadata": {
    "collapsed": false,
    "pycharm": {
     "name": "#%%\n"
    }
   }
  },
  {
   "cell_type": "code",
   "execution_count": null,
   "outputs": [],
   "source": [
    "tab_num_index = 5\n",
    "dash_merged.loc[\n",
    "    (\n",
    "        (dash_merged['tab_num'] == init_df.tab_num.to_list()[tab_num_index]) &\n",
    "        (dash_merged['ymd_date'] <= finish_date_dict[tab_num_index].to_datetime64()) &\n",
    "        (dash_merged['ymd_date'] >= start_date_dict[tab_num_index].to_datetime64()) &\n",
    "        (dash_merged['weekday'] != 5) &\n",
    "        (dash_merged['weekday'] != 6)\n",
    "    )\n",
    "        &\n",
    "    (\n",
    "        (dash_merged['weekday'].isin([0, 1, 2, 3, 4]))\n",
    "    )\n",
    "            &\n",
    "    (\n",
    "        (dash_merged['halfweek'] % 2 == 1)\n",
    "    ),\n",
    "    'to_be_at_office'\n",
    "] = 1"
   ],
   "metadata": {
    "collapsed": false,
    "pycharm": {
     "name": "#%%\n"
    }
   }
  },
  {
   "cell_type": "code",
   "execution_count": null,
   "outputs": [],
   "source": [
    "dash_merged[dash_merged['tab_num'] == init_df.tab_num.to_list()[5]]"
   ],
   "metadata": {
    "collapsed": false,
    "pycharm": {
     "name": "#%%\n"
    }
   }
  },
  {
   "cell_type": "code",
   "execution_count": null,
   "outputs": [],
   "source": [
    "# TO-DO поменять формат даты"
   ],
   "metadata": {
    "collapsed": false,
    "pycharm": {
     "name": "#%%\n"
    }
   }
  },
  {
   "cell_type": "code",
   "execution_count": null,
   "outputs": [],
   "source": [
    "dash_merged[['tab_num', 'ymd_date', 'to_be_at_office']].sort_values(by=['tab_num', 'ymd_date']).reset_index(drop=True)"
   ],
   "metadata": {
    "collapsed": false,
    "pycharm": {
     "name": "#%%\n"
    }
   }
  },
  {
   "cell_type": "code",
   "execution_count": null,
   "outputs": [],
   "source": [],
   "metadata": {
    "collapsed": false,
    "pycharm": {
     "name": "#%%\n"
    }
   }
  }
 ],
 "metadata": {
  "kernelspec": {
   "display_name": "Python 3",
   "language": "python",
   "name": "python3"
  },
  "language_info": {
   "codemirror_mode": {
    "name": "ipython",
    "version": 2
   },
   "file_extension": ".py",
   "mimetype": "text/x-python",
   "name": "python",
   "nbconvert_exporter": "python",
   "pygments_lexer": "ipython2",
   "version": "2.7.6"
  }
 },
 "nbformat": 4,
 "nbformat_minor": 0
}