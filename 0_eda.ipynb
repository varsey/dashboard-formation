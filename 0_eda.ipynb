{
 "cells": [
  {
   "cell_type": "markdown",
   "source": [
    "### Импортируем библиотеки"
   ],
   "metadata": {
    "collapsed": false,
    "pycharm": {
     "name": "#%% md\n"
    }
   }
  },
  {
   "cell_type": "code",
   "execution_count": 5,
   "outputs": [],
   "source": [
    "import numpy as np\n",
    "import pandas as pd\n",
    "from docx import Document"
   ],
   "metadata": {
    "collapsed": false,
    "pycharm": {
     "name": "#%%\n"
    }
   }
  },
  {
   "cell_type": "markdown",
   "source": [
    "### Считываю исходную таблицу из файла"
   ],
   "metadata": {
    "collapsed": false,
    "pycharm": {
     "name": "#%% md\n"
    }
   }
  },
  {
   "cell_type": "code",
   "execution_count": 2,
   "outputs": [],
   "source": [
    "def parse_docx_table(filename: str):\n",
    "    document = Document(filename)\n",
    "\n",
    "    tables = []\n",
    "    for table in document.tables:\n",
    "        # список списков с пустыми строками - структура будущего датафрейма\n",
    "        df = [['' for x in range(len(table.columns))] for y in range(len(table.rows))]\n",
    "        # заполняем дф данными из табл\n",
    "        for x, row in enumerate(table.rows):\n",
    "            for y, cell in enumerate(row.cells):\n",
    "                if cell.text:\n",
    "                    df[x][y] = cell.text\n",
    "        tables.append(pd.DataFrame(df))\n",
    "\n",
    "    return tables"
   ],
   "metadata": {
    "collapsed": false,
    "pycharm": {
     "name": "#%%\n"
    }
   }
  },
  {
   "cell_type": "code",
   "execution_count": 3,
   "outputs": [
    {
     "ename": "NameError",
     "evalue": "name 'Document' is not defined",
     "output_type": "error",
     "traceback": [
      "\u001B[0;31m---------------------------------------------------------------------------\u001B[0m",
      "\u001B[0;31mNameError\u001B[0m                                 Traceback (most recent call last)",
      "Input \u001B[0;32mIn [3]\u001B[0m, in \u001B[0;36m<cell line: 1>\u001B[0;34m()\u001B[0m\n\u001B[0;32m----> 1\u001B[0m df \u001B[38;5;241m=\u001B[39m \u001B[43mparse_docx_table\u001B[49m\u001B[43m(\u001B[49m\u001B[38;5;124;43m'\u001B[39;49m\u001B[38;5;124;43mDE_task_table.docx\u001B[39;49m\u001B[38;5;124;43m'\u001B[39;49m\u001B[43m)\u001B[49m[\u001B[38;5;241m0\u001B[39m]\n",
      "Input \u001B[0;32mIn [2]\u001B[0m, in \u001B[0;36mparse_docx_table\u001B[0;34m(filename)\u001B[0m\n\u001B[1;32m      1\u001B[0m \u001B[38;5;28;01mdef\u001B[39;00m \u001B[38;5;21mparse_docx_table\u001B[39m(filename: \u001B[38;5;28mstr\u001B[39m):\n\u001B[0;32m----> 2\u001B[0m     document \u001B[38;5;241m=\u001B[39m \u001B[43mDocument\u001B[49m(filename)\n\u001B[1;32m      4\u001B[0m     tables \u001B[38;5;241m=\u001B[39m []\n\u001B[1;32m      5\u001B[0m     \u001B[38;5;28;01mfor\u001B[39;00m table \u001B[38;5;129;01min\u001B[39;00m document\u001B[38;5;241m.\u001B[39mtables:\n\u001B[1;32m      6\u001B[0m         \u001B[38;5;66;03m# список списков с пустыми строками - структура будущего датафрейма\u001B[39;00m\n",
      "\u001B[0;31mNameError\u001B[0m: name 'Document' is not defined"
     ]
    }
   ],
   "source": [
    "df = parse_docx_table('DE_task_table.docx')[0]"
   ],
   "metadata": {
    "collapsed": false,
    "pycharm": {
     "name": "#%%\n"
    }
   }
  },
  {
   "cell_type": "code",
   "execution_count": 5,
   "outputs": [],
   "source": [
    "df = tables[0]\n",
    "new_header = df.iloc[0]\n",
    "df = df[1:]\n",
    "df.columns = new_header"
   ],
   "metadata": {
    "collapsed": false,
    "pycharm": {
     "name": "#%%\n"
    }
   }
  },
  {
   "cell_type": "code",
   "execution_count": 6,
   "outputs": [
    {
     "data": {
      "text/plain": "0 tab_num  start_date finish_date wday_type01 wday_type02 wday_type03  \\\n1   15123  02.09.2020  31.12.9999           0           0           0   \n2   16234  20.09.2020  30.10.2020           0           0           1   \n3   17345  28.09.2020  25.10.2020           1           0           0   \n4   17345  26.10.2020  31.12.2020           1           1           1   \n5   18456  02.09.2020  31.12.9999           2           2           2   \n6   19567  02.09.2020  31.12.2020           3           3           3   \n\n0 wday_type04 wday_type05 wplace_type      end_da  \n1           0           0           0  31.10.2020  \n2           1           0           2              \n3           0           0           2              \n4           1           1           1              \n5           2           2           3  30.09.2020  \n6           3           3           4              ",
      "text/html": "<div>\n<style scoped>\n    .dataframe tbody tr th:only-of-type {\n        vertical-align: middle;\n    }\n\n    .dataframe tbody tr th {\n        vertical-align: top;\n    }\n\n    .dataframe thead th {\n        text-align: right;\n    }\n</style>\n<table border=\"1\" class=\"dataframe\">\n  <thead>\n    <tr style=\"text-align: right;\">\n      <th></th>\n      <th>tab_num</th>\n      <th>start_date</th>\n      <th>finish_date</th>\n      <th>wday_type01</th>\n      <th>wday_type02</th>\n      <th>wday_type03</th>\n      <th>wday_type04</th>\n      <th>wday_type05</th>\n      <th>wplace_type</th>\n      <th>end_da</th>\n    </tr>\n  </thead>\n  <tbody>\n    <tr>\n      <th>1</th>\n      <td>15123</td>\n      <td>02.09.2020</td>\n      <td>31.12.9999</td>\n      <td>0</td>\n      <td>0</td>\n      <td>0</td>\n      <td>0</td>\n      <td>0</td>\n      <td>0</td>\n      <td>31.10.2020</td>\n    </tr>\n    <tr>\n      <th>2</th>\n      <td>16234</td>\n      <td>20.09.2020</td>\n      <td>30.10.2020</td>\n      <td>0</td>\n      <td>0</td>\n      <td>1</td>\n      <td>1</td>\n      <td>0</td>\n      <td>2</td>\n      <td></td>\n    </tr>\n    <tr>\n      <th>3</th>\n      <td>17345</td>\n      <td>28.09.2020</td>\n      <td>25.10.2020</td>\n      <td>1</td>\n      <td>0</td>\n      <td>0</td>\n      <td>0</td>\n      <td>0</td>\n      <td>2</td>\n      <td></td>\n    </tr>\n    <tr>\n      <th>4</th>\n      <td>17345</td>\n      <td>26.10.2020</td>\n      <td>31.12.2020</td>\n      <td>1</td>\n      <td>1</td>\n      <td>1</td>\n      <td>1</td>\n      <td>1</td>\n      <td>1</td>\n      <td></td>\n    </tr>\n    <tr>\n      <th>5</th>\n      <td>18456</td>\n      <td>02.09.2020</td>\n      <td>31.12.9999</td>\n      <td>2</td>\n      <td>2</td>\n      <td>2</td>\n      <td>2</td>\n      <td>2</td>\n      <td>3</td>\n      <td>30.09.2020</td>\n    </tr>\n    <tr>\n      <th>6</th>\n      <td>19567</td>\n      <td>02.09.2020</td>\n      <td>31.12.2020</td>\n      <td>3</td>\n      <td>3</td>\n      <td>3</td>\n      <td>3</td>\n      <td>3</td>\n      <td>4</td>\n      <td></td>\n    </tr>\n  </tbody>\n</table>\n</div>"
     },
     "execution_count": 6,
     "metadata": {},
     "output_type": "execute_result"
    }
   ],
   "source": [
    "df"
   ],
   "metadata": {
    "collapsed": false,
    "pycharm": {
     "name": "#%%\n"
    }
   }
  },
  {
   "cell_type": "code",
   "execution_count": 7,
   "outputs": [
    {
     "name": "stderr",
     "output_type": "stream",
     "text": [
      "/tmp/ipykernel_32671/587058181.py:1: SettingWithCopyWarning: \n",
      "A value is trying to be set on a copy of a slice from a DataFrame.\n",
      "Try using .loc[row_indexer,col_indexer] = value instead\n",
      "\n",
      "See the caveats in the documentation: https://pandas.pydata.org/pandas-docs/stable/user_guide/indexing.html#returning-a-view-versus-a-copy\n",
      "  df['start_date']= pd.to_datetime(df['start_date'], format=\"%d.%m.%Y\", errors = 'coerce')\n",
      "/tmp/ipykernel_32671/587058181.py:2: SettingWithCopyWarning: \n",
      "A value is trying to be set on a copy of a slice from a DataFrame.\n",
      "Try using .loc[row_indexer,col_indexer] = value instead\n",
      "\n",
      "See the caveats in the documentation: https://pandas.pydata.org/pandas-docs/stable/user_guide/indexing.html#returning-a-view-versus-a-copy\n",
      "  df['finish_date']= pd.to_datetime(df['finish_date'], format=\"%d.%m.%Y\", errors = 'coerce')\n"
     ]
    }
   ],
   "source": [
    "df['start_date']= pd.to_datetime(df['start_date'], format=\"%d.%m.%Y\", errors = 'coerce')\n",
    "df['finish_date']= pd.to_datetime(df['finish_date'], format=\"%d.%m.%Y\", errors = 'coerce')"
   ],
   "metadata": {
    "collapsed": false,
    "pycharm": {
     "name": "#%%\n"
    }
   }
  },
  {
   "cell_type": "code",
   "execution_count": 8,
   "outputs": [
    {
     "data": {
      "text/plain": "0 tab_num start_date finish_date wday_type01 wday_type02 wday_type03  \\\n1   15123 2020-09-02         NaT           0           0           0   \n2   16234 2020-09-20  2020-10-30           0           0           1   \n3   17345 2020-09-28  2020-10-25           1           0           0   \n4   17345 2020-10-26  2020-12-31           1           1           1   \n5   18456 2020-09-02         NaT           2           2           2   \n6   19567 2020-09-02  2020-12-31           3           3           3   \n\n0 wday_type04 wday_type05 wplace_type      end_da  \n1           0           0           0  31.10.2020  \n2           1           0           2              \n3           0           0           2              \n4           1           1           1              \n5           2           2           3  30.09.2020  \n6           3           3           4              ",
      "text/html": "<div>\n<style scoped>\n    .dataframe tbody tr th:only-of-type {\n        vertical-align: middle;\n    }\n\n    .dataframe tbody tr th {\n        vertical-align: top;\n    }\n\n    .dataframe thead th {\n        text-align: right;\n    }\n</style>\n<table border=\"1\" class=\"dataframe\">\n  <thead>\n    <tr style=\"text-align: right;\">\n      <th></th>\n      <th>tab_num</th>\n      <th>start_date</th>\n      <th>finish_date</th>\n      <th>wday_type01</th>\n      <th>wday_type02</th>\n      <th>wday_type03</th>\n      <th>wday_type04</th>\n      <th>wday_type05</th>\n      <th>wplace_type</th>\n      <th>end_da</th>\n    </tr>\n  </thead>\n  <tbody>\n    <tr>\n      <th>1</th>\n      <td>15123</td>\n      <td>2020-09-02</td>\n      <td>NaT</td>\n      <td>0</td>\n      <td>0</td>\n      <td>0</td>\n      <td>0</td>\n      <td>0</td>\n      <td>0</td>\n      <td>31.10.2020</td>\n    </tr>\n    <tr>\n      <th>2</th>\n      <td>16234</td>\n      <td>2020-09-20</td>\n      <td>2020-10-30</td>\n      <td>0</td>\n      <td>0</td>\n      <td>1</td>\n      <td>1</td>\n      <td>0</td>\n      <td>2</td>\n      <td></td>\n    </tr>\n    <tr>\n      <th>3</th>\n      <td>17345</td>\n      <td>2020-09-28</td>\n      <td>2020-10-25</td>\n      <td>1</td>\n      <td>0</td>\n      <td>0</td>\n      <td>0</td>\n      <td>0</td>\n      <td>2</td>\n      <td></td>\n    </tr>\n    <tr>\n      <th>4</th>\n      <td>17345</td>\n      <td>2020-10-26</td>\n      <td>2020-12-31</td>\n      <td>1</td>\n      <td>1</td>\n      <td>1</td>\n      <td>1</td>\n      <td>1</td>\n      <td>1</td>\n      <td></td>\n    </tr>\n    <tr>\n      <th>5</th>\n      <td>18456</td>\n      <td>2020-09-02</td>\n      <td>NaT</td>\n      <td>2</td>\n      <td>2</td>\n      <td>2</td>\n      <td>2</td>\n      <td>2</td>\n      <td>3</td>\n      <td>30.09.2020</td>\n    </tr>\n    <tr>\n      <th>6</th>\n      <td>19567</td>\n      <td>2020-09-02</td>\n      <td>2020-12-31</td>\n      <td>3</td>\n      <td>3</td>\n      <td>3</td>\n      <td>3</td>\n      <td>3</td>\n      <td>4</td>\n      <td></td>\n    </tr>\n  </tbody>\n</table>\n</div>"
     },
     "execution_count": 8,
     "metadata": {},
     "output_type": "execute_result"
    }
   ],
   "source": [
    "df"
   ],
   "metadata": {
    "collapsed": false,
    "pycharm": {
     "name": "#%%\n"
    }
   }
  },
  {
   "cell_type": "code",
   "execution_count": 9,
   "outputs": [
    {
     "name": "stderr",
     "output_type": "stream",
     "text": [
      "/home/varsey-fabuza/PycharmProjects/ML-magic/dashboard-formation/env/lib/python3.10/site-packages/pandas/core/arrays/datetimes.py:339: UserWarning: Parsing '31.10.2020' in DD/MM/YYYY format. Provide format or specify infer_datetime_format=True for consistent parsing.\n",
      "  return cls._from_sequence_not_strict(scalars, dtype=dtype, copy=copy)\n",
      "/home/varsey-fabuza/PycharmProjects/ML-magic/dashboard-formation/env/lib/python3.10/site-packages/pandas/core/arrays/datetimes.py:339: UserWarning: Parsing '30.09.2020' in DD/MM/YYYY format. Provide format or specify infer_datetime_format=True for consistent parsing.\n",
      "  return cls._from_sequence_not_strict(scalars, dtype=dtype, copy=copy)\n"
     ]
    }
   ],
   "source": [
    "df.loc[df['finish_date'].isnull(), 'finish_date'] = df['end_da']"
   ],
   "metadata": {
    "collapsed": false,
    "pycharm": {
     "name": "#%%\n"
    }
   }
  },
  {
   "cell_type": "code",
   "execution_count": 10,
   "outputs": [
    {
     "data": {
      "text/plain": "0 tab_num start_date finish_date wday_type01 wday_type02 wday_type03  \\\n1   15123 2020-09-02  2020-10-31           0           0           0   \n2   16234 2020-09-20  2020-10-30           0           0           1   \n3   17345 2020-09-28  2020-10-25           1           0           0   \n4   17345 2020-10-26  2020-12-31           1           1           1   \n5   18456 2020-09-02  2020-09-30           2           2           2   \n6   19567 2020-09-02  2020-12-31           3           3           3   \n\n0 wday_type04 wday_type05 wplace_type      end_da  \n1           0           0           0  31.10.2020  \n2           1           0           2              \n3           0           0           2              \n4           1           1           1              \n5           2           2           3  30.09.2020  \n6           3           3           4              ",
      "text/html": "<div>\n<style scoped>\n    .dataframe tbody tr th:only-of-type {\n        vertical-align: middle;\n    }\n\n    .dataframe tbody tr th {\n        vertical-align: top;\n    }\n\n    .dataframe thead th {\n        text-align: right;\n    }\n</style>\n<table border=\"1\" class=\"dataframe\">\n  <thead>\n    <tr style=\"text-align: right;\">\n      <th></th>\n      <th>tab_num</th>\n      <th>start_date</th>\n      <th>finish_date</th>\n      <th>wday_type01</th>\n      <th>wday_type02</th>\n      <th>wday_type03</th>\n      <th>wday_type04</th>\n      <th>wday_type05</th>\n      <th>wplace_type</th>\n      <th>end_da</th>\n    </tr>\n  </thead>\n  <tbody>\n    <tr>\n      <th>1</th>\n      <td>15123</td>\n      <td>2020-09-02</td>\n      <td>2020-10-31</td>\n      <td>0</td>\n      <td>0</td>\n      <td>0</td>\n      <td>0</td>\n      <td>0</td>\n      <td>0</td>\n      <td>31.10.2020</td>\n    </tr>\n    <tr>\n      <th>2</th>\n      <td>16234</td>\n      <td>2020-09-20</td>\n      <td>2020-10-30</td>\n      <td>0</td>\n      <td>0</td>\n      <td>1</td>\n      <td>1</td>\n      <td>0</td>\n      <td>2</td>\n      <td></td>\n    </tr>\n    <tr>\n      <th>3</th>\n      <td>17345</td>\n      <td>2020-09-28</td>\n      <td>2020-10-25</td>\n      <td>1</td>\n      <td>0</td>\n      <td>0</td>\n      <td>0</td>\n      <td>0</td>\n      <td>2</td>\n      <td></td>\n    </tr>\n    <tr>\n      <th>4</th>\n      <td>17345</td>\n      <td>2020-10-26</td>\n      <td>2020-12-31</td>\n      <td>1</td>\n      <td>1</td>\n      <td>1</td>\n      <td>1</td>\n      <td>1</td>\n      <td>1</td>\n      <td></td>\n    </tr>\n    <tr>\n      <th>5</th>\n      <td>18456</td>\n      <td>2020-09-02</td>\n      <td>2020-09-30</td>\n      <td>2</td>\n      <td>2</td>\n      <td>2</td>\n      <td>2</td>\n      <td>2</td>\n      <td>3</td>\n      <td>30.09.2020</td>\n    </tr>\n    <tr>\n      <th>6</th>\n      <td>19567</td>\n      <td>2020-09-02</td>\n      <td>2020-12-31</td>\n      <td>3</td>\n      <td>3</td>\n      <td>3</td>\n      <td>3</td>\n      <td>3</td>\n      <td>4</td>\n      <td></td>\n    </tr>\n  </tbody>\n</table>\n</div>"
     },
     "execution_count": 10,
     "metadata": {},
     "output_type": "execute_result"
    }
   ],
   "source": [
    "df"
   ],
   "metadata": {
    "collapsed": false,
    "pycharm": {
     "name": "#%%\n"
    }
   }
  },
  {
   "cell_type": "code",
   "execution_count": 11,
   "outputs": [
    {
     "data": {
      "text/plain": "{0: Timestamp('2020-09-02 00:00:00'),\n 1: Timestamp('2020-09-20 00:00:00'),\n 2: Timestamp('2020-09-28 00:00:00'),\n 3: Timestamp('2020-10-26 00:00:00'),\n 4: Timestamp('2020-09-02 00:00:00'),\n 5: Timestamp('2020-09-02 00:00:00')}"
     },
     "execution_count": 11,
     "metadata": {},
     "output_type": "execute_result"
    }
   ],
   "source": [
    "dict(zip(range(df.shape[0]), df.start_date.to_list()))"
   ],
   "metadata": {
    "collapsed": false,
    "pycharm": {
     "name": "#%%\n"
    }
   }
  },
  {
   "cell_type": "code",
   "execution_count": 12,
   "outputs": [],
   "source": [
    "start_date_dict = dict(zip(range(df.shape[0]), df.start_date.to_list()))"
   ],
   "metadata": {
    "collapsed": false,
    "pycharm": {
     "name": "#%%\n"
    }
   }
  },
  {
   "cell_type": "code",
   "execution_count": 13,
   "outputs": [],
   "source": [
    "finish_date_dict = dict(zip(range(df.shape[0]), df.finish_date.to_list()))"
   ],
   "metadata": {
    "collapsed": false,
    "pycharm": {
     "name": "#%%\n"
    }
   }
  },
  {
   "cell_type": "code",
   "execution_count": 14,
   "outputs": [],
   "source": [
    "dash = pd.DataFrame()\n",
    "for num, tab_num in enumerate(df.tab_num.to_list()):\n",
    "    interim = pd.DataFrame()\n",
    "    interim['ymd_date'] = pd.date_range(start='2020-09-01', end='2020-12-31', freq='D')\n",
    "    interim['weekday'] = interim['ymd_date'].dt.dayofweek\n",
    "    interim['week'] = interim['ymd_date'].dt.isocalendar().week\n",
    "    interim['week'] = interim['week'] - interim['week'].min()\n",
    "    interim['halfweek'] = interim['week'] // 2\n",
    "    interim['tab_num'] = tab_num\n",
    "    interim['start_date'] = start_date_dict[num]\n",
    "    interim['finish_date'] = finish_date_dict[num]\n",
    "    dash = pd.concat([dash, interim])\n",
    "dash['to_be_at_office'] = np.nan"
   ],
   "metadata": {
    "collapsed": false,
    "pycharm": {
     "name": "#%%\n"
    }
   }
  },
  {
   "cell_type": "code",
   "execution_count": 15,
   "outputs": [],
   "source": [
    "dash_merged = pd.concat(\n",
    "    [\n",
    "        dash[~dash.tab_num.isin(['17345'])],\n",
    "        pd.merge(\n",
    "            dash.loc[(dash['tab_num'] == '17345')][['ymd_date', 'weekday', 'tab_num']],\n",
    "            dash.loc[\n",
    "                (dash['tab_num'] == '17345') &\n",
    "                (dash['ymd_date'] <= dash['finish_date']) &\n",
    "                (dash['ymd_date'] >= dash['start_date'])\n",
    "            ],\n",
    "            how='left'\n",
    "        ).drop_duplicates()\n",
    "    ]\n",
    ")"
   ],
   "metadata": {
    "collapsed": false,
    "pycharm": {
     "name": "#%%\n"
    }
   }
  },
  {
   "cell_type": "code",
   "execution_count": 16,
   "outputs": [
    {
     "data": {
      "text/plain": "610"
     },
     "execution_count": 16,
     "metadata": {},
     "output_type": "execute_result"
    }
   ],
   "source": [
    "732 - dash[dash['tab_num'] == '17345'].shape[0] + 122"
   ],
   "metadata": {
    "collapsed": false,
    "pycharm": {
     "name": "#%%\n"
    }
   }
  },
  {
   "cell_type": "code",
   "execution_count": 17,
   "outputs": [
    {
     "data": {
      "text/plain": "((732, 8), (610, 8), 610)"
     },
     "execution_count": 17,
     "metadata": {},
     "output_type": "execute_result"
    }
   ],
   "source": [
    "dash.shape, dash_merged.shape, 122*5"
   ],
   "metadata": {
    "collapsed": false,
    "pycharm": {
     "name": "#%%\n"
    }
   }
  },
  {
   "cell_type": "code",
   "execution_count": 17,
   "outputs": [],
   "source": [],
   "metadata": {
    "collapsed": false,
    "pycharm": {
     "name": "#%%\n"
    }
   }
  },
  {
   "cell_type": "code",
   "execution_count": 18,
   "outputs": [
    {
     "data": {
      "text/plain": "     ymd_date  weekday  week  halfweek tab_num start_date finish_date  \\\n89 2020-11-29        6    12         6   17345 2020-09-28  2020-10-25   \n59 2020-10-30        4     8         4   17345 2020-09-28  2020-10-25   \n13 2020-09-14        0     2         1   16234 2020-09-20  2020-10-30   \n93 2020-12-03        3    13         6   15123 2020-09-02  2020-10-31   \n82 2020-11-22        6    11         5   19567 2020-09-02  2020-12-31   \n\n    to_be_at_office  \n89              NaN  \n59              NaN  \n13              NaN  \n93              NaN  \n82              NaN  ",
      "text/html": "<div>\n<style scoped>\n    .dataframe tbody tr th:only-of-type {\n        vertical-align: middle;\n    }\n\n    .dataframe tbody tr th {\n        vertical-align: top;\n    }\n\n    .dataframe thead th {\n        text-align: right;\n    }\n</style>\n<table border=\"1\" class=\"dataframe\">\n  <thead>\n    <tr style=\"text-align: right;\">\n      <th></th>\n      <th>ymd_date</th>\n      <th>weekday</th>\n      <th>week</th>\n      <th>halfweek</th>\n      <th>tab_num</th>\n      <th>start_date</th>\n      <th>finish_date</th>\n      <th>to_be_at_office</th>\n    </tr>\n  </thead>\n  <tbody>\n    <tr>\n      <th>89</th>\n      <td>2020-11-29</td>\n      <td>6</td>\n      <td>12</td>\n      <td>6</td>\n      <td>17345</td>\n      <td>2020-09-28</td>\n      <td>2020-10-25</td>\n      <td>NaN</td>\n    </tr>\n    <tr>\n      <th>59</th>\n      <td>2020-10-30</td>\n      <td>4</td>\n      <td>8</td>\n      <td>4</td>\n      <td>17345</td>\n      <td>2020-09-28</td>\n      <td>2020-10-25</td>\n      <td>NaN</td>\n    </tr>\n    <tr>\n      <th>13</th>\n      <td>2020-09-14</td>\n      <td>0</td>\n      <td>2</td>\n      <td>1</td>\n      <td>16234</td>\n      <td>2020-09-20</td>\n      <td>2020-10-30</td>\n      <td>NaN</td>\n    </tr>\n    <tr>\n      <th>93</th>\n      <td>2020-12-03</td>\n      <td>3</td>\n      <td>13</td>\n      <td>6</td>\n      <td>15123</td>\n      <td>2020-09-02</td>\n      <td>2020-10-31</td>\n      <td>NaN</td>\n    </tr>\n    <tr>\n      <th>82</th>\n      <td>2020-11-22</td>\n      <td>6</td>\n      <td>11</td>\n      <td>5</td>\n      <td>19567</td>\n      <td>2020-09-02</td>\n      <td>2020-12-31</td>\n      <td>NaN</td>\n    </tr>\n  </tbody>\n</table>\n</div>"
     },
     "execution_count": 18,
     "metadata": {},
     "output_type": "execute_result"
    }
   ],
   "source": [
    "dash.sample(5)"
   ],
   "metadata": {
    "collapsed": false,
    "pycharm": {
     "name": "#%%\n"
    }
   }
  },
  {
   "cell_type": "code",
   "execution_count": 19,
   "outputs": [
    {
     "name": "stdout",
     "output_type": "stream",
     "text": [
      "<class 'pandas.core.frame.DataFrame'>\n",
      "Int64Index: 610 entries, 0 to 121\n",
      "Data columns (total 8 columns):\n",
      " #   Column           Non-Null Count  Dtype         \n",
      "---  ------           --------------  -----         \n",
      " 0   ymd_date         610 non-null    datetime64[ns]\n",
      " 1   weekday          610 non-null    int64         \n",
      " 2   week             583 non-null    UInt32        \n",
      " 3   halfweek         583 non-null    UInt32        \n",
      " 4   tab_num          610 non-null    object        \n",
      " 5   start_date       583 non-null    datetime64[ns]\n",
      " 6   finish_date      583 non-null    datetime64[ns]\n",
      " 7   to_be_at_office  0 non-null      float64       \n",
      "dtypes: UInt32(2), datetime64[ns](3), float64(1), int64(1), object(1)\n",
      "memory usage: 39.3+ KB\n"
     ]
    }
   ],
   "source": [
    "dash_merged.info()"
   ],
   "metadata": {
    "collapsed": false,
    "pycharm": {
     "name": "#%%\n"
    }
   }
  },
  {
   "cell_type": "code",
   "execution_count": 20,
   "outputs": [
    {
     "data": {
      "text/plain": "'15123'"
     },
     "execution_count": 20,
     "metadata": {},
     "output_type": "execute_result"
    }
   ],
   "source": [
    "df.tab_num.unique()[0]"
   ],
   "metadata": {
    "collapsed": false,
    "pycharm": {
     "name": "#%%\n"
    }
   }
  },
  {
   "cell_type": "code",
   "execution_count": 21,
   "outputs": [
    {
     "name": "stdout",
     "output_type": "stream",
     "text": [
      "15123\n"
     ]
    }
   ],
   "source": [
    "print(df.tab_num.to_list()[0])\n",
    "tab_num_index = 0\n",
    "dash_merged.loc[\n",
    "    (dash_merged['tab_num'] == df.tab_num.to_list()[tab_num_index]) &\n",
    "    (dash_merged['ymd_date'] <= finish_date_dict[tab_num_index].to_datetime64()) &\n",
    "    (dash_merged['ymd_date'] >= start_date_dict[tab_num_index].to_datetime64()) &\n",
    "    (dash_merged['weekday'] != 5) &\n",
    "    (dash_merged['weekday'] != 6),\n",
    "    'to_be_at_office'\n",
    "] = 1"
   ],
   "metadata": {
    "collapsed": false,
    "pycharm": {
     "name": "#%%\n"
    }
   }
  },
  {
   "cell_type": "code",
   "execution_count": 22,
   "outputs": [
    {
     "data": {
      "text/plain": "      ymd_date  weekday  week  halfweek tab_num start_date finish_date  \\\n0   2020-09-01        1     0         0   15123 2020-09-02  2020-10-31   \n1   2020-09-02        2     0         0   15123 2020-09-02  2020-10-31   \n2   2020-09-03        3     0         0   15123 2020-09-02  2020-10-31   \n3   2020-09-04        4     0         0   15123 2020-09-02  2020-10-31   \n4   2020-09-05        5     0         0   15123 2020-09-02  2020-10-31   \n..         ...      ...   ...       ...     ...        ...         ...   \n117 2020-12-27        6    16         8   15123 2020-09-02  2020-10-31   \n118 2020-12-28        0    17         8   15123 2020-09-02  2020-10-31   \n119 2020-12-29        1    17         8   15123 2020-09-02  2020-10-31   \n120 2020-12-30        2    17         8   15123 2020-09-02  2020-10-31   \n121 2020-12-31        3    17         8   15123 2020-09-02  2020-10-31   \n\n     to_be_at_office  \n0                NaN  \n1                1.0  \n2                1.0  \n3                1.0  \n4                NaN  \n..               ...  \n117              NaN  \n118              NaN  \n119              NaN  \n120              NaN  \n121              NaN  \n\n[122 rows x 8 columns]",
      "text/html": "<div>\n<style scoped>\n    .dataframe tbody tr th:only-of-type {\n        vertical-align: middle;\n    }\n\n    .dataframe tbody tr th {\n        vertical-align: top;\n    }\n\n    .dataframe thead th {\n        text-align: right;\n    }\n</style>\n<table border=\"1\" class=\"dataframe\">\n  <thead>\n    <tr style=\"text-align: right;\">\n      <th></th>\n      <th>ymd_date</th>\n      <th>weekday</th>\n      <th>week</th>\n      <th>halfweek</th>\n      <th>tab_num</th>\n      <th>start_date</th>\n      <th>finish_date</th>\n      <th>to_be_at_office</th>\n    </tr>\n  </thead>\n  <tbody>\n    <tr>\n      <th>0</th>\n      <td>2020-09-01</td>\n      <td>1</td>\n      <td>0</td>\n      <td>0</td>\n      <td>15123</td>\n      <td>2020-09-02</td>\n      <td>2020-10-31</td>\n      <td>NaN</td>\n    </tr>\n    <tr>\n      <th>1</th>\n      <td>2020-09-02</td>\n      <td>2</td>\n      <td>0</td>\n      <td>0</td>\n      <td>15123</td>\n      <td>2020-09-02</td>\n      <td>2020-10-31</td>\n      <td>1.0</td>\n    </tr>\n    <tr>\n      <th>2</th>\n      <td>2020-09-03</td>\n      <td>3</td>\n      <td>0</td>\n      <td>0</td>\n      <td>15123</td>\n      <td>2020-09-02</td>\n      <td>2020-10-31</td>\n      <td>1.0</td>\n    </tr>\n    <tr>\n      <th>3</th>\n      <td>2020-09-04</td>\n      <td>4</td>\n      <td>0</td>\n      <td>0</td>\n      <td>15123</td>\n      <td>2020-09-02</td>\n      <td>2020-10-31</td>\n      <td>1.0</td>\n    </tr>\n    <tr>\n      <th>4</th>\n      <td>2020-09-05</td>\n      <td>5</td>\n      <td>0</td>\n      <td>0</td>\n      <td>15123</td>\n      <td>2020-09-02</td>\n      <td>2020-10-31</td>\n      <td>NaN</td>\n    </tr>\n    <tr>\n      <th>...</th>\n      <td>...</td>\n      <td>...</td>\n      <td>...</td>\n      <td>...</td>\n      <td>...</td>\n      <td>...</td>\n      <td>...</td>\n      <td>...</td>\n    </tr>\n    <tr>\n      <th>117</th>\n      <td>2020-12-27</td>\n      <td>6</td>\n      <td>16</td>\n      <td>8</td>\n      <td>15123</td>\n      <td>2020-09-02</td>\n      <td>2020-10-31</td>\n      <td>NaN</td>\n    </tr>\n    <tr>\n      <th>118</th>\n      <td>2020-12-28</td>\n      <td>0</td>\n      <td>17</td>\n      <td>8</td>\n      <td>15123</td>\n      <td>2020-09-02</td>\n      <td>2020-10-31</td>\n      <td>NaN</td>\n    </tr>\n    <tr>\n      <th>119</th>\n      <td>2020-12-29</td>\n      <td>1</td>\n      <td>17</td>\n      <td>8</td>\n      <td>15123</td>\n      <td>2020-09-02</td>\n      <td>2020-10-31</td>\n      <td>NaN</td>\n    </tr>\n    <tr>\n      <th>120</th>\n      <td>2020-12-30</td>\n      <td>2</td>\n      <td>17</td>\n      <td>8</td>\n      <td>15123</td>\n      <td>2020-09-02</td>\n      <td>2020-10-31</td>\n      <td>NaN</td>\n    </tr>\n    <tr>\n      <th>121</th>\n      <td>2020-12-31</td>\n      <td>3</td>\n      <td>17</td>\n      <td>8</td>\n      <td>15123</td>\n      <td>2020-09-02</td>\n      <td>2020-10-31</td>\n      <td>NaN</td>\n    </tr>\n  </tbody>\n</table>\n<p>122 rows × 8 columns</p>\n</div>"
     },
     "execution_count": 22,
     "metadata": {},
     "output_type": "execute_result"
    }
   ],
   "source": [
    "dash_merged[dash_merged['tab_num'] == '15123']"
   ],
   "metadata": {
    "collapsed": false,
    "pycharm": {
     "name": "#%%\n"
    }
   }
  },
  {
   "cell_type": "code",
   "execution_count": 23,
   "outputs": [
    {
     "name": "stdout",
     "output_type": "stream",
     "text": [
      "17345\n"
     ]
    }
   ],
   "source": [
    "print(df.tab_num.to_list()[3])"
   ],
   "metadata": {
    "collapsed": false,
    "pycharm": {
     "name": "#%%\n"
    }
   }
  },
  {
   "cell_type": "code",
   "execution_count": 24,
   "outputs": [],
   "source": [
    "tab_num_index = 3\n",
    "dash_merged.loc[\n",
    "    (dash_merged['tab_num'] == df.tab_num.to_list()[tab_num_index]) &\n",
    "    (dash_merged['ymd_date'] <= finish_date_dict[tab_num_index].to_datetime64()) &\n",
    "    (dash_merged['ymd_date'] >= start_date_dict[tab_num_index].to_datetime64()) &\n",
    "    (dash_merged['weekday'] != 5) &\n",
    "    (dash_merged['weekday'] != 6),\n",
    "    'to_be_at_office'\n",
    "] = 0"
   ],
   "metadata": {
    "collapsed": false,
    "pycharm": {
     "name": "#%%\n"
    }
   }
  },
  {
   "cell_type": "code",
   "execution_count": 25,
   "outputs": [
    {
     "data": {
      "text/plain": "      ymd_date  weekday  week  halfweek tab_num start_date finish_date  \\\n0   2020-09-01        1  <NA>      <NA>   17345        NaT         NaT   \n1   2020-09-02        2  <NA>      <NA>   17345        NaT         NaT   \n2   2020-09-03        3  <NA>      <NA>   17345        NaT         NaT   \n3   2020-09-04        4  <NA>      <NA>   17345        NaT         NaT   \n4   2020-09-05        5  <NA>      <NA>   17345        NaT         NaT   \n..         ...      ...   ...       ...     ...        ...         ...   \n117 2020-12-27        6    16         8   17345 2020-10-26  2020-12-31   \n118 2020-12-28        0    17         8   17345 2020-10-26  2020-12-31   \n119 2020-12-29        1    17         8   17345 2020-10-26  2020-12-31   \n120 2020-12-30        2    17         8   17345 2020-10-26  2020-12-31   \n121 2020-12-31        3    17         8   17345 2020-10-26  2020-12-31   \n\n     to_be_at_office  \n0                NaN  \n1                NaN  \n2                NaN  \n3                NaN  \n4                NaN  \n..               ...  \n117              NaN  \n118              0.0  \n119              0.0  \n120              0.0  \n121              0.0  \n\n[122 rows x 8 columns]",
      "text/html": "<div>\n<style scoped>\n    .dataframe tbody tr th:only-of-type {\n        vertical-align: middle;\n    }\n\n    .dataframe tbody tr th {\n        vertical-align: top;\n    }\n\n    .dataframe thead th {\n        text-align: right;\n    }\n</style>\n<table border=\"1\" class=\"dataframe\">\n  <thead>\n    <tr style=\"text-align: right;\">\n      <th></th>\n      <th>ymd_date</th>\n      <th>weekday</th>\n      <th>week</th>\n      <th>halfweek</th>\n      <th>tab_num</th>\n      <th>start_date</th>\n      <th>finish_date</th>\n      <th>to_be_at_office</th>\n    </tr>\n  </thead>\n  <tbody>\n    <tr>\n      <th>0</th>\n      <td>2020-09-01</td>\n      <td>1</td>\n      <td>&lt;NA&gt;</td>\n      <td>&lt;NA&gt;</td>\n      <td>17345</td>\n      <td>NaT</td>\n      <td>NaT</td>\n      <td>NaN</td>\n    </tr>\n    <tr>\n      <th>1</th>\n      <td>2020-09-02</td>\n      <td>2</td>\n      <td>&lt;NA&gt;</td>\n      <td>&lt;NA&gt;</td>\n      <td>17345</td>\n      <td>NaT</td>\n      <td>NaT</td>\n      <td>NaN</td>\n    </tr>\n    <tr>\n      <th>2</th>\n      <td>2020-09-03</td>\n      <td>3</td>\n      <td>&lt;NA&gt;</td>\n      <td>&lt;NA&gt;</td>\n      <td>17345</td>\n      <td>NaT</td>\n      <td>NaT</td>\n      <td>NaN</td>\n    </tr>\n    <tr>\n      <th>3</th>\n      <td>2020-09-04</td>\n      <td>4</td>\n      <td>&lt;NA&gt;</td>\n      <td>&lt;NA&gt;</td>\n      <td>17345</td>\n      <td>NaT</td>\n      <td>NaT</td>\n      <td>NaN</td>\n    </tr>\n    <tr>\n      <th>4</th>\n      <td>2020-09-05</td>\n      <td>5</td>\n      <td>&lt;NA&gt;</td>\n      <td>&lt;NA&gt;</td>\n      <td>17345</td>\n      <td>NaT</td>\n      <td>NaT</td>\n      <td>NaN</td>\n    </tr>\n    <tr>\n      <th>...</th>\n      <td>...</td>\n      <td>...</td>\n      <td>...</td>\n      <td>...</td>\n      <td>...</td>\n      <td>...</td>\n      <td>...</td>\n      <td>...</td>\n    </tr>\n    <tr>\n      <th>117</th>\n      <td>2020-12-27</td>\n      <td>6</td>\n      <td>16</td>\n      <td>8</td>\n      <td>17345</td>\n      <td>2020-10-26</td>\n      <td>2020-12-31</td>\n      <td>NaN</td>\n    </tr>\n    <tr>\n      <th>118</th>\n      <td>2020-12-28</td>\n      <td>0</td>\n      <td>17</td>\n      <td>8</td>\n      <td>17345</td>\n      <td>2020-10-26</td>\n      <td>2020-12-31</td>\n      <td>0.0</td>\n    </tr>\n    <tr>\n      <th>119</th>\n      <td>2020-12-29</td>\n      <td>1</td>\n      <td>17</td>\n      <td>8</td>\n      <td>17345</td>\n      <td>2020-10-26</td>\n      <td>2020-12-31</td>\n      <td>0.0</td>\n    </tr>\n    <tr>\n      <th>120</th>\n      <td>2020-12-30</td>\n      <td>2</td>\n      <td>17</td>\n      <td>8</td>\n      <td>17345</td>\n      <td>2020-10-26</td>\n      <td>2020-12-31</td>\n      <td>0.0</td>\n    </tr>\n    <tr>\n      <th>121</th>\n      <td>2020-12-31</td>\n      <td>3</td>\n      <td>17</td>\n      <td>8</td>\n      <td>17345</td>\n      <td>2020-10-26</td>\n      <td>2020-12-31</td>\n      <td>0.0</td>\n    </tr>\n  </tbody>\n</table>\n<p>122 rows × 8 columns</p>\n</div>"
     },
     "execution_count": 25,
     "metadata": {},
     "output_type": "execute_result"
    }
   ],
   "source": [
    "dash_merged[dash_merged['tab_num'] == '17345']"
   ],
   "metadata": {
    "collapsed": false,
    "pycharm": {
     "name": "#%%\n"
    }
   }
  },
  {
   "cell_type": "code",
   "execution_count": 26,
   "outputs": [],
   "source": [
    "tab_num_index = 2\n",
    "dash_merged.loc[\n",
    "    (dash_merged['tab_num'] == df.tab_num.to_list()[tab_num_index]) &\n",
    "    (dash_merged['ymd_date'] <= finish_date_dict[tab_num_index].to_datetime64()) &\n",
    "    (dash_merged['ymd_date'] >= start_date_dict[tab_num_index].to_datetime64()) &\n",
    "    (dash_merged['weekday'] != 5) &\n",
    "    (dash_merged['weekday'] != 6) &\n",
    "    (dash_merged['weekday'] == 0),\n",
    "    'to_be_at_office'\n",
    "] = 0"
   ],
   "metadata": {
    "collapsed": false,
    "pycharm": {
     "name": "#%%\n"
    }
   }
  },
  {
   "cell_type": "code",
   "execution_count": 27,
   "outputs": [],
   "source": [
    "tab_num_index = 2\n",
    "dash_merged.loc[\n",
    "    (\n",
    "        (dash_merged['tab_num'] == df.tab_num.to_list()[tab_num_index]) &\n",
    "        (dash_merged['ymd_date'] < finish_date_dict[tab_num_index].to_datetime64()) &\n",
    "        (dash_merged['ymd_date'] > start_date_dict[tab_num_index].to_datetime64()) &\n",
    "        (dash_merged['weekday'] != 5) &\n",
    "        (dash_merged['weekday'] != 6)\n",
    "    ) &\n",
    "    (\n",
    "        (dash_merged['weekday'].isin([1, 2, 3, 4]))\n",
    "    ),\n",
    "    'to_be_at_office'\n",
    "] = 1"
   ],
   "metadata": {
    "collapsed": false,
    "pycharm": {
     "name": "#%%\n"
    }
   }
  },
  {
   "cell_type": "code",
   "execution_count": 27,
   "outputs": [],
   "source": [],
   "metadata": {
    "collapsed": false,
    "pycharm": {
     "name": "#%%\n"
    }
   }
  },
  {
   "cell_type": "code",
   "execution_count": 28,
   "outputs": [],
   "source": [
    "tab_num_index = 1\n",
    "dash_merged.loc[\n",
    "    (\n",
    "        (dash_merged['tab_num'] == df.tab_num.to_list()[tab_num_index]) &\n",
    "        (dash_merged['ymd_date'] <= finish_date_dict[tab_num_index].to_datetime64()) &\n",
    "        (dash_merged['ymd_date'] >= start_date_dict[tab_num_index].to_datetime64()) &\n",
    "        (dash_merged['weekday'] != 5) &\n",
    "        (dash_merged['weekday'] != 6)\n",
    "    ) &\n",
    "    (\n",
    "        (dash_merged['weekday'].isin([0, 1, 4]))\n",
    "    ),\n",
    "    'to_be_at_office'\n",
    "] = 1"
   ],
   "metadata": {
    "collapsed": false,
    "pycharm": {
     "name": "#%%\n"
    }
   }
  },
  {
   "cell_type": "code",
   "execution_count": 29,
   "outputs": [],
   "source": [
    "tab_num_index = 1\n",
    "dash_merged.loc[\n",
    "    (\n",
    "        (dash_merged['tab_num'] == df.tab_num.to_list()[tab_num_index]) &\n",
    "        (dash_merged['ymd_date'] <= finish_date_dict[tab_num_index].to_datetime64()) &\n",
    "        (dash_merged['ymd_date'] >= start_date_dict[tab_num_index].to_datetime64()) &\n",
    "        (dash_merged['weekday'] != 5) &\n",
    "        (dash_merged['weekday'] != 6)\n",
    "    )\n",
    "        &\n",
    "    (\n",
    "        (dash_merged['weekday'].isin([2, 3]))\n",
    "    ),\n",
    "    'to_be_at_office'\n",
    "] = 0"
   ],
   "metadata": {
    "collapsed": false,
    "pycharm": {
     "name": "#%%\n"
    }
   }
  },
  {
   "cell_type": "code",
   "execution_count": 30,
   "outputs": [
    {
     "data": {
      "text/plain": "      ymd_date  weekday  week  halfweek tab_num start_date finish_date  \\\n0   2020-09-01        1     0         0   16234 2020-09-20  2020-10-30   \n1   2020-09-02        2     0         0   16234 2020-09-20  2020-10-30   \n2   2020-09-03        3     0         0   16234 2020-09-20  2020-10-30   \n3   2020-09-04        4     0         0   16234 2020-09-20  2020-10-30   \n4   2020-09-05        5     0         0   16234 2020-09-20  2020-10-30   \n..         ...      ...   ...       ...     ...        ...         ...   \n117 2020-12-27        6    16         8   16234 2020-09-20  2020-10-30   \n118 2020-12-28        0    17         8   16234 2020-09-20  2020-10-30   \n119 2020-12-29        1    17         8   16234 2020-09-20  2020-10-30   \n120 2020-12-30        2    17         8   16234 2020-09-20  2020-10-30   \n121 2020-12-31        3    17         8   16234 2020-09-20  2020-10-30   \n\n     to_be_at_office  \n0                NaN  \n1                NaN  \n2                NaN  \n3                NaN  \n4                NaN  \n..               ...  \n117              NaN  \n118              NaN  \n119              NaN  \n120              NaN  \n121              NaN  \n\n[122 rows x 8 columns]",
      "text/html": "<div>\n<style scoped>\n    .dataframe tbody tr th:only-of-type {\n        vertical-align: middle;\n    }\n\n    .dataframe tbody tr th {\n        vertical-align: top;\n    }\n\n    .dataframe thead th {\n        text-align: right;\n    }\n</style>\n<table border=\"1\" class=\"dataframe\">\n  <thead>\n    <tr style=\"text-align: right;\">\n      <th></th>\n      <th>ymd_date</th>\n      <th>weekday</th>\n      <th>week</th>\n      <th>halfweek</th>\n      <th>tab_num</th>\n      <th>start_date</th>\n      <th>finish_date</th>\n      <th>to_be_at_office</th>\n    </tr>\n  </thead>\n  <tbody>\n    <tr>\n      <th>0</th>\n      <td>2020-09-01</td>\n      <td>1</td>\n      <td>0</td>\n      <td>0</td>\n      <td>16234</td>\n      <td>2020-09-20</td>\n      <td>2020-10-30</td>\n      <td>NaN</td>\n    </tr>\n    <tr>\n      <th>1</th>\n      <td>2020-09-02</td>\n      <td>2</td>\n      <td>0</td>\n      <td>0</td>\n      <td>16234</td>\n      <td>2020-09-20</td>\n      <td>2020-10-30</td>\n      <td>NaN</td>\n    </tr>\n    <tr>\n      <th>2</th>\n      <td>2020-09-03</td>\n      <td>3</td>\n      <td>0</td>\n      <td>0</td>\n      <td>16234</td>\n      <td>2020-09-20</td>\n      <td>2020-10-30</td>\n      <td>NaN</td>\n    </tr>\n    <tr>\n      <th>3</th>\n      <td>2020-09-04</td>\n      <td>4</td>\n      <td>0</td>\n      <td>0</td>\n      <td>16234</td>\n      <td>2020-09-20</td>\n      <td>2020-10-30</td>\n      <td>NaN</td>\n    </tr>\n    <tr>\n      <th>4</th>\n      <td>2020-09-05</td>\n      <td>5</td>\n      <td>0</td>\n      <td>0</td>\n      <td>16234</td>\n      <td>2020-09-20</td>\n      <td>2020-10-30</td>\n      <td>NaN</td>\n    </tr>\n    <tr>\n      <th>...</th>\n      <td>...</td>\n      <td>...</td>\n      <td>...</td>\n      <td>...</td>\n      <td>...</td>\n      <td>...</td>\n      <td>...</td>\n      <td>...</td>\n    </tr>\n    <tr>\n      <th>117</th>\n      <td>2020-12-27</td>\n      <td>6</td>\n      <td>16</td>\n      <td>8</td>\n      <td>16234</td>\n      <td>2020-09-20</td>\n      <td>2020-10-30</td>\n      <td>NaN</td>\n    </tr>\n    <tr>\n      <th>118</th>\n      <td>2020-12-28</td>\n      <td>0</td>\n      <td>17</td>\n      <td>8</td>\n      <td>16234</td>\n      <td>2020-09-20</td>\n      <td>2020-10-30</td>\n      <td>NaN</td>\n    </tr>\n    <tr>\n      <th>119</th>\n      <td>2020-12-29</td>\n      <td>1</td>\n      <td>17</td>\n      <td>8</td>\n      <td>16234</td>\n      <td>2020-09-20</td>\n      <td>2020-10-30</td>\n      <td>NaN</td>\n    </tr>\n    <tr>\n      <th>120</th>\n      <td>2020-12-30</td>\n      <td>2</td>\n      <td>17</td>\n      <td>8</td>\n      <td>16234</td>\n      <td>2020-09-20</td>\n      <td>2020-10-30</td>\n      <td>NaN</td>\n    </tr>\n    <tr>\n      <th>121</th>\n      <td>2020-12-31</td>\n      <td>3</td>\n      <td>17</td>\n      <td>8</td>\n      <td>16234</td>\n      <td>2020-09-20</td>\n      <td>2020-10-30</td>\n      <td>NaN</td>\n    </tr>\n  </tbody>\n</table>\n<p>122 rows × 8 columns</p>\n</div>"
     },
     "execution_count": 30,
     "metadata": {},
     "output_type": "execute_result"
    }
   ],
   "source": [
    "dash_merged[dash_merged['tab_num'] == df.tab_num.to_list()[1]]"
   ],
   "metadata": {
    "collapsed": false,
    "pycharm": {
     "name": "#%%\n"
    }
   }
  },
  {
   "cell_type": "code",
   "execution_count": 30,
   "outputs": [],
   "source": [],
   "metadata": {
    "collapsed": false,
    "pycharm": {
     "name": "#%%\n"
    }
   }
  },
  {
   "cell_type": "code",
   "execution_count": 31,
   "outputs": [],
   "source": [
    "tab_num_index = 4\n",
    "dash_merged.loc[\n",
    "    (\n",
    "        (dash_merged['tab_num'] == df.tab_num.to_list()[tab_num_index]) &\n",
    "        (dash_merged['ymd_date'] <= finish_date_dict[tab_num_index].to_datetime64()) &\n",
    "        (dash_merged['ymd_date'] >= start_date_dict[tab_num_index].to_datetime64()) &\n",
    "        (dash_merged['weekday'] != 5) &\n",
    "        (dash_merged['weekday'] != 6)\n",
    "    )\n",
    "        &\n",
    "    (\n",
    "        (dash_merged['weekday'].isin([0, 1, 2, 3, 4]))\n",
    "    )\n",
    "            &\n",
    "    (\n",
    "        (dash_merged['week'] % 2 == 0)\n",
    "    ),\n",
    "    'to_be_at_office'\n",
    "] = 0"
   ],
   "metadata": {
    "collapsed": false,
    "pycharm": {
     "name": "#%%\n"
    }
   }
  },
  {
   "cell_type": "code",
   "execution_count": 32,
   "outputs": [],
   "source": [
    "tab_num_index = 4\n",
    "dash_merged.loc[\n",
    "    (\n",
    "        (dash_merged['tab_num'] == df.tab_num.to_list()[tab_num_index]) &\n",
    "        (dash_merged['ymd_date'] <= finish_date_dict[tab_num_index].to_datetime64()) &\n",
    "        (dash_merged['ymd_date'] >= start_date_dict[tab_num_index].to_datetime64()) &\n",
    "        (dash_merged['weekday'] != 5) &\n",
    "        (dash_merged['weekday'] != 6)\n",
    "    )\n",
    "        &\n",
    "    (\n",
    "        (dash_merged['weekday'].isin([0, 1, 2, 3, 4]))\n",
    "    )\n",
    "            &\n",
    "    (\n",
    "        (dash_merged['week'] % 2 == 1)\n",
    "    ),\n",
    "    'to_be_at_office'\n",
    "] = 1"
   ],
   "metadata": {
    "collapsed": false,
    "pycharm": {
     "name": "#%%\n"
    }
   }
  },
  {
   "cell_type": "code",
   "execution_count": 33,
   "outputs": [
    {
     "data": {
      "text/plain": "      ymd_date  weekday  week  halfweek tab_num start_date finish_date  \\\n0   2020-09-01        1     0         0   18456 2020-09-02  2020-09-30   \n1   2020-09-02        2     0         0   18456 2020-09-02  2020-09-30   \n2   2020-09-03        3     0         0   18456 2020-09-02  2020-09-30   \n3   2020-09-04        4     0         0   18456 2020-09-02  2020-09-30   \n4   2020-09-05        5     0         0   18456 2020-09-02  2020-09-30   \n..         ...      ...   ...       ...     ...        ...         ...   \n117 2020-12-27        6    16         8   18456 2020-09-02  2020-09-30   \n118 2020-12-28        0    17         8   18456 2020-09-02  2020-09-30   \n119 2020-12-29        1    17         8   18456 2020-09-02  2020-09-30   \n120 2020-12-30        2    17         8   18456 2020-09-02  2020-09-30   \n121 2020-12-31        3    17         8   18456 2020-09-02  2020-09-30   \n\n     to_be_at_office  \n0                NaN  \n1                0.0  \n2                0.0  \n3                0.0  \n4                NaN  \n..               ...  \n117              NaN  \n118              NaN  \n119              NaN  \n120              NaN  \n121              NaN  \n\n[122 rows x 8 columns]",
      "text/html": "<div>\n<style scoped>\n    .dataframe tbody tr th:only-of-type {\n        vertical-align: middle;\n    }\n\n    .dataframe tbody tr th {\n        vertical-align: top;\n    }\n\n    .dataframe thead th {\n        text-align: right;\n    }\n</style>\n<table border=\"1\" class=\"dataframe\">\n  <thead>\n    <tr style=\"text-align: right;\">\n      <th></th>\n      <th>ymd_date</th>\n      <th>weekday</th>\n      <th>week</th>\n      <th>halfweek</th>\n      <th>tab_num</th>\n      <th>start_date</th>\n      <th>finish_date</th>\n      <th>to_be_at_office</th>\n    </tr>\n  </thead>\n  <tbody>\n    <tr>\n      <th>0</th>\n      <td>2020-09-01</td>\n      <td>1</td>\n      <td>0</td>\n      <td>0</td>\n      <td>18456</td>\n      <td>2020-09-02</td>\n      <td>2020-09-30</td>\n      <td>NaN</td>\n    </tr>\n    <tr>\n      <th>1</th>\n      <td>2020-09-02</td>\n      <td>2</td>\n      <td>0</td>\n      <td>0</td>\n      <td>18456</td>\n      <td>2020-09-02</td>\n      <td>2020-09-30</td>\n      <td>0.0</td>\n    </tr>\n    <tr>\n      <th>2</th>\n      <td>2020-09-03</td>\n      <td>3</td>\n      <td>0</td>\n      <td>0</td>\n      <td>18456</td>\n      <td>2020-09-02</td>\n      <td>2020-09-30</td>\n      <td>0.0</td>\n    </tr>\n    <tr>\n      <th>3</th>\n      <td>2020-09-04</td>\n      <td>4</td>\n      <td>0</td>\n      <td>0</td>\n      <td>18456</td>\n      <td>2020-09-02</td>\n      <td>2020-09-30</td>\n      <td>0.0</td>\n    </tr>\n    <tr>\n      <th>4</th>\n      <td>2020-09-05</td>\n      <td>5</td>\n      <td>0</td>\n      <td>0</td>\n      <td>18456</td>\n      <td>2020-09-02</td>\n      <td>2020-09-30</td>\n      <td>NaN</td>\n    </tr>\n    <tr>\n      <th>...</th>\n      <td>...</td>\n      <td>...</td>\n      <td>...</td>\n      <td>...</td>\n      <td>...</td>\n      <td>...</td>\n      <td>...</td>\n      <td>...</td>\n    </tr>\n    <tr>\n      <th>117</th>\n      <td>2020-12-27</td>\n      <td>6</td>\n      <td>16</td>\n      <td>8</td>\n      <td>18456</td>\n      <td>2020-09-02</td>\n      <td>2020-09-30</td>\n      <td>NaN</td>\n    </tr>\n    <tr>\n      <th>118</th>\n      <td>2020-12-28</td>\n      <td>0</td>\n      <td>17</td>\n      <td>8</td>\n      <td>18456</td>\n      <td>2020-09-02</td>\n      <td>2020-09-30</td>\n      <td>NaN</td>\n    </tr>\n    <tr>\n      <th>119</th>\n      <td>2020-12-29</td>\n      <td>1</td>\n      <td>17</td>\n      <td>8</td>\n      <td>18456</td>\n      <td>2020-09-02</td>\n      <td>2020-09-30</td>\n      <td>NaN</td>\n    </tr>\n    <tr>\n      <th>120</th>\n      <td>2020-12-30</td>\n      <td>2</td>\n      <td>17</td>\n      <td>8</td>\n      <td>18456</td>\n      <td>2020-09-02</td>\n      <td>2020-09-30</td>\n      <td>NaN</td>\n    </tr>\n    <tr>\n      <th>121</th>\n      <td>2020-12-31</td>\n      <td>3</td>\n      <td>17</td>\n      <td>8</td>\n      <td>18456</td>\n      <td>2020-09-02</td>\n      <td>2020-09-30</td>\n      <td>NaN</td>\n    </tr>\n  </tbody>\n</table>\n<p>122 rows × 8 columns</p>\n</div>"
     },
     "execution_count": 33,
     "metadata": {},
     "output_type": "execute_result"
    }
   ],
   "source": [
    "dash_merged[dash_merged['tab_num'] == df.tab_num.to_list()[4]]"
   ],
   "metadata": {
    "collapsed": false,
    "pycharm": {
     "name": "#%%\n"
    }
   }
  },
  {
   "cell_type": "code",
   "execution_count": 33,
   "outputs": [],
   "source": [],
   "metadata": {
    "collapsed": false,
    "pycharm": {
     "name": "#%%\n"
    }
   }
  },
  {
   "cell_type": "code",
   "execution_count": 34,
   "outputs": [],
   "source": [
    "tab_num_index = 5\n",
    "dash_merged.loc[\n",
    "    (\n",
    "        (dash_merged['tab_num'] == df.tab_num.to_list()[tab_num_index]) &\n",
    "        (dash_merged['ymd_date'] <= finish_date_dict[tab_num_index].to_datetime64()) &\n",
    "        (dash_merged['ymd_date'] >= start_date_dict[tab_num_index].to_datetime64()) &\n",
    "        (dash_merged['weekday'] != 5) &\n",
    "        (dash_merged['weekday'] != 6)\n",
    "    )\n",
    "        &\n",
    "    (\n",
    "        (dash_merged['weekday'].isin([0, 1, 2, 3, 4]))\n",
    "    )\n",
    "            &\n",
    "    (\n",
    "        (dash_merged['halfweek'] % 2 == 0)\n",
    "    ),\n",
    "    'to_be_at_office'\n",
    "] = 0"
   ],
   "metadata": {
    "collapsed": false,
    "pycharm": {
     "name": "#%%\n"
    }
   }
  },
  {
   "cell_type": "code",
   "execution_count": 35,
   "outputs": [],
   "source": [
    "tab_num_index = 5\n",
    "dash_merged.loc[\n",
    "    (\n",
    "        (dash_merged['tab_num'] == df.tab_num.to_list()[tab_num_index]) &\n",
    "        (dash_merged['ymd_date'] <= finish_date_dict[tab_num_index].to_datetime64()) &\n",
    "        (dash_merged['ymd_date'] >= start_date_dict[tab_num_index].to_datetime64()) &\n",
    "        (dash_merged['weekday'] != 5) &\n",
    "        (dash_merged['weekday'] != 6)\n",
    "    )\n",
    "        &\n",
    "    (\n",
    "        (dash_merged['weekday'].isin([0, 1, 2, 3, 4]))\n",
    "    )\n",
    "            &\n",
    "    (\n",
    "        (dash_merged['halfweek'] % 2 == 1)\n",
    "    ),\n",
    "    'to_be_at_office'\n",
    "] = 1"
   ],
   "metadata": {
    "collapsed": false,
    "pycharm": {
     "name": "#%%\n"
    }
   }
  },
  {
   "cell_type": "code",
   "execution_count": 36,
   "outputs": [
    {
     "data": {
      "text/plain": "      ymd_date  weekday  week  halfweek tab_num start_date finish_date  \\\n0   2020-09-01        1     0         0   19567 2020-09-02  2020-12-31   \n1   2020-09-02        2     0         0   19567 2020-09-02  2020-12-31   \n2   2020-09-03        3     0         0   19567 2020-09-02  2020-12-31   \n3   2020-09-04        4     0         0   19567 2020-09-02  2020-12-31   \n4   2020-09-05        5     0         0   19567 2020-09-02  2020-12-31   \n..         ...      ...   ...       ...     ...        ...         ...   \n117 2020-12-27        6    16         8   19567 2020-09-02  2020-12-31   \n118 2020-12-28        0    17         8   19567 2020-09-02  2020-12-31   \n119 2020-12-29        1    17         8   19567 2020-09-02  2020-12-31   \n120 2020-12-30        2    17         8   19567 2020-09-02  2020-12-31   \n121 2020-12-31        3    17         8   19567 2020-09-02  2020-12-31   \n\n     to_be_at_office  \n0                NaN  \n1                0.0  \n2                0.0  \n3                0.0  \n4                NaN  \n..               ...  \n117              NaN  \n118              0.0  \n119              0.0  \n120              0.0  \n121              0.0  \n\n[122 rows x 8 columns]",
      "text/html": "<div>\n<style scoped>\n    .dataframe tbody tr th:only-of-type {\n        vertical-align: middle;\n    }\n\n    .dataframe tbody tr th {\n        vertical-align: top;\n    }\n\n    .dataframe thead th {\n        text-align: right;\n    }\n</style>\n<table border=\"1\" class=\"dataframe\">\n  <thead>\n    <tr style=\"text-align: right;\">\n      <th></th>\n      <th>ymd_date</th>\n      <th>weekday</th>\n      <th>week</th>\n      <th>halfweek</th>\n      <th>tab_num</th>\n      <th>start_date</th>\n      <th>finish_date</th>\n      <th>to_be_at_office</th>\n    </tr>\n  </thead>\n  <tbody>\n    <tr>\n      <th>0</th>\n      <td>2020-09-01</td>\n      <td>1</td>\n      <td>0</td>\n      <td>0</td>\n      <td>19567</td>\n      <td>2020-09-02</td>\n      <td>2020-12-31</td>\n      <td>NaN</td>\n    </tr>\n    <tr>\n      <th>1</th>\n      <td>2020-09-02</td>\n      <td>2</td>\n      <td>0</td>\n      <td>0</td>\n      <td>19567</td>\n      <td>2020-09-02</td>\n      <td>2020-12-31</td>\n      <td>0.0</td>\n    </tr>\n    <tr>\n      <th>2</th>\n      <td>2020-09-03</td>\n      <td>3</td>\n      <td>0</td>\n      <td>0</td>\n      <td>19567</td>\n      <td>2020-09-02</td>\n      <td>2020-12-31</td>\n      <td>0.0</td>\n    </tr>\n    <tr>\n      <th>3</th>\n      <td>2020-09-04</td>\n      <td>4</td>\n      <td>0</td>\n      <td>0</td>\n      <td>19567</td>\n      <td>2020-09-02</td>\n      <td>2020-12-31</td>\n      <td>0.0</td>\n    </tr>\n    <tr>\n      <th>4</th>\n      <td>2020-09-05</td>\n      <td>5</td>\n      <td>0</td>\n      <td>0</td>\n      <td>19567</td>\n      <td>2020-09-02</td>\n      <td>2020-12-31</td>\n      <td>NaN</td>\n    </tr>\n    <tr>\n      <th>...</th>\n      <td>...</td>\n      <td>...</td>\n      <td>...</td>\n      <td>...</td>\n      <td>...</td>\n      <td>...</td>\n      <td>...</td>\n      <td>...</td>\n    </tr>\n    <tr>\n      <th>117</th>\n      <td>2020-12-27</td>\n      <td>6</td>\n      <td>16</td>\n      <td>8</td>\n      <td>19567</td>\n      <td>2020-09-02</td>\n      <td>2020-12-31</td>\n      <td>NaN</td>\n    </tr>\n    <tr>\n      <th>118</th>\n      <td>2020-12-28</td>\n      <td>0</td>\n      <td>17</td>\n      <td>8</td>\n      <td>19567</td>\n      <td>2020-09-02</td>\n      <td>2020-12-31</td>\n      <td>0.0</td>\n    </tr>\n    <tr>\n      <th>119</th>\n      <td>2020-12-29</td>\n      <td>1</td>\n      <td>17</td>\n      <td>8</td>\n      <td>19567</td>\n      <td>2020-09-02</td>\n      <td>2020-12-31</td>\n      <td>0.0</td>\n    </tr>\n    <tr>\n      <th>120</th>\n      <td>2020-12-30</td>\n      <td>2</td>\n      <td>17</td>\n      <td>8</td>\n      <td>19567</td>\n      <td>2020-09-02</td>\n      <td>2020-12-31</td>\n      <td>0.0</td>\n    </tr>\n    <tr>\n      <th>121</th>\n      <td>2020-12-31</td>\n      <td>3</td>\n      <td>17</td>\n      <td>8</td>\n      <td>19567</td>\n      <td>2020-09-02</td>\n      <td>2020-12-31</td>\n      <td>0.0</td>\n    </tr>\n  </tbody>\n</table>\n<p>122 rows × 8 columns</p>\n</div>"
     },
     "execution_count": 36,
     "metadata": {},
     "output_type": "execute_result"
    }
   ],
   "source": [
    "dash_merged[dash_merged['tab_num'] == df.tab_num.to_list()[5]]"
   ],
   "metadata": {
    "collapsed": false,
    "pycharm": {
     "name": "#%%\n"
    }
   }
  },
  {
   "cell_type": "code",
   "execution_count": 37,
   "outputs": [],
   "source": [
    "# TO-DO поменять формат даты"
   ],
   "metadata": {
    "collapsed": false,
    "pycharm": {
     "name": "#%%\n"
    }
   }
  },
  {
   "cell_type": "code",
   "execution_count": 39,
   "outputs": [
    {
     "data": {
      "text/plain": "    tab_num   ymd_date  to_be_at_office\n0     15123 2020-09-01              NaN\n1     15123 2020-09-02              1.0\n2     15123 2020-09-03              1.0\n3     15123 2020-09-04              1.0\n4     15123 2020-09-05              NaN\n..      ...        ...              ...\n605   19567 2020-12-27              NaN\n606   19567 2020-12-28              0.0\n607   19567 2020-12-29              0.0\n608   19567 2020-12-30              0.0\n609   19567 2020-12-31              0.0\n\n[610 rows x 3 columns]",
      "text/html": "<div>\n<style scoped>\n    .dataframe tbody tr th:only-of-type {\n        vertical-align: middle;\n    }\n\n    .dataframe tbody tr th {\n        vertical-align: top;\n    }\n\n    .dataframe thead th {\n        text-align: right;\n    }\n</style>\n<table border=\"1\" class=\"dataframe\">\n  <thead>\n    <tr style=\"text-align: right;\">\n      <th></th>\n      <th>tab_num</th>\n      <th>ymd_date</th>\n      <th>to_be_at_office</th>\n    </tr>\n  </thead>\n  <tbody>\n    <tr>\n      <th>0</th>\n      <td>15123</td>\n      <td>2020-09-01</td>\n      <td>NaN</td>\n    </tr>\n    <tr>\n      <th>1</th>\n      <td>15123</td>\n      <td>2020-09-02</td>\n      <td>1.0</td>\n    </tr>\n    <tr>\n      <th>2</th>\n      <td>15123</td>\n      <td>2020-09-03</td>\n      <td>1.0</td>\n    </tr>\n    <tr>\n      <th>3</th>\n      <td>15123</td>\n      <td>2020-09-04</td>\n      <td>1.0</td>\n    </tr>\n    <tr>\n      <th>4</th>\n      <td>15123</td>\n      <td>2020-09-05</td>\n      <td>NaN</td>\n    </tr>\n    <tr>\n      <th>...</th>\n      <td>...</td>\n      <td>...</td>\n      <td>...</td>\n    </tr>\n    <tr>\n      <th>605</th>\n      <td>19567</td>\n      <td>2020-12-27</td>\n      <td>NaN</td>\n    </tr>\n    <tr>\n      <th>606</th>\n      <td>19567</td>\n      <td>2020-12-28</td>\n      <td>0.0</td>\n    </tr>\n    <tr>\n      <th>607</th>\n      <td>19567</td>\n      <td>2020-12-29</td>\n      <td>0.0</td>\n    </tr>\n    <tr>\n      <th>608</th>\n      <td>19567</td>\n      <td>2020-12-30</td>\n      <td>0.0</td>\n    </tr>\n    <tr>\n      <th>609</th>\n      <td>19567</td>\n      <td>2020-12-31</td>\n      <td>0.0</td>\n    </tr>\n  </tbody>\n</table>\n<p>610 rows × 3 columns</p>\n</div>"
     },
     "execution_count": 39,
     "metadata": {},
     "output_type": "execute_result"
    }
   ],
   "source": [
    "dash_merged[['tab_num', 'ymd_date', 'to_be_at_office']].sort_values(by=['tab_num', 'ymd_date']).reset_index(drop=True)"
   ],
   "metadata": {
    "collapsed": false,
    "pycharm": {
     "name": "#%%\n"
    }
   }
  },
  {
   "cell_type": "code",
   "execution_count": null,
   "outputs": [],
   "source": [],
   "metadata": {
    "collapsed": false,
    "pycharm": {
     "name": "#%%\n"
    }
   }
  }
 ],
 "metadata": {
  "kernelspec": {
   "display_name": "Python 3",
   "language": "python",
   "name": "python3"
  },
  "language_info": {
   "codemirror_mode": {
    "name": "ipython",
    "version": 2
   },
   "file_extension": ".py",
   "mimetype": "text/x-python",
   "name": "python",
   "nbconvert_exporter": "python",
   "pygments_lexer": "ipython2",
   "version": "2.7.6"
  }
 },
 "nbformat": 4,
 "nbformat_minor": 0
}